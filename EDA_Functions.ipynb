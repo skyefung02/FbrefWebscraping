{
 "cells": [
  {
   "cell_type": "markdown",
   "metadata": {},
   "source": [
    "# List of Functions for EDA"
   ]
  },
  {
   "cell_type": "code",
   "execution_count": null,
   "metadata": {},
   "outputs": [],
   "source": [
    "import pandas as pd \n",
    "import numpy as np\n",
    "import os\n",
    "import matplotlib.pyplot as plt"
   ]
  },
  {
   "cell_type": "markdown",
   "metadata": {},
   "source": [
    "## Scatter Plot "
   ]
  },
  {
   "cell_type": "code",
   "execution_count": null,
   "metadata": {},
   "outputs": [],
   "source": [
    "#the scatter_plot function takes in a dataframe and two features (column names as strings) as arguments, and outputs a scatter plot representing\n",
    "#the relationship between these two features as well as the correlation between them. \n",
    "\n",
    "def scatter_plot(df, feature1, feature2):\n",
    "    correlation = df[feature1].corr(df[feature2])\n",
    "    \n",
    "    plt.figure()\n",
    "    plt.scatter(df[feature1], df[feature2], alpha = 0.1)\n",
    "    plt.title(f'Scatter Plot of {feature1} vs {feature2}')\n",
    "    plt.xlabel(feature1)\n",
    "    plt.ylabel(feature2)\n",
    "    \n",
    "    plt.text(0.1, 0.9, f'Correlation: {correlation:.2f}', \n",
    "         transform=plt.gca().transAxes, fontsize=12, \n",
    "         bbox=dict(facecolor='white', alpha=0.5, edgecolor='black'))\n",
    "\n",
    "    plt.show()"
   ]
  },
  {
   "cell_type": "markdown",
   "metadata": {},
   "source": [
    "## Box Plots"
   ]
  },
  {
   "cell_type": "code",
   "execution_count": null,
   "metadata": {},
   "outputs": [],
   "source": [
    "#the grouped_boxplot functions allows us to construct a box plot which compares the distribution of some feature (argument 2) when grouping the \n",
    "#observations by some other feature (group_feature - argument 3). for example, we would use this function to constructa boxplot which allows \n",
    "#us to compare the distribution of xG when grouping the observations by the number of goals scored. this is useful because it allows us \n",
    "#to identify whether or not there is any significant relationship between the feature of interest and goals/assists or any other target variable\n",
    "\n",
    "def grouped_boxplot (df, feature, group_feature):\n",
    "    plt.figure()\n",
    "    df.boxplot(column = feature, by = group_feature, grid = False, showmeans = True)\n",
    "    plt.title(f'Box Plot of {feature} vs {group_feature}')\n",
    "    plt.suptitle('')\n",
    "    plt.xlabel(group_feature)\n",
    "    plt.ylabel(feature)\n",
    "    plt.show()"
   ]
  },
  {
   "cell_type": "code",
   "execution_count": null,
   "metadata": {},
   "outputs": [],
   "source": [
    "#category_boxplot is a slightly different function which groups observation based on whether or not group_feature is zero/non-zero. For example, we\n",
    "#may group observations that have 0 goals together, and observations that have at least 1 goal together. This function also prints the mean/median\n",
    "#of the feature of interest. The text_diff argument specifies vertical distance between the text which prints the median and the text which prints\n",
    "#the mean (we may want to change this value if the text is overlapping)\n",
    "\n",
    "def category_boxplot (df, feature, group_feature, text_diff = 2):\n",
    "    #create figure\n",
    "    plt.figure()\n",
    "    \n",
    "    #prep data by grouping into two categories\n",
    "    data = [df[df[group_feature] == 0][feature],   # Goals == 0\n",
    "        df[df[group_feature] != 0][feature]]   # Goals != 0\n",
    "    \n",
    "    #create boxplot\n",
    "    plt.boxplot(data, labels = [f'0 {group_feature}', f'Non-zero {group_feature}'], showmeans = True)\n",
    "    plt.title(f'Box Plot of {feature} vs {group_feature} Category')\n",
    "    plt.xlabel(f'{group_feature} Category')\n",
    "    plt.ylabel(feature)\n",
    "    \n",
    "    #print mean/median \n",
    "    for i in range(len(data)):\n",
    "        # Median (the horizontal line in the box)\n",
    "        median = np.median(data[i])\n",
    "        plt.text(i + 1.2, median, f'Median: {median:.2f}', ha='left', va='bottom', color='blue')\n",
    "\n",
    "        # Mean (the green triangle in the boxplot)\n",
    "        mean = np.mean(data[i])\n",
    "        plt.text(i + 1.2, mean + text_diff, f'Mean: {mean:.2f}', ha='left', va='top', color='green')\n",
    "\n",
    "    plt.show()"
   ]
  }
 ],
 "metadata": {
  "kernelspec": {
   "display_name": "myenv",
   "language": "python",
   "name": "python3"
  },
  "language_info": {
   "codemirror_mode": {
    "name": "ipython",
    "version": 3
   },
   "file_extension": ".py",
   "mimetype": "text/x-python",
   "name": "python",
   "nbconvert_exporter": "python",
   "pygments_lexer": "ipython3",
   "version": "3.10.13"
  }
 },
 "nbformat": 4,
 "nbformat_minor": 2
}
