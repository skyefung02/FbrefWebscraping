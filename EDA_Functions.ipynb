{
 "cells": [
  {
   "cell_type": "markdown",
   "metadata": {},
   "source": [
    "# List of Functions for EDA"
   ]
  },
  {
   "cell_type": "code",
   "execution_count": null,
   "metadata": {},
   "outputs": [],
   "source": [
    "import pandas as pd \n",
    "import numpy as np\n",
    "import os\n",
    "import matplotlib.pyplot as plt"
   ]
  },
  {
   "cell_type": "markdown",
   "metadata": {},
   "source": [
    "## Scatter Plot "
   ]
  },
  {
   "cell_type": "code",
   "execution_count": null,
   "metadata": {},
   "outputs": [],
   "source": [
    "#the scatter_plot function takes in a dataframe and two features (column names as strings) as arguments, and outputs a scatter plot representing\n",
    "#the relationship between these two features as well as the correlation between them. \n",
    "\n",
    "def scatter_plot(df, feature1, feature2):\n",
    "    correlation = df[feature1].corr(df[feature2])\n",
    "    \n",
    "    plt.figure()\n",
    "    plt.scatter(df[feature1], df[feature2], alpha = 0.1)\n",
    "    plt.title(f'Scatter Plot of {feature1} vs {feature2}')\n",
    "    plt.xlabel(feature1)\n",
    "    plt.ylabel(feature2)\n",
    "    \n",
    "    plt.text(0.1, 0.9, f'Correlation: {correlation:.2f}', \n",
    "         transform=plt.gca().transAxes, fontsize=12, \n",
    "         bbox=dict(facecolor='white', alpha=0.5, edgecolor='black'))\n",
    "\n",
    "    plt.show()"
   ]
  },
  {
   "cell_type": "markdown",
   "metadata": {},
   "source": [
    "## Box Plots"
   ]
  },
  {
   "cell_type": "code",
   "execution_count": null,
   "metadata": {},
   "outputs": [],
   "source": [
    "#the grouped_boxplot functions allows us to construct a box plot which compares the distribution of some feature (argument 2) when grouping the \n",
    "#observations by some other feature (group_feature - argument 3). for example, we would use this function to constructa boxplot which allows \n",
    "#us to compare the distribution of xG when grouping the observations by the number of goals scored. this is useful because it allows us \n",
    "#to identify whether or not there is any significant relationship between the feature of interest and goals/assists or any other target variable\n",
    "\n",
    "def grouped_boxplot (df, feature, group_feature):\n",
    "    plt.figure()\n",
    "    df.boxplot(column = feature, by = group_feature, grid = False, showmeans = True)\n",
    "    plt.title(f'Box Plot of {feature} vs {group_feature}')\n",
    "    plt.suptitle('')\n",
    "    plt.xlabel(group_feature)\n",
    "    plt.ylabel(feature)\n",
    "    plt.show()"
   ]
  },
  {
   "cell_type": "code",
   "execution_count": null,
   "metadata": {},
   "outputs": [],
   "source": [
    "#category_boxplot is a slightly different function which groups observation based on whether or not group_feature is zero/non-zero. For example, we\n",
    "#may group observations that have 0 goals together, and observations that have at least 1 goal together. This function also prints the mean/median\n",
    "#of the feature of interest. The text_diff argument specifies vertical distance between the text which prints the median and the text which prints\n",
    "#the mean (we may want to change this value if the text is overlapping)\n",
    "\n",
    "def category_boxplot (df, feature, group_feature, text_diff = 2, dropna = False):\n",
    "    #create figure\n",
    "    plt.figure()\n",
    "    \n",
    "    #prep data by grouping into two categories\n",
    "    if dropna == False:\n",
    "        data = [df[df[group_feature] == 0][feature],   # Goals == 0\n",
    "            df[df[group_feature] != 0][feature]]   # Goals != 0\n",
    "    else: \n",
    "        data = [df[df[group_feature] == 0][feature].dropna(),   # Goals == 0\n",
    "            df[df[group_feature] != 0][feature].dropna()]   # Goals != 0\n",
    "    \n",
    "    #create boxplot\n",
    "    plt.boxplot(data, labels = [f'0 {group_feature}', f'Non-zero {group_feature}'], showmeans = True)\n",
    "    plt.title(f'Box Plot of {feature} vs {group_feature} Category')\n",
    "    plt.xlabel(f'{group_feature} Category')\n",
    "    plt.ylabel(feature)\n",
    "    \n",
    "    #print mean/median \n",
    "    for i in range(len(data)):\n",
    "        # Median (the horizontal line in the box)\n",
    "        median = np.median(data[i])\n",
    "        plt.text(i + 1.2, median, f'Median: {median:.2f}', ha='left', va='bottom', color='blue')\n",
    "\n",
    "        # Mean (the green triangle in the boxplot)\n",
    "        mean = np.mean(data[i])\n",
    "        plt.text(i + 1.2, mean + text_diff, f'Mean: {mean:.2f}', ha='left', va='top', color='green')\n",
    "\n",
    "    plt.show()"
   ]
  },
  {
   "cell_type": "markdown",
   "metadata": {},
   "source": [
    "## Frequency Plots (Histograms)"
   ]
  },
  {
   "cell_type": "code",
   "execution_count": null,
   "metadata": {},
   "outputs": [],
   "source": [
    "#freq_plot allows us to construct a histogram/bar plot, depending on the frequency of the variable we wish to visualise. If we wish to plot the \n",
    "#frequency of a feature in a dataframe, then we need to specify the dataframe that the feature comes from (df argument). If not (i.e. if we want\n",
    "# to visualise the frequency of a series of values, then ignore the df argument, as this is initialised to a default value of 'None'). In the case\n",
    "#that we are constructing a histogram/bar plot of a series of values, then we need to specify the plot_title argument (usually this will just be \n",
    "# the name of series of values e.g. Carries per 90)\n",
    "\n",
    "def freq_plot(feature, bin_number, plot_title = None, df = None, font_size = 7, text_rotate = 0):\n",
    "    if df is not None:\n",
    "        plt.figure()\n",
    "        plt.hist(df[feature], bins = bin_number, width = 0.8, align = 'mid')\n",
    "        plt.title(f'Histogram of {feature} Values')\n",
    "        plt.xlabel(feature)\n",
    "        plt.ylabel('Frequency')\n",
    "        plt.xticks(rotation = text_rotate, fontsize = font_size)\n",
    "        plt.show()\n",
    "    if plot_title is not None: \n",
    "        plt.figure()\n",
    "        plt.hist(feature, bins = bin_number)\n",
    "        plt.title(f'Histogram of {plot_title}')\n",
    "        plt.xlabel(plot_title)\n",
    "        plt.ylabel('Frequency')\n",
    "        plt.xticks(rotation = text_rotate, fontsize = font_size)\n",
    "        plt.show()"
   ]
  },
  {
   "cell_type": "code",
   "execution_count": 5,
   "metadata": {},
   "outputs": [],
   "source": [
    "#discrete_freq_plot should be used instead of freq_plot if we want to visualise the frequency of a variable that has discrete values (i.e. we don't\n",
    "# need to bin the values). the xticks argument controls whether or not the x-axis labels need to spaced out. if the discrete values in the variable \n",
    "# are quite limited (i.e. they only range from 0 to 10), then we don't need to mess with the x-axis lables. However, if the x-axis labels span quite\n",
    "# a large range (i.e. the Touches feature has min value 0 and max value 193), if we just leave it alone, then the x-axis labels will be bunched up. \n",
    "#Therefore, we need to set this argument to True to make sure that the x-axis labels have intervals between them. The diff argument controls how far \n",
    "#between each x-axis label (if setting diff = 5, then we will have x-axis labels going from 0 to 5 to 10...)\n",
    "\n",
    "def discrete_freq_plot(feature, df, font_size = 7, text_rotate = 0, xticks = False, diff = 1):\n",
    "    #get the value counts\n",
    "    counts = df[feature].value_counts().sort_index()\n",
    "    \n",
    "    fig, ax = plt.subplots()\n",
    "    counts.plot(kind = 'bar', alpha = 0.7)\n",
    "    ax.set_xlabel(feature)\n",
    "    ax.set_ylabel('Frequency')\n",
    "    ax.set_title(f'Frequency of {feature}')\n",
    "    \n",
    "    if xticks == True:\n",
    "        range_min = df[feature].min()\n",
    "        range_max = df[feature].max()\n",
    "        ax.set_xticks(range(range_min, range_max + diff, diff))\n",
    "        ax.set_xticklabels(range(range_min, range_max + diff, diff))\n",
    "    \n",
    "    plt.xticks(rotation = text_rotate, fontsize = font_size)\n",
    "    plt.show()\n"
   ]
  }
 ],
 "metadata": {
  "kernelspec": {
   "display_name": "myenv",
   "language": "python",
   "name": "python3"
  },
  "language_info": {
   "codemirror_mode": {
    "name": "ipython",
    "version": 3
   },
   "file_extension": ".py",
   "mimetype": "text/x-python",
   "name": "python",
   "nbconvert_exporter": "python",
   "pygments_lexer": "ipython3",
   "version": "3.10.13"
  }
 },
 "nbformat": 4,
 "nbformat_minor": 2
}
