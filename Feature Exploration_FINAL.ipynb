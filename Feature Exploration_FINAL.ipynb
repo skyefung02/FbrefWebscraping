{
 "cells": [
  {
   "cell_type": "markdown",
   "metadata": {},
   "source": [
    "# Final Feature Exploration"
   ]
  },
  {
   "cell_type": "markdown",
   "metadata": {},
   "source": [
    "Having done initial exploration for all of the features in the dataset, we now collate the features that we identified as potentially promising in helping to predict/explain goals scored. We then perform more data exploration with the promising features to either perform further feature engineering, or to eliminate additional features. "
   ]
  },
  {
   "cell_type": "code",
   "execution_count": 10,
   "metadata": {},
   "outputs": [],
   "source": [
    "import pandas as pd \n",
    "import numpy as np\n",
    "import os\n",
    "import matplotlib.pyplot as plt"
   ]
  },
  {
   "cell_type": "code",
   "execution_count": null,
   "metadata": {},
   "outputs": [],
   "source": [
    "#we also load this in, just in case we need any deleted features for feature engineering purposes \n",
    "att_explore = pd.read_csv('att_explore.csv')"
   ]
  },
  {
   "cell_type": "code",
   "execution_count": 47,
   "metadata": {},
   "outputs": [
    {
     "data": {
      "text/html": [
       "<div>\n",
       "<style scoped>\n",
       "    .dataframe tbody tr th:only-of-type {\n",
       "        vertical-align: middle;\n",
       "    }\n",
       "\n",
       "    .dataframe tbody tr th {\n",
       "        vertical-align: top;\n",
       "    }\n",
       "\n",
       "    .dataframe thead th {\n",
       "        text-align: right;\n",
       "    }\n",
       "</style>\n",
       "<table border=\"1\" class=\"dataframe\">\n",
       "  <thead>\n",
       "    <tr style=\"text-align: right;\">\n",
       "      <th></th>\n",
       "      <th>Unnamed: 0</th>\n",
       "      <th>Player ID</th>\n",
       "      <th>Day</th>\n",
       "      <th>Matchweek</th>\n",
       "      <th>Venue</th>\n",
       "      <th>Result</th>\n",
       "      <th>Team</th>\n",
       "      <th>Opponent</th>\n",
       "      <th>Start</th>\n",
       "      <th>Position</th>\n",
       "      <th>...</th>\n",
       "      <th>kickoff_time</th>\n",
       "      <th>own_goals</th>\n",
       "      <th>saves</th>\n",
       "      <th>selected</th>\n",
       "      <th>threat</th>\n",
       "      <th>total_points</th>\n",
       "      <th>transfers_balance</th>\n",
       "      <th>transfers_in</th>\n",
       "      <th>transfers_out</th>\n",
       "      <th>value</th>\n",
       "    </tr>\n",
       "  </thead>\n",
       "  <tbody>\n",
       "    <tr>\n",
       "      <th>0</th>\n",
       "      <td>10000</td>\n",
       "      <td>140</td>\n",
       "      <td>Sun</td>\n",
       "      <td>32</td>\n",
       "      <td>Away</td>\n",
       "      <td>L 1–2</td>\n",
       "      <td>Crystal Palace</td>\n",
       "      <td>Leicester City</td>\n",
       "      <td>Y</td>\n",
       "      <td>DM</td>\n",
       "      <td>...</td>\n",
       "      <td>2022-04-10 13:00:00+00:00</td>\n",
       "      <td>0</td>\n",
       "      <td>0</td>\n",
       "      <td>6955</td>\n",
       "      <td>36.0</td>\n",
       "      <td>2</td>\n",
       "      <td>27</td>\n",
       "      <td>343</td>\n",
       "      <td>316</td>\n",
       "      <td>54</td>\n",
       "    </tr>\n",
       "    <tr>\n",
       "      <th>1</th>\n",
       "      <td>24977</td>\n",
       "      <td>340</td>\n",
       "      <td>Sat</td>\n",
       "      <td>29</td>\n",
       "      <td>Away</td>\n",
       "      <td>L 1–2</td>\n",
       "      <td>Bournemouth</td>\n",
       "      <td>Liverpool</td>\n",
       "      <td>N</td>\n",
       "      <td>LW</td>\n",
       "      <td>...</td>\n",
       "      <td>2020-03-07 12:30:00+00:00</td>\n",
       "      <td>0</td>\n",
       "      <td>0</td>\n",
       "      <td>24392</td>\n",
       "      <td>0.0</td>\n",
       "      <td>1</td>\n",
       "      <td>-359</td>\n",
       "      <td>133</td>\n",
       "      <td>492</td>\n",
       "      <td>52</td>\n",
       "    </tr>\n",
       "    <tr>\n",
       "      <th>2</th>\n",
       "      <td>37756</td>\n",
       "      <td>498</td>\n",
       "      <td>Sun</td>\n",
       "      <td>37</td>\n",
       "      <td>Away</td>\n",
       "      <td>D 0–0</td>\n",
       "      <td>Huddersfield</td>\n",
       "      <td>Manchester City</td>\n",
       "      <td>Y</td>\n",
       "      <td>CM</td>\n",
       "      <td>...</td>\n",
       "      <td>2018-05-06 12:30:00+00:00</td>\n",
       "      <td>0</td>\n",
       "      <td>0</td>\n",
       "      <td>10349</td>\n",
       "      <td>0.0</td>\n",
       "      <td>3</td>\n",
       "      <td>-47</td>\n",
       "      <td>129</td>\n",
       "      <td>176</td>\n",
       "      <td>44</td>\n",
       "    </tr>\n",
       "    <tr>\n",
       "      <th>3</th>\n",
       "      <td>18759</td>\n",
       "      <td>262</td>\n",
       "      <td>Sun</td>\n",
       "      <td>34</td>\n",
       "      <td>Away</td>\n",
       "      <td>D 2–2</td>\n",
       "      <td>Southampton</td>\n",
       "      <td>Brighton</td>\n",
       "      <td>N</td>\n",
       "      <td>LM</td>\n",
       "      <td>...</td>\n",
       "      <td>2022-04-24 13:00:00+00:00</td>\n",
       "      <td>0</td>\n",
       "      <td>0</td>\n",
       "      <td>19229</td>\n",
       "      <td>5.0</td>\n",
       "      <td>1</td>\n",
       "      <td>-1446</td>\n",
       "      <td>288</td>\n",
       "      <td>1734</td>\n",
       "      <td>58</td>\n",
       "    </tr>\n",
       "    <tr>\n",
       "      <th>4</th>\n",
       "      <td>168</td>\n",
       "      <td>3</td>\n",
       "      <td>Sun</td>\n",
       "      <td>38</td>\n",
       "      <td>Home</td>\n",
       "      <td>W 5–0</td>\n",
       "      <td>Manchester City</td>\n",
       "      <td>Norwich City</td>\n",
       "      <td>Y*</td>\n",
       "      <td>LM</td>\n",
       "      <td>...</td>\n",
       "      <td>2020-07-26 15:00:00+00:00</td>\n",
       "      <td>0</td>\n",
       "      <td>0</td>\n",
       "      <td>801163</td>\n",
       "      <td>101.0</td>\n",
       "      <td>3</td>\n",
       "      <td>198047</td>\n",
       "      <td>228466</td>\n",
       "      <td>30419</td>\n",
       "      <td>75</td>\n",
       "    </tr>\n",
       "  </tbody>\n",
       "</table>\n",
       "<p>5 rows × 109 columns</p>\n",
       "</div>"
      ],
      "text/plain": [
       "   Unnamed: 0  Player ID  Day  Matchweek Venue Result             Team  \\\n",
       "0       10000        140  Sun         32  Away  L 1–2   Crystal Palace   \n",
       "1       24977        340  Sat         29  Away  L 1–2      Bournemouth   \n",
       "2       37756        498  Sun         37  Away  D 0–0     Huddersfield   \n",
       "3       18759        262  Sun         34  Away  D 2–2      Southampton   \n",
       "4         168          3  Sun         38  Home  W 5–0  Manchester City   \n",
       "\n",
       "          Opponent Start Position  ...               kickoff_time  own_goals  \\\n",
       "0   Leicester City     Y       DM  ...  2022-04-10 13:00:00+00:00          0   \n",
       "1        Liverpool     N       LW  ...  2020-03-07 12:30:00+00:00          0   \n",
       "2  Manchester City     Y       CM  ...  2018-05-06 12:30:00+00:00          0   \n",
       "3         Brighton     N       LM  ...  2022-04-24 13:00:00+00:00          0   \n",
       "4     Norwich City    Y*       LM  ...  2020-07-26 15:00:00+00:00          0   \n",
       "\n",
       "   saves  selected  threat  total_points  transfers_balance  transfers_in  \\\n",
       "0      0      6955    36.0             2                 27           343   \n",
       "1      0     24392     0.0             1               -359           133   \n",
       "2      0     10349     0.0             3                -47           129   \n",
       "3      0     19229     5.0             1              -1446           288   \n",
       "4      0    801163   101.0             3             198047        228466   \n",
       "\n",
       "   transfers_out  value  \n",
       "0            316     54  \n",
       "1            492     52  \n",
       "2            176     44  \n",
       "3           1734     58  \n",
       "4          30419     75  \n",
       "\n",
       "[5 rows x 109 columns]"
      ]
     },
     "execution_count": 47,
     "metadata": {},
     "output_type": "execute_result"
    }
   ],
   "source": [
    "#load the att_explore dataframe in \n",
    "att_final = pd.read_csv('att_explore_original.csv')\n",
    "att_final.head()"
   ]
  },
  {
   "cell_type": "markdown",
   "metadata": {},
   "source": [
    "# EDA Functions"
   ]
  },
  {
   "cell_type": "code",
   "execution_count": 218,
   "metadata": {},
   "outputs": [],
   "source": [
    "def grouped_boxplot (df, feature, group_feature):\n",
    "    plt.figure()\n",
    "    df.boxplot(column = feature, by = group_feature, grid = False, showmeans = True)\n",
    "    plt.title(f'Box Plot of {feature} vs {group_feature}')\n",
    "    plt.suptitle('')\n",
    "    plt.xlabel(group_feature)\n",
    "    plt.ylabel(feature)\n",
    "    plt.show()"
   ]
  },
  {
   "cell_type": "code",
   "execution_count": 217,
   "metadata": {},
   "outputs": [],
   "source": [
    "def category_boxplot (df, feature, group_feature, text_diff = 2, dropna = False):\n",
    "    #create figure\n",
    "    plt.figure()\n",
    "    \n",
    "    #prep data by grouping into two categories\n",
    "    if dropna == False:\n",
    "        data = [df[df[group_feature] == 0][feature],   # Goals == 0\n",
    "            df[df[group_feature] != 0][feature]]   # Goals != 0\n",
    "    else: \n",
    "        data = [df[df[group_feature] == 0][feature].dropna(),   # Goals == 0\n",
    "            df[df[group_feature] != 0][feature].dropna()]   # Goals != 0\n",
    "    \n",
    "    #create boxplot\n",
    "    plt.boxplot(data, labels = [f'0 {group_feature}', f'Non-zero {group_feature}'], showmeans = True)\n",
    "    plt.title(f'Box Plot of {feature} vs {group_feature} Category')\n",
    "    plt.xlabel(f'{group_feature} Category')\n",
    "    plt.ylabel(feature)\n",
    "    \n",
    "    #print mean/median \n",
    "    for i in range(len(data)):\n",
    "        # Median (the horizontal line in the box)\n",
    "        median = np.median(data[i])\n",
    "        plt.text(i + 1.2, median, f'Median: {median:.2f}', ha='left', va='bottom', color='blue')\n",
    "\n",
    "        # Mean (the green triangle in the boxplot)\n",
    "        mean = np.mean(data[i])\n",
    "        plt.text(i + 1.2, mean + text_diff, f'Mean: {mean:.2f}', ha='left', va='top', color='green')\n",
    "\n",
    "    plt.show()"
   ]
  },
  {
   "cell_type": "markdown",
   "metadata": {},
   "source": [
    "## Feature Summaries"
   ]
  },
  {
   "cell_type": "markdown",
   "metadata": {},
   "source": [
    "### General Features"
   ]
  },
  {
   "cell_type": "code",
   "execution_count": 48,
   "metadata": {},
   "outputs": [
    {
     "data": {
      "text/html": [
       "<div>\n",
       "<style scoped>\n",
       "    .dataframe tbody tr th:only-of-type {\n",
       "        vertical-align: middle;\n",
       "    }\n",
       "\n",
       "    .dataframe tbody tr th {\n",
       "        vertical-align: top;\n",
       "    }\n",
       "\n",
       "    .dataframe thead th {\n",
       "        text-align: right;\n",
       "    }\n",
       "</style>\n",
       "<table border=\"1\" class=\"dataframe\">\n",
       "  <thead>\n",
       "    <tr style=\"text-align: right;\">\n",
       "      <th></th>\n",
       "      <th>Player ID</th>\n",
       "      <th>Day</th>\n",
       "      <th>Matchweek</th>\n",
       "      <th>Venue</th>\n",
       "      <th>Result</th>\n",
       "      <th>Team</th>\n",
       "      <th>Opponent</th>\n",
       "      <th>Start</th>\n",
       "      <th>Position</th>\n",
       "      <th>Minutes Played</th>\n",
       "      <th>...</th>\n",
       "      <th>kickoff_time</th>\n",
       "      <th>own_goals</th>\n",
       "      <th>saves</th>\n",
       "      <th>selected</th>\n",
       "      <th>threat</th>\n",
       "      <th>total_points</th>\n",
       "      <th>transfers_balance</th>\n",
       "      <th>transfers_in</th>\n",
       "      <th>transfers_out</th>\n",
       "      <th>value</th>\n",
       "    </tr>\n",
       "  </thead>\n",
       "  <tbody>\n",
       "    <tr>\n",
       "      <th>0</th>\n",
       "      <td>140</td>\n",
       "      <td>Sun</td>\n",
       "      <td>32</td>\n",
       "      <td>Away</td>\n",
       "      <td>L 1–2</td>\n",
       "      <td>Crystal Palace</td>\n",
       "      <td>Leicester City</td>\n",
       "      <td>Y</td>\n",
       "      <td>DM</td>\n",
       "      <td>90</td>\n",
       "      <td>...</td>\n",
       "      <td>2022-04-10 13:00:00+00:00</td>\n",
       "      <td>0</td>\n",
       "      <td>0</td>\n",
       "      <td>6955</td>\n",
       "      <td>36.0</td>\n",
       "      <td>2</td>\n",
       "      <td>27</td>\n",
       "      <td>343</td>\n",
       "      <td>316</td>\n",
       "      <td>54</td>\n",
       "    </tr>\n",
       "    <tr>\n",
       "      <th>1</th>\n",
       "      <td>340</td>\n",
       "      <td>Sat</td>\n",
       "      <td>29</td>\n",
       "      <td>Away</td>\n",
       "      <td>L 1–2</td>\n",
       "      <td>Bournemouth</td>\n",
       "      <td>Liverpool</td>\n",
       "      <td>N</td>\n",
       "      <td>LW</td>\n",
       "      <td>23</td>\n",
       "      <td>...</td>\n",
       "      <td>2020-03-07 12:30:00+00:00</td>\n",
       "      <td>0</td>\n",
       "      <td>0</td>\n",
       "      <td>24392</td>\n",
       "      <td>0.0</td>\n",
       "      <td>1</td>\n",
       "      <td>-359</td>\n",
       "      <td>133</td>\n",
       "      <td>492</td>\n",
       "      <td>52</td>\n",
       "    </tr>\n",
       "    <tr>\n",
       "      <th>2</th>\n",
       "      <td>498</td>\n",
       "      <td>Sun</td>\n",
       "      <td>37</td>\n",
       "      <td>Away</td>\n",
       "      <td>D 0–0</td>\n",
       "      <td>Huddersfield</td>\n",
       "      <td>Manchester City</td>\n",
       "      <td>Y</td>\n",
       "      <td>CM</td>\n",
       "      <td>90</td>\n",
       "      <td>...</td>\n",
       "      <td>2018-05-06 12:30:00+00:00</td>\n",
       "      <td>0</td>\n",
       "      <td>0</td>\n",
       "      <td>10349</td>\n",
       "      <td>0.0</td>\n",
       "      <td>3</td>\n",
       "      <td>-47</td>\n",
       "      <td>129</td>\n",
       "      <td>176</td>\n",
       "      <td>44</td>\n",
       "    </tr>\n",
       "    <tr>\n",
       "      <th>3</th>\n",
       "      <td>262</td>\n",
       "      <td>Sun</td>\n",
       "      <td>34</td>\n",
       "      <td>Away</td>\n",
       "      <td>D 2–2</td>\n",
       "      <td>Southampton</td>\n",
       "      <td>Brighton</td>\n",
       "      <td>N</td>\n",
       "      <td>LM</td>\n",
       "      <td>25</td>\n",
       "      <td>...</td>\n",
       "      <td>2022-04-24 13:00:00+00:00</td>\n",
       "      <td>0</td>\n",
       "      <td>0</td>\n",
       "      <td>19229</td>\n",
       "      <td>5.0</td>\n",
       "      <td>1</td>\n",
       "      <td>-1446</td>\n",
       "      <td>288</td>\n",
       "      <td>1734</td>\n",
       "      <td>58</td>\n",
       "    </tr>\n",
       "    <tr>\n",
       "      <th>4</th>\n",
       "      <td>3</td>\n",
       "      <td>Sun</td>\n",
       "      <td>38</td>\n",
       "      <td>Home</td>\n",
       "      <td>W 5–0</td>\n",
       "      <td>Manchester City</td>\n",
       "      <td>Norwich City</td>\n",
       "      <td>Y*</td>\n",
       "      <td>LM</td>\n",
       "      <td>84</td>\n",
       "      <td>...</td>\n",
       "      <td>2020-07-26 15:00:00+00:00</td>\n",
       "      <td>0</td>\n",
       "      <td>0</td>\n",
       "      <td>801163</td>\n",
       "      <td>101.0</td>\n",
       "      <td>3</td>\n",
       "      <td>198047</td>\n",
       "      <td>228466</td>\n",
       "      <td>30419</td>\n",
       "      <td>75</td>\n",
       "    </tr>\n",
       "  </tbody>\n",
       "</table>\n",
       "<p>5 rows × 108 columns</p>\n",
       "</div>"
      ],
      "text/plain": [
       "   Player ID  Day  Matchweek Venue Result             Team         Opponent  \\\n",
       "0        140  Sun         32  Away  L 1–2   Crystal Palace   Leicester City   \n",
       "1        340  Sat         29  Away  L 1–2      Bournemouth        Liverpool   \n",
       "2        498  Sun         37  Away  D 0–0     Huddersfield  Manchester City   \n",
       "3        262  Sun         34  Away  D 2–2      Southampton         Brighton   \n",
       "4          3  Sun         38  Home  W 5–0  Manchester City     Norwich City   \n",
       "\n",
       "  Start Position  Minutes Played  ...               kickoff_time  own_goals  \\\n",
       "0     Y       DM              90  ...  2022-04-10 13:00:00+00:00          0   \n",
       "1     N       LW              23  ...  2020-03-07 12:30:00+00:00          0   \n",
       "2     Y       CM              90  ...  2018-05-06 12:30:00+00:00          0   \n",
       "3     N       LM              25  ...  2022-04-24 13:00:00+00:00          0   \n",
       "4    Y*       LM              84  ...  2020-07-26 15:00:00+00:00          0   \n",
       "\n",
       "   saves  selected  threat  total_points  transfers_balance  transfers_in  \\\n",
       "0      0      6955    36.0             2                 27           343   \n",
       "1      0     24392     0.0             1               -359           133   \n",
       "2      0     10349     0.0             3                -47           129   \n",
       "3      0     19229     5.0             1              -1446           288   \n",
       "4      0    801163   101.0             3             198047        228466   \n",
       "\n",
       "   transfers_out  value  \n",
       "0            316     54  \n",
       "1            492     52  \n",
       "2            176     44  \n",
       "3           1734     58  \n",
       "4          30419     75  \n",
       "\n",
       "[5 rows x 108 columns]"
      ]
     },
     "execution_count": 48,
     "metadata": {},
     "output_type": "execute_result"
    }
   ],
   "source": [
    "#remove the Unnamed:0 column\n",
    "att_final = att_final.drop(columns=['Unnamed: 0'])\n",
    "\n",
    "#removing observations where 'Minutes Played = 0'\n",
    "att_final = att_final[att_final['Minutes Played'] != 0]\n",
    "att_final.head()"
   ]
  },
  {
   "cell_type": "markdown",
   "metadata": {},
   "source": [
    "There were also a series of features pertaining to the more defensive side of the game which we instantly ruled out from being potentially useful in explaining either goals or assists. We will remove these features right away. "
   ]
  },
  {
   "cell_type": "code",
   "execution_count": 49,
   "metadata": {},
   "outputs": [],
   "source": [
    "att_final = att_final.drop(columns = ['Tackles Won', 'Defensive Third Tackles', 'Middle Third Tackles', 'Attacking Third Tackles', 'Dribblers Tackled', 'Dribblers Tackled Attempts'\n",
    "                                      , 'Challenges Lost', 'Shots Blocked', 'Passes Blocked', 'Clearances', 'Defensive Errors', 'Miscontrols', 'Dispossessed'])"
   ]
  },
  {
   "cell_type": "markdown",
   "metadata": {},
   "source": [
    "From 'General_FeatureExplore', the following features were identified as promising. \n",
    "* Venue - We didn't really see a significant difference in the proportion of goalscoring observations when comparing 'Home and 'Away', but we know contextually that the venue is generally an important feature, so we will keep it for now"
   ]
  },
  {
   "cell_type": "code",
   "execution_count": 50,
   "metadata": {},
   "outputs": [
    {
     "data": {
      "text/html": [
       "<div>\n",
       "<style scoped>\n",
       "    .dataframe tbody tr th:only-of-type {\n",
       "        vertical-align: middle;\n",
       "    }\n",
       "\n",
       "    .dataframe tbody tr th {\n",
       "        vertical-align: top;\n",
       "    }\n",
       "\n",
       "    .dataframe thead th {\n",
       "        text-align: right;\n",
       "    }\n",
       "</style>\n",
       "<table border=\"1\" class=\"dataframe\">\n",
       "  <thead>\n",
       "    <tr style=\"text-align: right;\">\n",
       "      <th></th>\n",
       "      <th>Player ID</th>\n",
       "      <th>Venue</th>\n",
       "      <th>Result</th>\n",
       "      <th>Team</th>\n",
       "      <th>Opponent</th>\n",
       "      <th>Start</th>\n",
       "      <th>Position</th>\n",
       "      <th>Minutes Played</th>\n",
       "      <th>Goals</th>\n",
       "      <th>Assists</th>\n",
       "      <th>...</th>\n",
       "      <th>kickoff_time</th>\n",
       "      <th>own_goals</th>\n",
       "      <th>saves</th>\n",
       "      <th>selected</th>\n",
       "      <th>threat</th>\n",
       "      <th>total_points</th>\n",
       "      <th>transfers_balance</th>\n",
       "      <th>transfers_in</th>\n",
       "      <th>transfers_out</th>\n",
       "      <th>value</th>\n",
       "    </tr>\n",
       "  </thead>\n",
       "  <tbody>\n",
       "    <tr>\n",
       "      <th>0</th>\n",
       "      <td>140</td>\n",
       "      <td>Away</td>\n",
       "      <td>L 1–2</td>\n",
       "      <td>Crystal Palace</td>\n",
       "      <td>Leicester City</td>\n",
       "      <td>Y</td>\n",
       "      <td>DM</td>\n",
       "      <td>90</td>\n",
       "      <td>0</td>\n",
       "      <td>0</td>\n",
       "      <td>...</td>\n",
       "      <td>2022-04-10 13:00:00+00:00</td>\n",
       "      <td>0</td>\n",
       "      <td>0</td>\n",
       "      <td>6955</td>\n",
       "      <td>36.0</td>\n",
       "      <td>2</td>\n",
       "      <td>27</td>\n",
       "      <td>343</td>\n",
       "      <td>316</td>\n",
       "      <td>54</td>\n",
       "    </tr>\n",
       "    <tr>\n",
       "      <th>1</th>\n",
       "      <td>340</td>\n",
       "      <td>Away</td>\n",
       "      <td>L 1–2</td>\n",
       "      <td>Bournemouth</td>\n",
       "      <td>Liverpool</td>\n",
       "      <td>N</td>\n",
       "      <td>LW</td>\n",
       "      <td>23</td>\n",
       "      <td>0</td>\n",
       "      <td>0</td>\n",
       "      <td>...</td>\n",
       "      <td>2020-03-07 12:30:00+00:00</td>\n",
       "      <td>0</td>\n",
       "      <td>0</td>\n",
       "      <td>24392</td>\n",
       "      <td>0.0</td>\n",
       "      <td>1</td>\n",
       "      <td>-359</td>\n",
       "      <td>133</td>\n",
       "      <td>492</td>\n",
       "      <td>52</td>\n",
       "    </tr>\n",
       "    <tr>\n",
       "      <th>2</th>\n",
       "      <td>498</td>\n",
       "      <td>Away</td>\n",
       "      <td>D 0–0</td>\n",
       "      <td>Huddersfield</td>\n",
       "      <td>Manchester City</td>\n",
       "      <td>Y</td>\n",
       "      <td>CM</td>\n",
       "      <td>90</td>\n",
       "      <td>0</td>\n",
       "      <td>0</td>\n",
       "      <td>...</td>\n",
       "      <td>2018-05-06 12:30:00+00:00</td>\n",
       "      <td>0</td>\n",
       "      <td>0</td>\n",
       "      <td>10349</td>\n",
       "      <td>0.0</td>\n",
       "      <td>3</td>\n",
       "      <td>-47</td>\n",
       "      <td>129</td>\n",
       "      <td>176</td>\n",
       "      <td>44</td>\n",
       "    </tr>\n",
       "    <tr>\n",
       "      <th>3</th>\n",
       "      <td>262</td>\n",
       "      <td>Away</td>\n",
       "      <td>D 2–2</td>\n",
       "      <td>Southampton</td>\n",
       "      <td>Brighton</td>\n",
       "      <td>N</td>\n",
       "      <td>LM</td>\n",
       "      <td>25</td>\n",
       "      <td>0</td>\n",
       "      <td>0</td>\n",
       "      <td>...</td>\n",
       "      <td>2022-04-24 13:00:00+00:00</td>\n",
       "      <td>0</td>\n",
       "      <td>0</td>\n",
       "      <td>19229</td>\n",
       "      <td>5.0</td>\n",
       "      <td>1</td>\n",
       "      <td>-1446</td>\n",
       "      <td>288</td>\n",
       "      <td>1734</td>\n",
       "      <td>58</td>\n",
       "    </tr>\n",
       "    <tr>\n",
       "      <th>4</th>\n",
       "      <td>3</td>\n",
       "      <td>Home</td>\n",
       "      <td>W 5–0</td>\n",
       "      <td>Manchester City</td>\n",
       "      <td>Norwich City</td>\n",
       "      <td>Y*</td>\n",
       "      <td>LM</td>\n",
       "      <td>84</td>\n",
       "      <td>0</td>\n",
       "      <td>0</td>\n",
       "      <td>...</td>\n",
       "      <td>2020-07-26 15:00:00+00:00</td>\n",
       "      <td>0</td>\n",
       "      <td>0</td>\n",
       "      <td>801163</td>\n",
       "      <td>101.0</td>\n",
       "      <td>3</td>\n",
       "      <td>198047</td>\n",
       "      <td>228466</td>\n",
       "      <td>30419</td>\n",
       "      <td>75</td>\n",
       "    </tr>\n",
       "  </tbody>\n",
       "</table>\n",
       "<p>5 rows × 93 columns</p>\n",
       "</div>"
      ],
      "text/plain": [
       "   Player ID Venue Result             Team         Opponent Start Position  \\\n",
       "0        140  Away  L 1–2   Crystal Palace   Leicester City     Y       DM   \n",
       "1        340  Away  L 1–2      Bournemouth        Liverpool     N       LW   \n",
       "2        498  Away  D 0–0     Huddersfield  Manchester City     Y       CM   \n",
       "3        262  Away  D 2–2      Southampton         Brighton     N       LM   \n",
       "4          3  Home  W 5–0  Manchester City     Norwich City    Y*       LM   \n",
       "\n",
       "   Minutes Played  Goals  Assists  ...               kickoff_time  own_goals  \\\n",
       "0              90      0        0  ...  2022-04-10 13:00:00+00:00          0   \n",
       "1              23      0        0  ...  2020-03-07 12:30:00+00:00          0   \n",
       "2              90      0        0  ...  2018-05-06 12:30:00+00:00          0   \n",
       "3              25      0        0  ...  2022-04-24 13:00:00+00:00          0   \n",
       "4              84      0        0  ...  2020-07-26 15:00:00+00:00          0   \n",
       "\n",
       "   saves  selected  threat  total_points  transfers_balance  transfers_in  \\\n",
       "0      0      6955    36.0             2                 27           343   \n",
       "1      0     24392     0.0             1               -359           133   \n",
       "2      0     10349     0.0             3                -47           129   \n",
       "3      0     19229     5.0             1              -1446           288   \n",
       "4      0    801163   101.0             3             198047        228466   \n",
       "\n",
       "   transfers_out  value  \n",
       "0            316     54  \n",
       "1            492     52  \n",
       "2            176     44  \n",
       "3           1734     58  \n",
       "4          30419     75  \n",
       "\n",
       "[5 rows x 93 columns]"
      ]
     },
     "execution_count": 50,
     "metadata": {},
     "output_type": "execute_result"
    }
   ],
   "source": [
    "#we drop 'Day' and 'Matchweek' from att_final\n",
    "att_final = att_final.drop(columns = ['Day', 'Matchweek'])\n",
    "att_final.head()"
   ]
  },
  {
   "cell_type": "markdown",
   "metadata": {},
   "source": [
    "* Result - We transformed this feature by splitting it into two features. 'Outcome' (whether or not the game being played in ended up in a Win, Loss or Draw) and 'Score' (the final score of the game). We then further transformed the 'Score' feature into 'Team Goals', by looking at the number of goals scored by the team in that game. We ended up seeing that the number of goals conceded in a game didn't really matter. Therefore, we will get rid of the 'Score' feature, and only keep 'Outcome' and 'Team Goals'. "
   ]
  },
  {
   "cell_type": "code",
   "execution_count": 51,
   "metadata": {},
   "outputs": [
    {
     "data": {
      "text/html": [
       "<div>\n",
       "<style scoped>\n",
       "    .dataframe tbody tr th:only-of-type {\n",
       "        vertical-align: middle;\n",
       "    }\n",
       "\n",
       "    .dataframe tbody tr th {\n",
       "        vertical-align: top;\n",
       "    }\n",
       "\n",
       "    .dataframe thead th {\n",
       "        text-align: right;\n",
       "    }\n",
       "</style>\n",
       "<table border=\"1\" class=\"dataframe\">\n",
       "  <thead>\n",
       "    <tr style=\"text-align: right;\">\n",
       "      <th></th>\n",
       "      <th>Player ID</th>\n",
       "      <th>Venue</th>\n",
       "      <th>Team</th>\n",
       "      <th>Opponent</th>\n",
       "      <th>Start</th>\n",
       "      <th>Position</th>\n",
       "      <th>Minutes Played</th>\n",
       "      <th>Goals</th>\n",
       "      <th>Assists</th>\n",
       "      <th>Penalties Scored</th>\n",
       "      <th>...</th>\n",
       "      <th>saves</th>\n",
       "      <th>selected</th>\n",
       "      <th>threat</th>\n",
       "      <th>total_points</th>\n",
       "      <th>transfers_balance</th>\n",
       "      <th>transfers_in</th>\n",
       "      <th>transfers_out</th>\n",
       "      <th>value</th>\n",
       "      <th>Outcome</th>\n",
       "      <th>Team Goals</th>\n",
       "    </tr>\n",
       "  </thead>\n",
       "  <tbody>\n",
       "    <tr>\n",
       "      <th>0</th>\n",
       "      <td>140</td>\n",
       "      <td>Away</td>\n",
       "      <td>Crystal Palace</td>\n",
       "      <td>Leicester City</td>\n",
       "      <td>Y</td>\n",
       "      <td>DM</td>\n",
       "      <td>90</td>\n",
       "      <td>0</td>\n",
       "      <td>0</td>\n",
       "      <td>0</td>\n",
       "      <td>...</td>\n",
       "      <td>0</td>\n",
       "      <td>6955</td>\n",
       "      <td>36.0</td>\n",
       "      <td>2</td>\n",
       "      <td>27</td>\n",
       "      <td>343</td>\n",
       "      <td>316</td>\n",
       "      <td>54</td>\n",
       "      <td>L</td>\n",
       "      <td>1</td>\n",
       "    </tr>\n",
       "    <tr>\n",
       "      <th>1</th>\n",
       "      <td>340</td>\n",
       "      <td>Away</td>\n",
       "      <td>Bournemouth</td>\n",
       "      <td>Liverpool</td>\n",
       "      <td>N</td>\n",
       "      <td>LW</td>\n",
       "      <td>23</td>\n",
       "      <td>0</td>\n",
       "      <td>0</td>\n",
       "      <td>0</td>\n",
       "      <td>...</td>\n",
       "      <td>0</td>\n",
       "      <td>24392</td>\n",
       "      <td>0.0</td>\n",
       "      <td>1</td>\n",
       "      <td>-359</td>\n",
       "      <td>133</td>\n",
       "      <td>492</td>\n",
       "      <td>52</td>\n",
       "      <td>L</td>\n",
       "      <td>1</td>\n",
       "    </tr>\n",
       "    <tr>\n",
       "      <th>2</th>\n",
       "      <td>498</td>\n",
       "      <td>Away</td>\n",
       "      <td>Huddersfield</td>\n",
       "      <td>Manchester City</td>\n",
       "      <td>Y</td>\n",
       "      <td>CM</td>\n",
       "      <td>90</td>\n",
       "      <td>0</td>\n",
       "      <td>0</td>\n",
       "      <td>0</td>\n",
       "      <td>...</td>\n",
       "      <td>0</td>\n",
       "      <td>10349</td>\n",
       "      <td>0.0</td>\n",
       "      <td>3</td>\n",
       "      <td>-47</td>\n",
       "      <td>129</td>\n",
       "      <td>176</td>\n",
       "      <td>44</td>\n",
       "      <td>D</td>\n",
       "      <td>0</td>\n",
       "    </tr>\n",
       "    <tr>\n",
       "      <th>3</th>\n",
       "      <td>262</td>\n",
       "      <td>Away</td>\n",
       "      <td>Southampton</td>\n",
       "      <td>Brighton</td>\n",
       "      <td>N</td>\n",
       "      <td>LM</td>\n",
       "      <td>25</td>\n",
       "      <td>0</td>\n",
       "      <td>0</td>\n",
       "      <td>0</td>\n",
       "      <td>...</td>\n",
       "      <td>0</td>\n",
       "      <td>19229</td>\n",
       "      <td>5.0</td>\n",
       "      <td>1</td>\n",
       "      <td>-1446</td>\n",
       "      <td>288</td>\n",
       "      <td>1734</td>\n",
       "      <td>58</td>\n",
       "      <td>D</td>\n",
       "      <td>2</td>\n",
       "    </tr>\n",
       "    <tr>\n",
       "      <th>4</th>\n",
       "      <td>3</td>\n",
       "      <td>Home</td>\n",
       "      <td>Manchester City</td>\n",
       "      <td>Norwich City</td>\n",
       "      <td>Y*</td>\n",
       "      <td>LM</td>\n",
       "      <td>84</td>\n",
       "      <td>0</td>\n",
       "      <td>0</td>\n",
       "      <td>0</td>\n",
       "      <td>...</td>\n",
       "      <td>0</td>\n",
       "      <td>801163</td>\n",
       "      <td>101.0</td>\n",
       "      <td>3</td>\n",
       "      <td>198047</td>\n",
       "      <td>228466</td>\n",
       "      <td>30419</td>\n",
       "      <td>75</td>\n",
       "      <td>W</td>\n",
       "      <td>5</td>\n",
       "    </tr>\n",
       "  </tbody>\n",
       "</table>\n",
       "<p>5 rows × 94 columns</p>\n",
       "</div>"
      ],
      "text/plain": [
       "   Player ID Venue             Team         Opponent Start Position  \\\n",
       "0        140  Away   Crystal Palace   Leicester City     Y       DM   \n",
       "1        340  Away      Bournemouth        Liverpool     N       LW   \n",
       "2        498  Away     Huddersfield  Manchester City     Y       CM   \n",
       "3        262  Away      Southampton         Brighton     N       LM   \n",
       "4          3  Home  Manchester City     Norwich City    Y*       LM   \n",
       "\n",
       "   Minutes Played  Goals  Assists  Penalties Scored  ...  saves  selected  \\\n",
       "0              90      0        0                 0  ...      0      6955   \n",
       "1              23      0        0                 0  ...      0     24392   \n",
       "2              90      0        0                 0  ...      0     10349   \n",
       "3              25      0        0                 0  ...      0     19229   \n",
       "4              84      0        0                 0  ...      0    801163   \n",
       "\n",
       "   threat  total_points  transfers_balance  transfers_in  transfers_out  \\\n",
       "0    36.0             2                 27           343            316   \n",
       "1     0.0             1               -359           133            492   \n",
       "2     0.0             3                -47           129            176   \n",
       "3     5.0             1              -1446           288           1734   \n",
       "4   101.0             3             198047        228466          30419   \n",
       "\n",
       "   value  Outcome  Team Goals  \n",
       "0     54        L           1  \n",
       "1     52        L           1  \n",
       "2     44        D           0  \n",
       "3     58        D           2  \n",
       "4     75        W           5  \n",
       "\n",
       "[5 rows x 94 columns]"
      ]
     },
     "execution_count": 51,
     "metadata": {},
     "output_type": "execute_result"
    }
   ],
   "source": [
    "#create new dataframe with just result and goals \n",
    "result_transform = att_final[['Result']].copy()\n",
    "\n",
    "#strip the result column of any whitespace, to make it easier to process the string \n",
    "result_transform.loc[:, 'Result'] = result_transform['Result'].str.strip()\n",
    "\n",
    "#use str.extract method to extract the relevant strings from the result column. the purpose of this is to create two new features (outcome and score)\n",
    "result_transform[['Outcome', 'Score']] = result_transform['Result'].str.extract(r'([LWD])\\s+(\\d+[–-]\\d+)')\n",
    "\n",
    "#drop the result column, as we no longer need this \n",
    "result_transform = result_transform.drop('Result', axis = 1)\n",
    "\n",
    "#replace the dash in the score column with a hyphen, to make it easier to work with in the future \n",
    "result_transform['Score'] = result_transform['Score'].str.replace('\\u2013', '-', regex = True)\n",
    "\n",
    "#create 'Team Goals' column\n",
    "result_transform['Team Goals'] = result_transform['Score'].str.split('-').str[0].astype(int)\n",
    "\n",
    "#remove 'Score' column \n",
    "result_transform = result_transform.drop(columns = ['Score'])\n",
    "\n",
    "#append back onto att_final\n",
    "att_final = pd.concat([att_final, result_transform], axis = 1)\n",
    "\n",
    "#remove 'Result' from att_final\n",
    "att_final = att_final.drop(columns = ['Result'])\n",
    "att_final.head()"
   ]
  },
  {
   "cell_type": "markdown",
   "metadata": {},
   "source": [
    "* Team - We saw that there were certain teams that were associated with higher proportions of goalscoring observations, where the teams in question are the stronger teams in the league. We should keep this feature, as they are useful identifiers for incorporating team statistics into the model. \n",
    "\n",
    "* Opponent - Once again, we saw that certain teams were associated with higher proportions of goalscoring observations, where the teams in question this time are the weaker teams in the league. We also did some feature transformation by looking at the relationship between goalscoring observations and the final league position of the opposing team. Here, we saw that there is a higher proportion of goalscoring observations when playing against teams at the bottom of the table, which is what we expected. \n",
    "\n",
    "* Start - We saw that observations that started games were associated with higher proportions of goalscoring observations. However, we need to transform this feature by combining Y and Y* entries, because Y* (which indicates that a player started the game as captain), doesn't really have a significant impact. "
   ]
  },
  {
   "cell_type": "code",
   "execution_count": 52,
   "metadata": {},
   "outputs": [
    {
     "data": {
      "text/plain": [
       "array(['Y', 'N'], dtype=object)"
      ]
     },
     "execution_count": 52,
     "metadata": {},
     "output_type": "execute_result"
    }
   ],
   "source": [
    "#replacing all Y* entries with Y in 'Start' column \n",
    "att_final['Start'] = att_final['Start'].replace('Y*', 'Y')\n",
    "att_final['Start'].unique()"
   ]
  },
  {
   "cell_type": "markdown",
   "metadata": {},
   "source": [
    "* Position - We transformed this feature by first one-hot encoding into a range of positions (these positions are the unique positions that we could find). The reason we had to do this was because there was a large range of unique values in this column (this is because a player may have played multiple positions in a match, and this was recorded as such. For example, if a player started the game in DM, but moved to RM, then the position entry would be DM, RM.). We then further refined the entries by combining certain groups (so observations with a 1 in either LW or RW were marked as having a 1 in Wingers). We ended up transforming the 'Position' column into a series of one-hot encoded columns, with a 1 if the observation played in that position in that game, and a 0 otherwise. "
   ]
  },
  {
   "cell_type": "code",
   "execution_count": 53,
   "metadata": {},
   "outputs": [
    {
     "data": {
      "text/html": [
       "<div>\n",
       "<style scoped>\n",
       "    .dataframe tbody tr th:only-of-type {\n",
       "        vertical-align: middle;\n",
       "    }\n",
       "\n",
       "    .dataframe tbody tr th {\n",
       "        vertical-align: top;\n",
       "    }\n",
       "\n",
       "    .dataframe thead th {\n",
       "        text-align: right;\n",
       "    }\n",
       "</style>\n",
       "<table border=\"1\" class=\"dataframe\">\n",
       "  <thead>\n",
       "    <tr style=\"text-align: right;\">\n",
       "      <th></th>\n",
       "      <th>Player ID</th>\n",
       "      <th>Venue</th>\n",
       "      <th>Team</th>\n",
       "      <th>Opponent</th>\n",
       "      <th>Start</th>\n",
       "      <th>Minutes Played</th>\n",
       "      <th>Goals</th>\n",
       "      <th>Assists</th>\n",
       "      <th>Penalties Scored</th>\n",
       "      <th>Penalties Attempted</th>\n",
       "      <th>...</th>\n",
       "      <th>value</th>\n",
       "      <th>Outcome</th>\n",
       "      <th>Team Goals</th>\n",
       "      <th>Attacking Midfielder</th>\n",
       "      <th>Forward</th>\n",
       "      <th>Wingback</th>\n",
       "      <th>Defender</th>\n",
       "      <th>Midfielder</th>\n",
       "      <th>Wide Midfielder</th>\n",
       "      <th>Winger</th>\n",
       "    </tr>\n",
       "  </thead>\n",
       "  <tbody>\n",
       "    <tr>\n",
       "      <th>0</th>\n",
       "      <td>140</td>\n",
       "      <td>Away</td>\n",
       "      <td>Crystal Palace</td>\n",
       "      <td>Leicester City</td>\n",
       "      <td>Y</td>\n",
       "      <td>90</td>\n",
       "      <td>0</td>\n",
       "      <td>0</td>\n",
       "      <td>0</td>\n",
       "      <td>0</td>\n",
       "      <td>...</td>\n",
       "      <td>54</td>\n",
       "      <td>L</td>\n",
       "      <td>1</td>\n",
       "      <td>0</td>\n",
       "      <td>0</td>\n",
       "      <td>0</td>\n",
       "      <td>0</td>\n",
       "      <td>1</td>\n",
       "      <td>0</td>\n",
       "      <td>0</td>\n",
       "    </tr>\n",
       "    <tr>\n",
       "      <th>1</th>\n",
       "      <td>340</td>\n",
       "      <td>Away</td>\n",
       "      <td>Bournemouth</td>\n",
       "      <td>Liverpool</td>\n",
       "      <td>N</td>\n",
       "      <td>23</td>\n",
       "      <td>0</td>\n",
       "      <td>0</td>\n",
       "      <td>0</td>\n",
       "      <td>0</td>\n",
       "      <td>...</td>\n",
       "      <td>52</td>\n",
       "      <td>L</td>\n",
       "      <td>1</td>\n",
       "      <td>0</td>\n",
       "      <td>0</td>\n",
       "      <td>0</td>\n",
       "      <td>0</td>\n",
       "      <td>0</td>\n",
       "      <td>0</td>\n",
       "      <td>1</td>\n",
       "    </tr>\n",
       "    <tr>\n",
       "      <th>2</th>\n",
       "      <td>498</td>\n",
       "      <td>Away</td>\n",
       "      <td>Huddersfield</td>\n",
       "      <td>Manchester City</td>\n",
       "      <td>Y</td>\n",
       "      <td>90</td>\n",
       "      <td>0</td>\n",
       "      <td>0</td>\n",
       "      <td>0</td>\n",
       "      <td>0</td>\n",
       "      <td>...</td>\n",
       "      <td>44</td>\n",
       "      <td>D</td>\n",
       "      <td>0</td>\n",
       "      <td>0</td>\n",
       "      <td>0</td>\n",
       "      <td>0</td>\n",
       "      <td>0</td>\n",
       "      <td>1</td>\n",
       "      <td>0</td>\n",
       "      <td>0</td>\n",
       "    </tr>\n",
       "    <tr>\n",
       "      <th>3</th>\n",
       "      <td>262</td>\n",
       "      <td>Away</td>\n",
       "      <td>Southampton</td>\n",
       "      <td>Brighton</td>\n",
       "      <td>N</td>\n",
       "      <td>25</td>\n",
       "      <td>0</td>\n",
       "      <td>0</td>\n",
       "      <td>0</td>\n",
       "      <td>0</td>\n",
       "      <td>...</td>\n",
       "      <td>58</td>\n",
       "      <td>D</td>\n",
       "      <td>2</td>\n",
       "      <td>0</td>\n",
       "      <td>0</td>\n",
       "      <td>0</td>\n",
       "      <td>0</td>\n",
       "      <td>0</td>\n",
       "      <td>1</td>\n",
       "      <td>0</td>\n",
       "    </tr>\n",
       "    <tr>\n",
       "      <th>4</th>\n",
       "      <td>3</td>\n",
       "      <td>Home</td>\n",
       "      <td>Manchester City</td>\n",
       "      <td>Norwich City</td>\n",
       "      <td>Y</td>\n",
       "      <td>84</td>\n",
       "      <td>0</td>\n",
       "      <td>0</td>\n",
       "      <td>0</td>\n",
       "      <td>0</td>\n",
       "      <td>...</td>\n",
       "      <td>75</td>\n",
       "      <td>W</td>\n",
       "      <td>5</td>\n",
       "      <td>0</td>\n",
       "      <td>0</td>\n",
       "      <td>0</td>\n",
       "      <td>0</td>\n",
       "      <td>0</td>\n",
       "      <td>1</td>\n",
       "      <td>0</td>\n",
       "    </tr>\n",
       "  </tbody>\n",
       "</table>\n",
       "<p>5 rows × 100 columns</p>\n",
       "</div>"
      ],
      "text/plain": [
       "   Player ID Venue             Team         Opponent Start  Minutes Played  \\\n",
       "0        140  Away   Crystal Palace   Leicester City     Y              90   \n",
       "1        340  Away      Bournemouth        Liverpool     N              23   \n",
       "2        498  Away     Huddersfield  Manchester City     Y              90   \n",
       "3        262  Away      Southampton         Brighton     N              25   \n",
       "4          3  Home  Manchester City     Norwich City     Y              84   \n",
       "\n",
       "   Goals  Assists  Penalties Scored  Penalties Attempted  ...  value  Outcome  \\\n",
       "0      0        0                 0                    0  ...     54        L   \n",
       "1      0        0                 0                    0  ...     52        L   \n",
       "2      0        0                 0                    0  ...     44        D   \n",
       "3      0        0                 0                    0  ...     58        D   \n",
       "4      0        0                 0                    0  ...     75        W   \n",
       "\n",
       "   Team Goals  Attacking Midfielder  Forward  Wingback  Defender  Midfielder  \\\n",
       "0           1                     0        0         0         0           1   \n",
       "1           1                     0        0         0         0           0   \n",
       "2           0                     0        0         0         0           1   \n",
       "3           2                     0        0         0         0           0   \n",
       "4           5                     0        0         0         0           0   \n",
       "\n",
       "   Wide Midfielder  Winger  \n",
       "0                0       0  \n",
       "1                0       1  \n",
       "2                0       0  \n",
       "3                1       0  \n",
       "4                1       0  \n",
       "\n",
       "[5 rows x 100 columns]"
      ]
     },
     "execution_count": 53,
     "metadata": {},
     "output_type": "execute_result"
    }
   ],
   "source": [
    "#manually inputting the position for these 3 observations, as they were missing\n",
    "att_final.loc[12664, 'Position'] = 'FW'\n",
    "att_final.loc[16504, 'Position'] = 'FW'\n",
    "att_final.loc[25979, 'Position'] = 'RW'\n",
    "\n",
    "#performing the one-hot encoding\n",
    "positions = att_final['Position']\n",
    "positions_df = pd.DataFrame(positions, columns = ['Position'])\n",
    "positions_encode = positions_df['Position'].str.get_dummies(sep = ',')\n",
    "\n",
    "\n",
    "#for any observation that has a 1 in 'RB', 'LB' or 'CB', we also enter 1 in 'Defender' \n",
    "positions_encode['Defender'] = positions_encode[['RB', 'LB', 'CB']].any(axis = 1).astype(int)\n",
    "#we now remove 'RB', 'LB' and 'CB'\n",
    "positions_encode = positions_encode.drop(columns = ['RB', 'CB', 'LB'])\n",
    "\n",
    "#for any observation that has a 1 in 'DM' or 'CM', we also enter 1 in 'Midfielder' \n",
    "positions_encode['Midfielder'] = positions_encode[['DM', 'CM']].any(axis = 1).astype(int)\n",
    "#we now remove 'DM' and 'CM'\n",
    "positions_encode = positions_encode.drop(columns = ['DM', 'CM'])\n",
    "\n",
    "#for any observation that has a 1 in 'LM' or 'RM', we also enter 1 in 'Wide Midfielder' \n",
    "positions_encode['Wide Midfielder'] = positions_encode[['LM', 'RM']].any(axis = 1).astype(int)\n",
    "#we now remove 'LM' and 'RM'\n",
    "positions_encode = positions_encode.drop(columns = ['LM', 'RM'])\n",
    "\n",
    "#for any observation that has a 1 in 'LW' or 'RW', we also enter 1 in 'Winger' \n",
    "positions_encode['Winger'] = positions_encode[['LW', 'RW']].any(axis = 1).astype(int)\n",
    "#we now remove 'LW' and 'RW'\n",
    "positions_encode = positions_encode.drop(columns = ['LW', 'RW'])\n",
    "\n",
    "\n",
    "#rename the 'AM' column 'Attacking Midfielder' \n",
    "positions_encode = positions_encode.rename(columns={'AM': 'Attacking Midfielder'})\n",
    "\n",
    "#rename the 'FW' column 'Forward' \n",
    "positions_encode = positions_encode.rename(columns={'FW': 'Forward'})\n",
    "\n",
    "#rename the 'WB' column 'Wingback' \n",
    "positions_encode = positions_encode.rename(columns={'WB': 'Wingback'})\n",
    "\n",
    "#append back onto att_final\n",
    "att_final = pd.concat([att_final, positions_encode], axis = 1)\n",
    "\n",
    "#remove 'Position' from att_final\n",
    "att_final = att_final.drop(columns = ['Position'])\n",
    "att_final.head()"
   ]
  },
  {
   "cell_type": "markdown",
   "metadata": {},
   "source": [
    "* Minutes Played - We know from contextual information that this is an important feature. However, we are unsure about the direct relationship between this feature and goals. We will keep this feature because it is useful to transform certain features into per90. We will need to keep this feature to do that. "
   ]
  },
  {
   "cell_type": "markdown",
   "metadata": {},
   "source": [
    "### Performance Features"
   ]
  },
  {
   "cell_type": "markdown",
   "metadata": {},
   "source": [
    "* Penalties Attempted - We saw that players that attempted penalties in a game scored a goal almost 80% of the time. In other words, if we know a player is going to have a penalty attempt in a game, the probability of them scoring a goal is quite high. However, this isn't necessarily the most relevant information. We also saw that Penalty Success Rate (calculated as the proportion of Successful Penalties over Penalties Attempted) didn't necessarily provide any additional information. However, we did also do some feature engineering, which allowed us to mark certain Player ID's as 'Designated Penalty Takers'. We then saw that the proportion of goalscoring observations was much higher for the designated penalty takers, compared to the non-designated penalty takers. Based on this, we will include the 'Penalties Attempted' and 'Designated Penalty Taker' features. The 'Penalties Scored' feature will be removed for now. \n",
    "\n",
    "(As part of the 'Designated Penalty Takers' feature engineering, we also needed to add another feature called 'Season'. This is essentially just a simplified version of the kickoff_time feature, with the date and time of the match stripped away)\n"
   ]
  },
  {
   "cell_type": "code",
   "execution_count": 54,
   "metadata": {},
   "outputs": [],
   "source": [
    "# Convert 'kickoff_time' to datetime\n",
    "att_final['kickoff_time'] = pd.to_datetime(att_final['kickoff_time'])\n",
    "\n",
    "# Function to determine the season\n",
    "def determine_season(kickoff_time):\n",
    "    month = kickoff_time.month\n",
    "    year = kickoff_time.year\n",
    "    if month >= 8:  # August to December\n",
    "        return f'{year}-{year + 1}'  # Current year to next year\n",
    "    else:  # January to July\n",
    "        return f'{year - 1}-{year}'  # Previous year to current year\n",
    "\n",
    "# Apply the function to create the 'season' column\n",
    "att_final['Season'] = att_final['kickoff_time'].apply(determine_season)"
   ]
  },
  {
   "cell_type": "code",
   "execution_count": 55,
   "metadata": {},
   "outputs": [],
   "source": [
    "#group observations by player ID and penalties attempted \n",
    "pen_group = att_final.groupby('Player ID', as_index = False)['Penalties Attempted'].sum()\n",
    "\n",
    "#remove obs with 0 penalties attempted \n",
    "pen_group = pen_group[pen_group['Penalties Attempted'] > 0 ]\n",
    "\n",
    "#create new dataframe which has 'kickoff_time', 'Season', 'penalties attempted' and 'team in it \n",
    "team_pens = att_final[['kickoff_time', 'Season', 'Penalties Attempted', 'Team']].copy()\n",
    "\n",
    "#now we group by team and season to compute how many penalties were taken by each team in each season\n",
    "team_pens_summary = team_pens.groupby(['Season', 'Team'], as_index=False)['Penalties Attempted'].sum()\n",
    "team_pens_summary.rename(columns={'Penalties Attempted': 'Team Penalties'}, inplace=True)\n",
    "\n",
    "#create empty dataframe\n",
    "pen_prop = pd.DataFrame()\n",
    "\n",
    "#loop through to get the Player ID and Penalties Attempted for each team in each season, filtering so that we only include observations with at \n",
    "#least 1 penalty taken \n",
    "for index, row in team_pens_summary.iterrows():\n",
    "    team = row['Team']\n",
    "    season = row['Season']\n",
    "    \n",
    "    filtered = att_final[(att_final['Season'] == season) & (att_final['Team'] == team) & (att_final['Penalties Attempted'] > 0)][['Player ID', 'Penalties Attempted']]\n",
    "    filtered['Team'] = team\n",
    "    filtered['Season'] = season\n",
    "    pen_prop = pd.concat([pen_prop, filtered], ignore_index= True)\n",
    "\n",
    "#adding a new column into pen_prop called 'Team Penalties' which merges the relevant information from team_pens_summary\n",
    "pen_prop = pen_prop.merge(team_pens_summary, on=['Team', 'Season'], how='left')\n",
    "\n",
    "#we now merge rows that have the same player ID, team and season together. For the rows that satisfy this, we sum the penalties attempted to \n",
    "#reflect the number of penalties a particular player ID took in a given season \n",
    "merged_penprop = pen_prop.groupby(['Team', 'Season', 'Player ID'], as_index=False).agg({\n",
    "    'Penalties Attempted': 'sum',\n",
    "    'Team Penalties': 'first'  \n",
    "})\n",
    "merged_penprop = merged_penprop.sort_values(by='Player ID')\n",
    "\n",
    "#adding new column called Proportion of Team Penalties Taken\n",
    "merged_penprop['Proportion of Team Penalties Taken'] = (\n",
    "    merged_penprop['Penalties Attempted'] / merged_penprop['Team Penalties']\n",
    ")\n",
    "\n",
    "#final dataframe which merges the rows based on Player ID. Each row now corresponds to one unique player ID, the penalties attempted and team \n",
    "#penalties columns are now summed. The proportion is then recalculated \n",
    "penprop_summary = merged_penprop.groupby('Player ID').agg(\n",
    "    Penalties_Attempted=('Penalties Attempted', 'sum'),\n",
    "    Team_Penalties=('Team Penalties', 'sum')\n",
    ").reset_index()\n",
    "\n",
    "penprop_summary['Proportion of Team Penalties Taken'] = (\n",
    "    penprop_summary['Penalties_Attempted'] / penprop_summary['Team_Penalties'])\n",
    "\n",
    "#first off, we can probably include all player ID's with 100% team penalties taken as 'designated penalty takers'\n",
    "desig_pen_takers = penprop_summary.loc[penprop_summary['Proportion of Team Penalties Taken'] == 1, 'Player ID'].tolist()\n",
    "\n",
    "#we now look at the rest of the observations. let's remove the player ID's that are already included in desig_pen_takers from penprop_summary \n",
    "#for clarity \n",
    "penprop_summary = penprop_summary[~penprop_summary['Player ID'].isin(desig_pen_takers)]\n",
    "penprop_summary = penprop_summary.sort_values(by='Penalties_Attempted', ascending=False)\n",
    "\n",
    "#we now add the Player ID's of players that took more than 50% of their team's penalties \n",
    "additional_takers = penprop_summary.loc[penprop_summary['Proportion of Team Penalties Taken'] > 0.5, 'Player ID'].tolist()\n",
    "desig_pen_takers.extend(additional_takers)\n",
    "\n",
    "#we now remove the rows corresponding to the player ID's that we just added to desig_pen_takers\n",
    "penprop_summary = penprop_summary[~penprop_summary['Player ID'].isin(desig_pen_takers)]\n",
    "\n",
    "#construct 'Designated Penalty Taker' feature \n",
    "att_final['Designated Penalty Taker'] = att_final['Player ID'].isin(desig_pen_takers).astype(int)"
   ]
  },
  {
   "cell_type": "markdown",
   "metadata": {},
   "source": [
    "* Shots - We saw that shots was a useful predictor of goals, which was what we expected. \n",
    "* Shots on Target - We also saw that SOT (Shots on Target) was a useful predictor of goals. Not only this, but we also saw that SOT is potentially a less noisy predictor of goals. In other words, it may be more valuable to use Shots on Target in the model instead of Shots. Finally, we saw that there was some correlation between these two features, but it wasn't strong enough to consider including only one of these features in the final list at the expense of the other. \n",
    "* Yellow/Red Cards - We saw that neither yellow nor red cards were good predictors of goals. Therefore, we should remove these features. "
   ]
  },
  {
   "cell_type": "code",
   "execution_count": 56,
   "metadata": {},
   "outputs": [],
   "source": [
    "#remove 'Result' from att_final\n",
    "att_final = att_final.drop(columns = ['Yellow Cards', 'Red Cards'])"
   ]
  },
  {
   "cell_type": "markdown",
   "metadata": {},
   "source": [
    "* Touches - We saw that the touches variable also wasn't particularly useful in explaining goals. This is primarily because more defensive minded players are likely to accumulate more touches, whereas the number of touches also varies amongst attacking players depending on the tactical system of the team and the role being played by the player. "
   ]
  },
  {
   "cell_type": "code",
   "execution_count": 57,
   "metadata": {},
   "outputs": [],
   "source": [
    "#remove 'Touches' from att_final\n",
    "att_final = att_final.drop(columns = ['Touches'])"
   ]
  },
  {
   "cell_type": "markdown",
   "metadata": {},
   "source": [
    "* Tackles, Interceptions and Blocks - All 3 of these defensive metrics were shown to have very little explanatory power for goals. We can remove these features as they are unlikely to be particularly useful to us. "
   ]
  },
  {
   "cell_type": "code",
   "execution_count": 58,
   "metadata": {},
   "outputs": [],
   "source": [
    "att_final = att_final.drop(columns = ['Tackles', 'Interceptions', 'Blocks'])"
   ]
  },
  {
   "cell_type": "markdown",
   "metadata": {},
   "source": [
    "### Expected Data Features"
   ]
  },
  {
   "cell_type": "markdown",
   "metadata": {},
   "source": [
    "* xG - We saw that the xG feature was a very good predictor of goals. This makes sense, based on our understanding of what xG measures \n",
    "* npxG - Similar to xG, npxG is also a good predictor of goals. The difference between these two features is that npxG doesn't include xG accumulated from penalties. We saw that the xG and npxG values were quite highly correlated with each other. Therefore, we would probably only want to include npxG in the model. However, we will keep both of these features for now, as they are both likely to be extremely useful in any model and/or exploratory analysis. \n",
    "* xAG - We saw that xAG offered very little explanatory power in relation to goals. However, it was quite useful in predicting assists. Therefore, we will remove this feature for now. "
   ]
  },
  {
   "cell_type": "code",
   "execution_count": 59,
   "metadata": {},
   "outputs": [],
   "source": [
    "att_final = att_final.drop(columns = ['xAG'])"
   ]
  },
  {
   "cell_type": "markdown",
   "metadata": {},
   "source": [
    "### SCA/GCA Features"
   ]
  },
  {
   "cell_type": "markdown",
   "metadata": {},
   "source": [
    "* Shot Creating Actions (SCA) - We saw originally that there appeared to be a positive relationship between SCA and Goals. However, we decided to look further by correcting the SCA value for each observation by the number of team goals in that game. Once we made this correction, we saw that the relationship between the corrected SCA and Goals was no longer present. Therefore, SCA as a metric can probably be discarded. "
   ]
  },
  {
   "cell_type": "code",
   "execution_count": 60,
   "metadata": {},
   "outputs": [],
   "source": [
    "att_final = att_final.drop(columns = ['Shot Creating Actions'])"
   ]
  },
  {
   "cell_type": "markdown",
   "metadata": {},
   "source": [
    "* Other SCA Features - We saw that there wasn't anything particuarly useful amongst the other SCA features (these being Foul SCA, Live SCA, Shot SCA etc.) Therefore, we can probably discard them all. "
   ]
  },
  {
   "cell_type": "code",
   "execution_count": 61,
   "metadata": {},
   "outputs": [],
   "source": [
    "att_final = att_final.drop(columns = ['Live SCA', 'Deadball SCA', 'Take-on SCA', 'Shot SCA', 'Foul SCA', 'Defense SCA'])"
   ]
  },
  {
   "cell_type": "markdown",
   "metadata": {},
   "source": [
    "* Goal Creating Actions (GCA) - The GCA feature exploration yielded a similar picture to what we saw when looking at SCA. Although there initially appeared to be some relationship between GCA and Goals, we discovered that this was probably due to the relatioship between GCA and Team Goals. The individual GCA features also didn't really offer much information. Therefore, we can probably discard them all. "
   ]
  },
  {
   "cell_type": "code",
   "execution_count": 62,
   "metadata": {},
   "outputs": [],
   "source": [
    "att_final = att_final.drop(columns = ['Goal Creating Actions', 'Live GCA', 'Deadball GCA', 'Take-on GCA', 'Shot GCA', 'Foul GCA', 'Defense GCA'])"
   ]
  },
  {
   "cell_type": "markdown",
   "metadata": {},
   "source": [
    "### Passing Features"
   ]
  },
  {
   "cell_type": "markdown",
   "metadata": {},
   "source": [
    "* Passes Attempted, Passes Completed and Pass Completion Percentage - The exploratory analysis showed that none of these 3 features were useful in predicting/explaining the number of goals scored. Therefore, we can remove them. "
   ]
  },
  {
   "cell_type": "code",
   "execution_count": 63,
   "metadata": {},
   "outputs": [],
   "source": [
    "att_final = att_final.drop(columns = ['Passes Attempted', 'Passes Completed'])"
   ]
  },
  {
   "cell_type": "markdown",
   "metadata": {},
   "source": [
    "* Passing Distance - We also saw that passing distance was not a particularly useful feature in terms of predicting goals. We can also remove this feature. "
   ]
  },
  {
   "cell_type": "code",
   "execution_count": 64,
   "metadata": {},
   "outputs": [],
   "source": [
    "att_final = att_final.drop(columns = ['Passing Distance'])"
   ]
  },
  {
   "cell_type": "markdown",
   "metadata": {},
   "source": [
    "* Progressive Passes and Progressive Passing Distance - Our exploration showed that neither the number of progressive passes nor the progressive passing distance accumulated were useful in explaining goals. Therefore, we can remove these features. "
   ]
  },
  {
   "cell_type": "code",
   "execution_count": 65,
   "metadata": {},
   "outputs": [],
   "source": [
    "att_final = att_final.drop(columns = ['Progressive Passes', 'Progressive Passing Distance'])"
   ]
  },
  {
   "cell_type": "markdown",
   "metadata": {},
   "source": [
    "* Short/Medium/Long Passes - The data on the number of attempted short/medium/long passes as well as the number of completed short/medium/long passes were not particularly useful in explaining goals. We can remove these features. "
   ]
  },
  {
   "cell_type": "code",
   "execution_count": 66,
   "metadata": {},
   "outputs": [],
   "source": [
    "att_final = att_final.drop(columns = ['Short Passes Attempted', 'Short Passes Completed', 'Medium Passes Attempted',\n",
    "                                      'Medium Passes Completed', 'Long Passes Attempted', 'Long Passes Completed'])"
   ]
  },
  {
   "cell_type": "markdown",
   "metadata": {},
   "source": [
    "* Passes into the Final Third - We saw that the number of passes into the penalty area recorded wasn't necessarily that useful in explaining goals. We can remove this feature "
   ]
  },
  {
   "cell_type": "code",
   "execution_count": 67,
   "metadata": {},
   "outputs": [],
   "source": [
    "att_final = att_final.drop(columns = ['Passes into Final Third'])"
   ]
  },
  {
   "cell_type": "markdown",
   "metadata": {},
   "source": [
    "* Passes into the Penalty Area - We saw that this feature was useful for explaining assists, but not so much for explaining goals. We can remove this feature. "
   ]
  },
  {
   "cell_type": "code",
   "execution_count": 68,
   "metadata": {},
   "outputs": [],
   "source": [
    "att_final = att_final.drop(columns = ['Passes into Penalty Area'])"
   ]
  },
  {
   "cell_type": "markdown",
   "metadata": {},
   "source": [
    "* Crosses into the Penalty Area - This feature was not particularly useful at all, largely due to the fact that many of the observations had value equal to zero. Therefore, we should remove this feature. "
   ]
  },
  {
   "cell_type": "code",
   "execution_count": 69,
   "metadata": {},
   "outputs": [],
   "source": [
    "att_final = att_final.drop(columns = ['Crosses into Penalty Area'])"
   ]
  },
  {
   "cell_type": "markdown",
   "metadata": {},
   "source": [
    "* Key Passes - Whilst this feature is an important one for predicting/explaining assists, it isn't particularly useful for goals. Therefore, we should remove this feature. "
   ]
  },
  {
   "cell_type": "code",
   "execution_count": 70,
   "metadata": {},
   "outputs": [],
   "source": [
    "att_final = att_final.drop(columns = ['Key Passes'])"
   ]
  },
  {
   "cell_type": "markdown",
   "metadata": {},
   "source": [
    "* Live/Dead Pass - We saw that these features essentially reflected the information given by the passes completed feature. Therefore we can remove this feature \n",
    "* Free Kick Pass - This is essentially just a more refined version of dead pass, that doesn't include throw-ins/restarts/corners. Again, we didn't really find much value in this feature, so we can remove it \n",
    "* Throw ins Taken - Perhaps as expected, the number of throw ins taken by a player doesn't hold much value. We can remove this feature \n",
    "* Corners Taken - This feature perhaps has some value in predicting/explaining assists. However, it doesn't really help with goals. We can remove this feature. "
   ]
  },
  {
   "cell_type": "code",
   "execution_count": 71,
   "metadata": {},
   "outputs": [],
   "source": [
    "att_final = att_final.drop(columns = ['Live Pass', 'Dead Pass', 'Free Kick Pass', 'Throw Ins Taken', 'Corners Taken'])"
   ]
  },
  {
   "cell_type": "markdown",
   "metadata": {},
   "source": [
    "* Through Balls - Whilst this feature does not hold any explanatory/predictive power when it comes to goals, it may be slightly useful in helping predict/explain assists. Despite this, we can remove this feature for now. \n",
    "* Passes Offside - The exploratory analysis showed that this feature wasn't useful for predicting either goals or assists. Therefore, we can remove this feature. \n",
    "* Switches - Similar to passes offside, the number of switches recorded also didn't hold any value in predicting/explaining goals or assists. We can remove this feature \n",
    "* Crosses - This feature was not useful in predicting the number of goals scored. It is potentially useful in explaining/predicting assists, but this value is undetermined. There were certain plots that showed that it was a potentially useful feature, whilst others that showed it wasn't. We can remove this feature for now though. "
   ]
  },
  {
   "cell_type": "code",
   "execution_count": 72,
   "metadata": {},
   "outputs": [],
   "source": [
    "att_final = att_final.drop(columns = ['Through Balls', 'Passes Offside', 'Switches', 'Crosses'])"
   ]
  },
  {
   "cell_type": "markdown",
   "metadata": {},
   "source": [
    "### Carrying and Take-on Features"
   ]
  },
  {
   "cell_type": "markdown",
   "metadata": {},
   "source": [
    "* Carries - Initially, we saw that carries was potentially a useful feature for predicting goals. However, we then standardised the number of carries by minutes played, by calculating Carries per 90. When looking at the relationship between Carries per 90 and Goals, the pattern we saw previously was no longer present. The analogous conclusion was reached when looking at the relationship between Carries and Assists. Therefore, we can remove this feature. "
   ]
  },
  {
   "cell_type": "code",
   "execution_count": 73,
   "metadata": {},
   "outputs": [],
   "source": [
    "att_final = att_final.drop(columns = ['Carries'])"
   ]
  },
  {
   "cell_type": "markdown",
   "metadata": {},
   "source": [
    "* Progressive Carries - Perhaps surprisingly, we saw that this feature has the potential to be useful in explaining/predicting goals. The data exploration showed that players in certain positions are likely to accumulate a higher number of progressive carries (notably wingers). Therefore, we decided to explore whether or not the positive relationship we saw can be attributed to players accumulating progressive carries being more likely to play in advanced positions (thus scoring more goals). However when we standardised by position, we saw that the pattern still held strong. Therefore, we should keep this feature. \n",
    "\n",
    "* Carry Distance and Progressive Carry Distance - First off, we saw that these two features were highly correlated. Therefore, we decided to only pursue data exploration on progressive carry distance. The initial exploration appeared to show a positive relationship between progressive carry distance and goals/assists. This was not a great surprise, given the exploration we did on progressive carries. However when we standardised by minutes (basically looking at progressive carry distance per 90), we saw that this relationship became a lot less clear. We will keep this feature for now, but will likely remove it at some future stage. "
   ]
  },
  {
   "cell_type": "code",
   "execution_count": 74,
   "metadata": {},
   "outputs": [],
   "source": [
    "att_final = att_final.drop(columns = ['Carry Distance'])"
   ]
  },
  {
   "cell_type": "markdown",
   "metadata": {},
   "source": [
    "* Final Third Carries - This feature appears to have more relevance in explaining assists compared to goals. Even so, the relationship between this feature and assists is still not super clear. We will remove this feature for now. \n",
    "* Carries into the Penalty Area - Similarly, the relationship of this feature and goals/assists is not super clear. Although it appears that observations that score a goal and/or record an assist also record a higher value for carries into the penalty area, it is not super obvious whether or not this difference is due to natural variation or some systemic reason. Therefore, we will remove this feature for now. "
   ]
  },
  {
   "cell_type": "code",
   "execution_count": 75,
   "metadata": {},
   "outputs": [],
   "source": [
    "att_final = att_final.drop(columns = ['Final Third Carries', 'Carries into Penalty Area'])"
   ]
  },
  {
   "cell_type": "markdown",
   "metadata": {},
   "source": [
    "* Takeons Attempted - The initial plots showed that observations that recorded at least 1 goal appeared to also record a higher number of takeons attempted. We then had a look at how takeons attempted differed between goalscoring and non-goalscoring observations when holding positions constant (this was because we saw that takeons attempted differed amongst the positions). For these plots, we saw that certain positions had significant differences in takeons attempted when comparing goalscoring and non-goalscoring observations whilst other positions had quite similar values. Overall, there may be some value in takeons attempted so we will keep this feature in. \n",
    "* Successful Takeons - We saw that the relationship between successful takeons and goals was less pronounced in comparison to the relationship between takeons attempted and goals. We also saw previously that takeons attempted and successful takeons were quite correlated with each other. Despite the question marks over the usefulness of this feature, we will keep this in for now. "
   ]
  },
  {
   "cell_type": "markdown",
   "metadata": {},
   "source": [
    "### Touches Features "
   ]
  },
  {
   "cell_type": "markdown",
   "metadata": {},
   "source": [
    "* Defensive Third/Defensive Penalty Area Touches - We suspected that these features wouldn't hold much value when it comes to predicting/explaining goals and assists and the exploratory analysis verified our suspicions. In fact, we saw that observations that didn't score recorded more defensive third and defensive penalty area touches, by virtue of the fact that players playing in defensive positions would accumulate more defensive third and defensive penalty area touches. We will remove these features. "
   ]
  },
  {
   "cell_type": "code",
   "execution_count": 76,
   "metadata": {},
   "outputs": [],
   "source": [
    "att_final = att_final.drop(columns = ['Defensive Third Touches', 'Defensive Penalty Area Touches'])"
   ]
  },
  {
   "cell_type": "markdown",
   "metadata": {},
   "source": [
    "* Middle Third Touches - Similarly, we saw minimal relationship between the number of middle third touches recorded and the number of goals scored. Our exploratory analysis indicated to us that players playing in a midfield positions were likely to accumulate more middle third touches compared to players in other positions. As midfielders are generally not considered to be particularly attacking, the lack of relationship between this feature and goals makes sense. We will remove this feature. "
   ]
  },
  {
   "cell_type": "code",
   "execution_count": 77,
   "metadata": {},
   "outputs": [],
   "source": [
    "att_final = att_final.drop(columns = ['Middle Third Touches'])"
   ]
  },
  {
   "cell_type": "markdown",
   "metadata": {},
   "source": [
    "* Attacking Third Touches - We expected to see a positive relationship between attacking third touches and goals, and our exploratory analysis reflected this. However, we also noticed that the mean/median number of attacking third touches recorded by strikers and wingers wasn't necessarily any greater than the mean/median number of attacking third touches recorded by midfielders/wide midfielders. We suspected this was due to forwards and wingers generally touching the ball less than midfielders, which is why we decided to construct another feature called 'Proportion of Touches in Attacking Third'. We then also saw a positive relationship between this new feature and goals. Based on this, we will keep 'Attacking Third Touches' as a feature, whilst also adding in 'Proportion of Touches in the Attacking Third' as a new feature. "
   ]
  },
  {
   "cell_type": "code",
   "execution_count": 78,
   "metadata": {},
   "outputs": [],
   "source": [
    "att_final['Proportion of Touches in the Attacking Third'] = att_final['Attacking Third Touches']/att_explore['Touches']"
   ]
  },
  {
   "cell_type": "markdown",
   "metadata": {},
   "source": [
    "* Penalty Area Touches - We suspected that this feature would be quite useful in predicting/explaining goals, and our suspicions were proven to be true. We also had a quick look at the relationship between attacking third touches and penalty area touches. We saw that although there was some correlation between these two features, they weren't close enough to consider removing one in favour of the other. As this feature was shown to be useful in the exploratory analysis, we will keep this feature. "
   ]
  },
  {
   "cell_type": "markdown",
   "metadata": {},
   "source": [
    "### Conclusion"
   ]
  },
  {
   "cell_type": "markdown",
   "metadata": {},
   "source": [
    "We now have a quick look at the remaining features that we deemed to be useful in predicting/explaining goals."
   ]
  },
  {
   "cell_type": "code",
   "execution_count": 79,
   "metadata": {},
   "outputs": [
    {
     "data": {
      "text/plain": [
       "Index(['Player ID', 'Venue', 'Team', 'Opponent', 'Start', 'Minutes Played',\n",
       "       'Goals', 'Assists', 'Penalties Scored', 'Penalties Attempted', 'Shots',\n",
       "       'Shots on Target', 'xG', 'npxG', 'Progressive Carries',\n",
       "       'Take-ons Attempted', 'Successful Take-ons', 'Expected Assists',\n",
       "       'Attacking Third Touches', 'Penalty Area Touches',\n",
       "       'Progressive Carry Distance', 'Passes Received',\n",
       "       'Progressive Passes Received', 'bonus', 'bps', 'clean_sheets',\n",
       "       'creativity', 'ict_index', 'influence', 'kickoff_time', 'own_goals',\n",
       "       'saves', 'selected', 'threat', 'total_points', 'transfers_balance',\n",
       "       'transfers_in', 'transfers_out', 'value', 'Outcome', 'Team Goals',\n",
       "       'Attacking Midfielder', 'Forward', 'Wingback', 'Defender', 'Midfielder',\n",
       "       'Wide Midfielder', 'Winger', 'Season', 'Designated Penalty Taker',\n",
       "       'Proportion of Touches in the Attacking Third'],\n",
       "      dtype='object')"
      ]
     },
     "execution_count": 79,
     "metadata": {},
     "output_type": "execute_result"
    }
   ],
   "source": [
    "att_final.columns"
   ]
  },
  {
   "cell_type": "code",
   "execution_count": 81,
   "metadata": {},
   "outputs": [],
   "source": [
    "#removing some of the misc columns that will not be necessary \n",
    "att_final = att_final.drop(columns = ['clean_sheets', 'own_goals', 'saves', 'selected', 'transfers_balance', 'transfers_in', 'transfers_out', 'value'])"
   ]
  },
  {
   "cell_type": "code",
   "execution_count": 82,
   "metadata": {},
   "outputs": [
    {
     "data": {
      "text/plain": [
       "Index(['Player ID', 'Venue', 'Team', 'Opponent', 'Start', 'Minutes Played',\n",
       "       'Goals', 'Assists', 'Penalties Scored', 'Penalties Attempted', 'Shots',\n",
       "       'Shots on Target', 'xG', 'npxG', 'Progressive Carries',\n",
       "       'Take-ons Attempted', 'Successful Take-ons', 'Expected Assists',\n",
       "       'Attacking Third Touches', 'Penalty Area Touches',\n",
       "       'Progressive Carry Distance', 'Passes Received',\n",
       "       'Progressive Passes Received', 'bonus', 'bps', 'creativity',\n",
       "       'ict_index', 'influence', 'kickoff_time', 'threat', 'total_points',\n",
       "       'Outcome', 'Team Goals', 'Attacking Midfielder', 'Forward', 'Wingback',\n",
       "       'Defender', 'Midfielder', 'Wide Midfielder', 'Winger', 'Season',\n",
       "       'Designated Penalty Taker',\n",
       "       'Proportion of Touches in the Attacking Third'],\n",
       "      dtype='object')"
      ]
     },
     "execution_count": 82,
     "metadata": {},
     "output_type": "execute_result"
    }
   ],
   "source": [
    "#check the columns again\n",
    "att_final.columns"
   ]
  },
  {
   "cell_type": "code",
   "execution_count": 83,
   "metadata": {},
   "outputs": [
    {
     "data": {
      "text/plain": [
       "43"
      ]
     },
     "execution_count": 83,
     "metadata": {},
     "output_type": "execute_result"
    }
   ],
   "source": [
    "#how many columns are left? \n",
    "att_final.shape[1]"
   ]
  },
  {
   "cell_type": "markdown",
   "metadata": {},
   "source": [
    "So we have reduced the number of potentially useful features down to 42 (not including the target variable). We can now perform further exploratory analysis on these features, to potentially remove a few more features, or add some engineered features in. "
   ]
  },
  {
   "cell_type": "markdown",
   "metadata": {},
   "source": [
    "## Further Data Exploration"
   ]
  },
  {
   "cell_type": "markdown",
   "metadata": {},
   "source": [
    "One potential issue that we should address is that a lot of these features contain information that would only be available after a game. For example, it would be nice to know the number of team goals prior to a game, as that would make predicting goals a lot easier. Unfortunately, this isn't information that we will have prior to a game. We can potentially subsitute this feature with a projection of the number of team goals that will be scored by each team (models for these purposes exist, based on either historical data or betting market data). However, this will obviously have a detrimental effect on model performance. \n",
    "\n",
    "Another feature that is useful but we don't have access to is xG/npxG. What we could do instead is construct a feature called rolling xG/npxG. The purpose of this feature would be to compute the average xG/npxG accumulated by a player up to that point in the season. We can then look at the potential relationship between the rolling xG and goals. This helps solve the problem of not knowing what the xG of a player in a particular game will be, since we have access to their rolling xG instead. "
   ]
  },
  {
   "cell_type": "code",
   "execution_count": null,
   "metadata": {},
   "outputs": [],
   "source": [
    "#create new df which is where we will put all the feature engineered features \n",
    "feature_explore_df = att_final.copy()"
   ]
  },
  {
   "cell_type": "markdown",
   "metadata": {},
   "source": [
    "### Rolling xG"
   ]
  },
  {
   "cell_type": "markdown",
   "metadata": {},
   "source": [
    "To construct rolling xG, we need to make use of the 'kickoff_time' feature. For a given Player ID, we want to iterate through their season, computing the average xG per game prior to each game. For example, gameweek 1 for each player will have a rolling xG value of NaN. Gameweek 2 will have a rolling xG value equivalent to the xG accumulated in Gameweek 1. Gameweek 3 will have a rolling xG value equivalent to the average xG accumulated over the first two gameweeks and so on..."
   ]
  },
  {
   "cell_type": "code",
   "execution_count": null,
   "metadata": {},
   "outputs": [
    {
     "name": "stderr",
     "output_type": "stream",
     "text": [
      "/var/folders/dv/bjx4hkg54x17symh1g3_3jf80000gq/T/ipykernel_75658/1661124909.py:17: DeprecationWarning: DataFrameGroupBy.apply operated on the grouping columns. This behavior is deprecated, and in a future version of pandas the grouping columns will be excluded from the operation. Either pass `include_groups=False` to exclude the groupings or explicitly select the grouping columns after groupby to silence this warning.\n",
      "  feature_explore_df['Rolling xG'] = feature_explore_df.groupby(['Player ID', 'Season']).apply(calculate_rolling_xg).reset_index(drop = True)\n"
     ]
    }
   ],
   "source": [
    "#sort values by Player ID and kickoff_time, we also need to reset the index to ensure that the shifting in the function below works as intended\n",
    "feature_explore_df.sort_values(by=['Player ID', 'kickoff_time'], inplace=True)\n",
    "feature_explore_df.reset_index(drop=True, inplace=True)\n",
    "\n",
    "#function to calculate rolling xG\n",
    "def calculate_rolling_xg(group):\n",
    "    # Calculate the cumulative sum and the number of games played\n",
    "    cumulative_sum = group['npxG'].cumsum()\n",
    "    count = pd.Series(range(1, len(group) + 1), index=group.index)\n",
    "    \n",
    "    # Create a new Series for rolling xG\n",
    "    rolling_xg = cumulative_sum.shift(1)/count.shift(1)\n",
    "    \n",
    "    return rolling_xg\n",
    "\n",
    "#apply function\n",
    "feature_explore_df['Rolling xG'] = feature_explore_df.groupby(['Player ID', 'Season']).apply(calculate_rolling_xg).reset_index(drop = True)"
   ]
  },
  {
   "cell_type": "markdown",
   "metadata": {},
   "source": [
    "Let's do some exploration to see if the code above did what we wanted."
   ]
  },
  {
   "cell_type": "code",
   "execution_count": 216,
   "metadata": {},
   "outputs": [
    {
     "data": {
      "text/html": [
       "<div>\n",
       "<style scoped>\n",
       "    .dataframe tbody tr th:only-of-type {\n",
       "        vertical-align: middle;\n",
       "    }\n",
       "\n",
       "    .dataframe tbody tr th {\n",
       "        vertical-align: top;\n",
       "    }\n",
       "\n",
       "    .dataframe thead th {\n",
       "        text-align: right;\n",
       "    }\n",
       "</style>\n",
       "<table border=\"1\" class=\"dataframe\">\n",
       "  <thead>\n",
       "    <tr style=\"text-align: right;\">\n",
       "      <th></th>\n",
       "      <th>Player ID</th>\n",
       "      <th>npxG</th>\n",
       "      <th>Rolling xG</th>\n",
       "      <th>kickoff_time</th>\n",
       "      <th>Season</th>\n",
       "    </tr>\n",
       "  </thead>\n",
       "  <tbody>\n",
       "    <tr>\n",
       "      <th>2353</th>\n",
       "      <td>42</td>\n",
       "      <td>0.1</td>\n",
       "      <td>NaN</td>\n",
       "      <td>2018-01-31 19:45:00+00:00</td>\n",
       "      <td>2017-2018</td>\n",
       "    </tr>\n",
       "    <tr>\n",
       "      <th>2354</th>\n",
       "      <td>42</td>\n",
       "      <td>0.7</td>\n",
       "      <td>0.100000</td>\n",
       "      <td>2018-05-13 14:00:00+00:00</td>\n",
       "      <td>2017-2018</td>\n",
       "    </tr>\n",
       "    <tr>\n",
       "      <th>2355</th>\n",
       "      <td>42</td>\n",
       "      <td>0.1</td>\n",
       "      <td>NaN</td>\n",
       "      <td>2018-08-18 16:30:00+00:00</td>\n",
       "      <td>2018-2019</td>\n",
       "    </tr>\n",
       "    <tr>\n",
       "      <th>2356</th>\n",
       "      <td>42</td>\n",
       "      <td>0.0</td>\n",
       "      <td>0.100000</td>\n",
       "      <td>2018-08-26 15:00:00+00:00</td>\n",
       "      <td>2018-2019</td>\n",
       "    </tr>\n",
       "    <tr>\n",
       "      <th>2357</th>\n",
       "      <td>42</td>\n",
       "      <td>0.0</td>\n",
       "      <td>0.050000</td>\n",
       "      <td>2018-09-23 12:30:00+00:00</td>\n",
       "      <td>2018-2019</td>\n",
       "    </tr>\n",
       "    <tr>\n",
       "      <th>...</th>\n",
       "      <td>...</td>\n",
       "      <td>...</td>\n",
       "      <td>...</td>\n",
       "      <td>...</td>\n",
       "      <td>...</td>\n",
       "    </tr>\n",
       "    <tr>\n",
       "      <th>2433</th>\n",
       "      <td>42</td>\n",
       "      <td>0.2</td>\n",
       "      <td>0.152941</td>\n",
       "      <td>2024-04-13 14:00:00+00:00</td>\n",
       "      <td>2023-2024</td>\n",
       "    </tr>\n",
       "    <tr>\n",
       "      <th>2434</th>\n",
       "      <td>42</td>\n",
       "      <td>0.0</td>\n",
       "      <td>0.155556</td>\n",
       "      <td>2024-04-20 14:00:00+00:00</td>\n",
       "      <td>2023-2024</td>\n",
       "    </tr>\n",
       "    <tr>\n",
       "      <th>2435</th>\n",
       "      <td>42</td>\n",
       "      <td>0.0</td>\n",
       "      <td>0.147368</td>\n",
       "      <td>2024-04-27 14:00:00+00:00</td>\n",
       "      <td>2023-2024</td>\n",
       "    </tr>\n",
       "    <tr>\n",
       "      <th>2436</th>\n",
       "      <td>42</td>\n",
       "      <td>0.1</td>\n",
       "      <td>0.140000</td>\n",
       "      <td>2024-05-03 19:00:00+00:00</td>\n",
       "      <td>2023-2024</td>\n",
       "    </tr>\n",
       "    <tr>\n",
       "      <th>2437</th>\n",
       "      <td>42</td>\n",
       "      <td>0.0</td>\n",
       "      <td>0.138095</td>\n",
       "      <td>2024-05-11 14:00:00+00:00</td>\n",
       "      <td>2023-2024</td>\n",
       "    </tr>\n",
       "  </tbody>\n",
       "</table>\n",
       "<p>85 rows × 5 columns</p>\n",
       "</div>"
      ],
      "text/plain": [
       "      Player ID  npxG  Rolling xG              kickoff_time     Season\n",
       "2353         42   0.1         NaN 2018-01-31 19:45:00+00:00  2017-2018\n",
       "2354         42   0.7    0.100000 2018-05-13 14:00:00+00:00  2017-2018\n",
       "2355         42   0.1         NaN 2018-08-18 16:30:00+00:00  2018-2019\n",
       "2356         42   0.0    0.100000 2018-08-26 15:00:00+00:00  2018-2019\n",
       "2357         42   0.0    0.050000 2018-09-23 12:30:00+00:00  2018-2019\n",
       "...         ...   ...         ...                       ...        ...\n",
       "2433         42   0.2    0.152941 2024-04-13 14:00:00+00:00  2023-2024\n",
       "2434         42   0.0    0.155556 2024-04-20 14:00:00+00:00  2023-2024\n",
       "2435         42   0.0    0.147368 2024-04-27 14:00:00+00:00  2023-2024\n",
       "2436         42   0.1    0.140000 2024-05-03 19:00:00+00:00  2023-2024\n",
       "2437         42   0.0    0.138095 2024-05-11 14:00:00+00:00  2023-2024\n",
       "\n",
       "[85 rows x 5 columns]"
      ]
     },
     "execution_count": 216,
     "metadata": {},
     "output_type": "execute_result"
    }
   ],
   "source": [
    "#choose a random player ID to look at \n",
    "feature_explore_df[(feature_explore_df['Player ID'] == 42)][['Player ID', 'npxG', 'Rolling xG', 'kickoff_time', 'Season']]"
   ]
  },
  {
   "cell_type": "markdown",
   "metadata": {},
   "source": [
    "We can see that the function has worked as intended in calculating the correct Rolling xG.\n",
    "\n",
    "We now look at the relationship between Rolling xG and Goals. "
   ]
  },
  {
   "cell_type": "code",
   "execution_count": 225,
   "metadata": {},
   "outputs": [
    {
     "data": {
      "text/plain": [
       "<Figure size 640x480 with 0 Axes>"
      ]
     },
     "metadata": {},
     "output_type": "display_data"
    },
    {
     "data": {
      "image/png": "[encoded data removed]",
      "text/plain": [
       "<Figure size 640x480 with 1 Axes>"
      ]
     },
     "metadata": {},
     "output_type": "display_data"
    }
   ],
   "source": [
    "#we need to first remove all rows with NaN in 'Rolling xG' before plotting \n",
    "plot_df = feature_explore_df.dropna(subset=['Rolling xG'])\n",
    "\n",
    "grouped_boxplot(plot_df, 'Rolling xG', 'Goals')"
   ]
  },
  {
   "cell_type": "code",
   "execution_count": 226,
   "metadata": {},
   "outputs": [
    {
     "data": {
      "image/png": "[encoded data removed]",
      "text/plain": [
       "<Figure size 640x480 with 1 Axes>"
      ]
     },
     "metadata": {},
     "output_type": "display_data"
    }
   ],
   "source": [
    "category_boxplot(plot_df, 'Rolling xG', 'Goals', text_diff= 0.15)"
   ]
  },
  {
   "cell_type": "markdown",
   "metadata": {},
   "source": [
    "What we can see based on these plots is that the positive relationship between Goals and Rolling xG is still present. However, we can also see that there a large number of observations are presenting as outliers. This is because rolling xG is bound to be a noisier feature than just looking at xG by itself. Consider a player who doesn't often record good xG numbers, meaning their rolling xG is quite low. In the off chance that they score a goal, they will have done so with a low rolling xG number. This will drag down the central tendancy of rolling xG for observations with 1 goal. Likewise, there will be players that consistently record good xG numbers (meaning their rolling xG values are quite high), but even these players cannot score in every single game. These represent the observations that have high rolling xG numbers, but are part of the 'no goals' category. "
   ]
  },
  {
   "cell_type": "markdown",
   "metadata": {},
   "source": [
    "### Team/Opponent Strength"
   ]
  },
  {
   "cell_type": "markdown",
   "metadata": {},
   "source": [
    "Using the same idea as above, we can also try to introduce features that coarsely try to categorise team and opponent strength. We can do this by calculating xG rankings for teams, that dynamically change across the season. The rankings will be based on the average xG accumulated by each team throughout the season (similar to how rolling xG works). We will then have features that correspond to both the rolling xG and xGA for each team, as well as the xG and xGA rankings. To do this, we first need to scrape team data from FBref. "
   ]
  },
  {
   "cell_type": "code",
   "execution_count": 230,
   "metadata": {},
   "outputs": [
    {
     "data": {
      "text/plain": [
       "array(['Crystal Palace', 'Bournemouth', 'Huddersfield', 'Southampton',\n",
       "       'Manchester City', 'Liverpool', 'Manchester Utd', 'Fulham',\n",
       "       'Arsenal', 'Norwich City', 'Brighton', 'Leicester City',\n",
       "       'Newcastle Utd', 'Luton Town', 'West Ham', 'Leeds United',\n",
       "       'Tottenham', \"Nott'ham Forest\", 'Sheffield Utd', 'Aston Villa',\n",
       "       'West Brom', 'Everton', 'Burnley', 'Cardiff City', 'Watford',\n",
       "       'Chelsea', 'Wolves', 'Brentford', 'Swansea City', 'Stoke City'],\n",
       "      dtype=object)"
      ]
     },
     "execution_count": 230,
     "metadata": {},
     "output_type": "execute_result"
    }
   ],
   "source": [
    "att_final['Team'].unique()"
   ]
  }
 ],
 "metadata": {
  "kernelspec": {
   "display_name": "myenv",
   "language": "python",
   "name": "python3"
  },
  "language_info": {
   "codemirror_mode": {
    "name": "ipython",
    "version": 3
   },
   "file_extension": ".py",
   "mimetype": "text/x-python",
   "name": "python",
   "nbconvert_exporter": "python",
   "pygments_lexer": "ipython3",
   "version": "3.10.13"
  }
 },
 "nbformat": 4,
 "nbformat_minor": 2
}
