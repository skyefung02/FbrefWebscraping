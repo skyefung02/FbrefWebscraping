{
 "cells": [
  {
   "cell_type": "code",
   "execution_count": 1,
   "metadata": {},
   "outputs": [],
   "source": [
    "from bs4 import BeautifulSoup\n",
    "import requests\n",
    "import pandas as pd \n",
    "import os\n",
    "import time"
   ]
  },
  {
   "cell_type": "markdown",
   "metadata": {},
   "source": [
    "get_url_final function"
   ]
  },
  {
   "cell_type": "code",
   "execution_count": 2,
   "metadata": {},
   "outputs": [],
   "source": [
    "#this function just gets the html code that we need to scrape for data, updated version that is not specific to salah \n",
    "def get_url_final(code, year_range, category, player):\n",
    "    base_url = 'https://fbref.com/en/players/{}/matchlogs/{}/c9/{}/{}-Match-Logs'\n",
    "    url = base_url.format(code, year_range, category, player)\n",
    "    html = requests.get(url).text\n",
    "    soup = BeautifulSoup(html, 'lxml')\n",
    "    html_filtered = soup.find('tbody')\n",
    "    return(html_filtered)"
   ]
  },
  {
   "cell_type": "markdown",
   "metadata": {},
   "source": [
    "get_dat, get_date and get_matchweek functions"
   ]
  },
  {
   "cell_type": "code",
   "execution_count": 3,
   "metadata": {},
   "outputs": [],
   "source": [
    "def get_dat(dat, col):\n",
    "    coldat = []\n",
    "    for row in dat.find_all('tr'):\n",
    "        if not row.attrs:\n",
    "            coldat.append(row.find('td', {'data-stat': col}).text)\n",
    "    return (coldat)   \n",
    "\n",
    "def get_date(dat, col):\n",
    "    coldat = []\n",
    "    for row in dat.find_all('tr'):\n",
    "        if not row.attrs:\n",
    "            coldat.append(row.find('th', {'data-stat': col}).text)\n",
    "    return (coldat)   \n",
    "\n",
    "def get_matchweek(dat, col):\n",
    "    coldat = []\n",
    "    for row in dat.find_all('tr'):\n",
    "        if not row.attrs:\n",
    "            coldat.append(row.find('td', {'data-stat': col}).text)\n",
    "    coldat = [coldat.replace('Matchweek ', '') for coldat in coldat]\n",
    "    return(coldat)"
   ]
  },
  {
   "cell_type": "markdown",
   "metadata": {},
   "source": [
    "get_data function"
   ]
  },
  {
   "cell_type": "code",
   "execution_count": 5,
   "metadata": {},
   "outputs": [],
   "source": [
    "#now, we want to modify the function above, to allow us to get any players data that we want, not just salah\n",
    "\n",
    "def get_data(code, year_range, player, fpl_name):\n",
    "    data_summary = get_url_final(code, year_range, '', player)\n",
    "    \n",
    "    #this if statement is checking whether or not this player actually has data for the particular year. In the case that they do not actually have\n",
    "    #data for this year, just return an empty dataframe \n",
    "    if not data_summary:\n",
    "        empty = pd.DataFrame()\n",
    "        return(empty)\n",
    "    \n",
    "    data_passing = get_url_final(code, year_range, 'passing', player)\n",
    "    data_passingtype = get_url_final(code, year_range, 'passing_types', player)\n",
    "    data_gca = get_url_final(code, year_range, 'gca', player)\n",
    "    data_defense = get_url_final(code, year_range, 'defense', player)\n",
    "    data_possession = get_url_final(code, year_range, 'possession', player)\n",
    "    \n",
    "    ################################################################\n",
    "    #getting the data for the necessary columns\n",
    "    \n",
    "    ##### summary data #####\n",
    "    #misc data \n",
    "    date = get_date(data_summary, 'date')\n",
    "    day = get_dat(data_summary,'dayofweek')\n",
    "    matchweek = get_matchweek(data_summary, 'round')\n",
    "    venue = get_dat(data_summary, 'venue')\n",
    "    result = get_dat(data_summary, 'result')\n",
    "    team = get_dat(data_summary, 'team')\n",
    "    opponent = get_dat(data_summary, 'opponent')\n",
    "    start = get_dat(data_summary, 'game_started')\n",
    "    position = get_dat(data_summary, 'position')\n",
    "    mins = get_dat(data_summary, 'minutes')\n",
    "\n",
    "    #performance data\n",
    "    goals = get_dat(data_summary, 'goals')\n",
    "    assist = get_dat(data_summary, 'assists')\n",
    "    pen_goals = get_dat(data_summary, 'pens_made')\n",
    "    pen_attempted = get_dat(data_summary, 'pens_att')\n",
    "    shots = get_dat(data_summary, 'shots')\n",
    "    sot = get_dat(data_summary, 'shots_on_target')\n",
    "    yellow = get_dat(data_summary, 'cards_yellow')\n",
    "    red = get_dat(data_summary, 'cards_red')\n",
    "    touches = get_dat(data_summary, 'touches')\n",
    "    tackles = get_dat(data_summary, 'tackles')\n",
    "    interceptions = get_dat(data_summary, 'interceptions')\n",
    "    blocks = get_dat(data_summary, 'blocks')\n",
    "\n",
    "    #expected performance metrics\n",
    "    xg = get_dat(data_summary, 'xg')\n",
    "    npxg = get_dat(data_summary, 'npxg')\n",
    "    xag = get_dat(data_summary, 'xg_assist')\n",
    "\n",
    "    #shot creating actions\n",
    "    sca = get_dat(data_summary, 'sca')\n",
    "    gca = get_dat(data_summary, 'gca')\n",
    "\n",
    "    #passes\n",
    "    passes_completed = get_dat(data_summary, 'passes_completed')\n",
    "    passes_attempted = get_dat(data_summary, 'passes')\n",
    "    prg_passes = get_dat(data_summary, 'progressive_passes')\n",
    "\n",
    "    #carries \n",
    "    carries = get_dat(data_summary, 'carries')\n",
    "    prg_carries = get_dat(data_summary, 'progressive_carries')\n",
    "\n",
    "    #take-ons\n",
    "    takeon_att = get_dat(data_summary, 'take_ons')\n",
    "    takeon_suc = get_dat(data_summary, 'take_ons_won')\n",
    "    \n",
    "    ##### passing data #####\n",
    "    #total\n",
    "    pass_distance = get_dat(data_passing, 'passes_total_distance')\n",
    "    prg_pass_distance = get_dat(data_passing, 'passes_progressive_distance')\n",
    "\n",
    "    #short\n",
    "    short_pass_completed = get_dat(data_passing, 'passes_completed_short')\n",
    "    short_pass_attempted = get_dat(data_passing, 'passes_short')\n",
    "\n",
    "    #medium \n",
    "    med_pass_completed = get_dat(data_passing, 'passes_completed_medium')\n",
    "    med_pass_attempted = get_dat(data_passing, 'passes_medium')\n",
    "\n",
    "    #long\n",
    "    long_pass_completed = get_dat(data_passing, 'passes_completed_long')\n",
    "    long_pass_attempted = get_dat(data_passing, 'passes_long')\n",
    "\n",
    "    #misc\n",
    "    xa = get_dat(data_passing, 'pass_xa')\n",
    "    keypass = get_dat(data_passing, 'assisted_shots')\n",
    "    finalthird_pass = get_dat(data_passing, 'passes_into_final_third')\n",
    "    penaltyarea_pass = get_dat(data_passing, 'passes_into_penalty_area')\n",
    "    penaltyarea_cross = get_dat(data_passing, 'crosses_into_penalty_area')\n",
    "    \n",
    "    \n",
    "    ##### passing types data #####\n",
    "    live_pass = get_dat(data_passingtype, 'passes_live')\n",
    "    dead_pass = get_dat(data_passingtype, 'passes_dead')\n",
    "    freekick_pass = get_dat(data_passingtype, 'passes_free_kicks')\n",
    "    through_balls = get_dat(data_passingtype, 'through_balls')\n",
    "    switches = get_dat(data_passingtype, 'passes_switches')\n",
    "    crosses = get_dat(data_passingtype, 'crosses')\n",
    "    throwin = get_dat(data_passingtype, 'throw_ins')\n",
    "    corners = get_dat(data_passingtype, 'corner_kicks')\n",
    "    offside_pass = get_dat(data_passingtype, 'passes_offsides')\n",
    "    \n",
    "    \n",
    "    ##### gca data #####\n",
    "    #sca types \n",
    "    live_sca = get_dat(data_gca, 'sca_passes_live')\n",
    "    deadball_sca = get_dat(data_gca, 'sca_passes_dead')\n",
    "    takeons_sca = get_dat(data_gca, 'sca_take_ons')\n",
    "    shots_sca = get_dat(data_gca, 'sca_shots')\n",
    "    fouls_sca = get_dat(data_gca, 'sca_fouled')\n",
    "    defense_sca = get_dat(data_gca, 'sca_defense')\n",
    "\n",
    "    #gca types \n",
    "    live_gca = get_dat(data_gca, 'gca_passes_live')\n",
    "    deadball_gca = get_dat(data_gca, 'gca_passes_dead')\n",
    "    takeons_gca = get_dat(data_gca, 'gca_take_ons')\n",
    "    shots_gca = get_dat(data_gca, 'gca_shots')\n",
    "    fouls_gca = get_dat(data_gca, 'gca_fouled')\n",
    "    defense_gca = get_dat(data_gca, 'gca_defense')\n",
    "    \n",
    "    \n",
    "    ##### defensive data ######\n",
    "    #tackles\n",
    "    tackles_won = get_dat(data_defense,'tackles_won')\n",
    "    tackles_def = get_dat(data_defense, 'tackles_def_3rd')\n",
    "    tackles_mid = get_dat(data_defense, 'tackles_mid_3rd')\n",
    "    tackles_att = get_dat(data_defense, 'tackles_att_3rd')\n",
    "\n",
    "    #challenges \n",
    "    dribblers_tackled = get_dat(data_defense, 'challenge_tackles')\n",
    "    dribbles_challenged = get_dat(data_defense, 'challenges')\n",
    "    challenges_lost = get_dat(data_defense, 'challenges_lost')\n",
    "\n",
    "    #blocks \n",
    "    shots_blocked = get_dat(data_defense, 'blocked_shots')\n",
    "    pass_blocked = get_dat(data_defense, 'blocked_passes')\n",
    "    clearances = get_dat(data_defense, 'clearances')\n",
    "    def_errors = get_dat(data_defense, 'errors')\n",
    "    \n",
    "    \n",
    "    ##### possession data #####\n",
    "    #touches \n",
    "    def_penarea_touches = get_dat(data_possession, 'touches_def_pen_area')\n",
    "    def_third_touches = get_dat(data_possession, 'touches_def_3rd')\n",
    "    mid_third_touches = get_dat(data_possession, 'touches_mid_3rd')\n",
    "    att_third_touches = get_dat(data_possession, 'touches_att_3rd')\n",
    "    pen_area_touches = get_dat(data_possession, 'touches_att_pen_area')\n",
    "\n",
    "    #carries\n",
    "    carry_distance = get_dat(data_possession, 'carries_distance')\n",
    "    prg_carry_distance = get_dat(data_possession, 'carries_progressive_distance')\n",
    "    final_third_carries = get_dat(data_possession, 'carries_into_final_third')\n",
    "    pen_area_carries = get_dat(data_possession, 'carries_into_penalty_area')\n",
    "    miscontrols = get_dat(data_possession, 'miscontrols')\n",
    "    dispossesed = get_dat(data_possession, 'dispossessed')\n",
    "\n",
    "    #receiving \n",
    "    pass_received = get_dat(data_possession, 'passes_received')\n",
    "    prg_pass_received = get_dat(data_possession, 'progressive_passes_received')\n",
    "\n",
    "\n",
    "    ###########################################################\n",
    "    #creating dataframe\n",
    "    df = pd.DataFrame({\n",
    "        'Date': date,\n",
    "        'Day': day,\n",
    "        'Matchweek': matchweek,\n",
    "        'Venue': venue,\n",
    "        'Result': result,\n",
    "        'Team': team,\n",
    "        'Opponent': opponent, \n",
    "        'Start': start, \n",
    "        'Position': position,\n",
    "        'Minutes Played': mins, \n",
    "        'Goals': goals, \n",
    "        'Assists': assist, \n",
    "        'Penalties Scored': pen_goals, \n",
    "        'Penalties Attempted': pen_attempted, \n",
    "        'Shots': shots, \n",
    "        'Shots on Target': sot, \n",
    "        'Yellow Cards': yellow, \n",
    "        'Red Cards': red, \n",
    "        'Touches': touches, \n",
    "        'Tackles': tackles,\n",
    "        'Interceptions': interceptions, \n",
    "        'Blocks': blocks, \n",
    "        'xG': xg,\n",
    "        'npxG': npxg,\n",
    "        'xAG': xag, \n",
    "        'Shot Creating Actions': sca, \n",
    "        'Goal Creating Actions': gca, \n",
    "        'Passes Completed': passes_completed, \n",
    "        'Passes Attempted': passes_attempted, \n",
    "        'Progressive Passes': prg_passes,\n",
    "        'Carries': carries, \n",
    "        'Progressive Carries': prg_carries, \n",
    "        'Take-ons Attempted': takeon_att, \n",
    "        'Successful Take-ons': takeon_suc,\n",
    "        \n",
    "        'Passing Distance': pass_distance, \n",
    "        'Progressive Passing Distance': prg_pass_distance,\n",
    "        'Short Passes Completed' : short_pass_completed,\n",
    "        'Short Passes Attempted': short_pass_attempted,\n",
    "        'Medium Passes Completed': med_pass_completed,\n",
    "        'Medium Passes Attempted': med_pass_attempted,\n",
    "        'Long Passes Completed': long_pass_completed,\n",
    "        'Long Passes Attempted': long_pass_attempted,\n",
    "        'Expected Assists': xa,\n",
    "        'Key Passes': keypass,\n",
    "        'Passes into Final Third': finalthird_pass,\n",
    "        'Passes into Penalty Area': penaltyarea_pass,\n",
    "        'Crosses into Penalty Area': penaltyarea_cross,\n",
    "    \n",
    "        'Live Pass': live_pass,\n",
    "        'Dead Pass': dead_pass,\n",
    "        'Free Kick Pass': freekick_pass,\n",
    "        'Through Balls': through_balls,\n",
    "        'Switches': switches,\n",
    "        'Crosses': crosses,\n",
    "        'Throw Ins Taken': throwin,\n",
    "        'Corners Taken': corners,\n",
    "        'Passes Offside': offside_pass,\n",
    "    \n",
    "        'Live SCA': live_sca,\n",
    "        'Deadball SCA': deadball_sca,\n",
    "        'Take-on SCA': takeons_sca,\n",
    "        'Shot SCA': shots_sca,\n",
    "        'Foul SCA': fouls_sca,\n",
    "        'Defense SCA': defense_sca,\n",
    "    \n",
    "        'Live GCA': live_gca,\n",
    "        'Deadball GCA': deadball_gca,\n",
    "        'Take-on GCA': takeons_gca,\n",
    "        'Shot GCA': shots_gca,\n",
    "        'Foul GCA': fouls_gca,\n",
    "        'Defense GCA': defense_gca,\n",
    "    \n",
    "        'Tackles Won': tackles_won,\n",
    "        'Defensive Third Tackles': tackles_def,\n",
    "        'Middle Third Tackles': tackles_mid,\n",
    "        'Attacking Third Tackles': tackles_att,\n",
    "        'Dribblers Tackled': dribblers_tackled,\n",
    "        'Dribblers Tackled Attempts': dribbles_challenged,\n",
    "        'Challenges Lost': challenges_lost,\n",
    "        'Shots Blocked': shots_blocked,\n",
    "        'Passes Blocked': pass_blocked,\n",
    "        'Clearances': clearances,\n",
    "        'Defensive Errors': def_errors,\n",
    "    \n",
    "        'Defensive Penalty Area Touches': def_penarea_touches,\n",
    "        'Defensive Third Touches': def_third_touches,\n",
    "        'Middle Third Touches': mid_third_touches,\n",
    "        'Attacking Third Touches': att_third_touches,\n",
    "        'Penalty Area Touches': pen_area_touches,\n",
    "        'Carry Distance': carry_distance,\n",
    "        'Progressive Carry Distance': prg_carry_distance,\n",
    "        'Final Third Carries': final_third_carries,\n",
    "        'Carries into Penalty Area': pen_area_carries,\n",
    "        'Miscontrols': miscontrols,\n",
    "        'Dispossessed': dispossesed,\n",
    "        'Passes Received': pass_received,\n",
    "        'Progressive Passes Received': prg_pass_received\n",
    "    })\n",
    "    \n",
    "    #modifying data types\n",
    "    df = df.astype({\n",
    "        'Date': 'datetime64[ns]',\n",
    "        'Day': 'object',\n",
    "        'Matchweek': 'int64',\n",
    "        'Venue': 'object',\n",
    "        'Result': 'object',\n",
    "        'Team': 'object',\n",
    "        'Opponent': 'object', \n",
    "        'Start': 'object', \n",
    "        'Position': 'object',\n",
    "        'Minutes Played': 'int64', \n",
    "        'Goals': 'int64', \n",
    "        'Assists': 'int64', \n",
    "        'Penalties Scored': 'int64', \n",
    "        'Penalties Attempted': 'int64', \n",
    "        'Shots': 'int64', \n",
    "        'Shots on Target': 'int64', \n",
    "        'Yellow Cards': 'int64', \n",
    "        'Red Cards': 'int64', \n",
    "        'Touches': 'int64', \n",
    "        'Tackles': 'int64',\n",
    "        'Interceptions': 'int64', \n",
    "        'Blocks': 'int64', \n",
    "        'xG': 'float64',\n",
    "        'npxG': 'float64',\n",
    "        'xAG': 'float64', \n",
    "        'Shot Creating Actions': 'int64', \n",
    "        'Goal Creating Actions': 'int64', \n",
    "        'Passes Completed': 'int64', \n",
    "        'Passes Attempted': 'int64', \n",
    "        'Progressive Passes': 'int64',\n",
    "        'Carries': 'int64', \n",
    "        'Progressive Carries': 'int64', \n",
    "        'Take-ons Attempted': 'int64', \n",
    "        'Successful Take-ons': 'int64',\n",
    "        \n",
    "        'Short Passes Completed' : 'int64',\n",
    "        'Short Passes Attempted': 'int64',\n",
    "        'Medium Passes Completed': 'int64',\n",
    "        'Medium Passes Attempted': 'int64',\n",
    "        'Long Passes Completed': 'int64',\n",
    "        'Long Passes Attempted': 'int64',\n",
    "        'Expected Assists': 'float64',\n",
    "        'Key Passes': 'int64',\n",
    "        'Passes into Final Third': 'int64',\n",
    "        'Passes into Penalty Area': 'int64',\n",
    "        'Crosses into Penalty Area': 'int64',\n",
    "    \n",
    "        'Live Pass': 'int64',\n",
    "        'Dead Pass': 'int64',\n",
    "        'Free Kick Pass': 'int64',\n",
    "        'Through Balls': 'int64',\n",
    "        'Switches': 'int64',\n",
    "        'Crosses': 'int64',\n",
    "        'Throw Ins Taken': 'int64',\n",
    "        'Corners Taken': 'int64',\n",
    "        'Passes Offside': 'int64',\n",
    "    \n",
    "        'Live SCA': 'int64',\n",
    "        'Deadball SCA': 'int64',\n",
    "        'Take-on SCA': 'int64',\n",
    "        'Shot SCA': 'int64',\n",
    "        'Foul SCA': 'int64',\n",
    "        'Defense SCA': 'int64',\n",
    "    \n",
    "        'Live GCA': 'int64',\n",
    "        'Deadball GCA': 'int64',\n",
    "        'Take-on GCA': 'int64',\n",
    "        'Shot GCA': 'int64',\n",
    "        'Foul GCA': 'int64',\n",
    "        'Defense GCA': 'int64',\n",
    "    \n",
    "        'Tackles Won': 'int64',\n",
    "        'Defensive Third Tackles': 'int64',\n",
    "        'Middle Third Tackles': 'int64',\n",
    "        'Attacking Third Tackles': 'int64',\n",
    "        'Dribblers Tackled': 'int64',\n",
    "        'Dribblers Tackled Attempts': 'int64',\n",
    "        'Challenges Lost': 'int64',\n",
    "        'Shots Blocked': 'int64',\n",
    "        'Passes Blocked': 'int64',\n",
    "        'Clearances': 'int64',\n",
    "        'Defensive Errors': 'int64',\n",
    "    \n",
    "        'Defensive Penalty Area Touches': 'int64',\n",
    "        'Defensive Third Touches': 'int64',\n",
    "        'Middle Third Touches': 'int64',\n",
    "        'Attacking Third Touches': 'int64',\n",
    "        'Penalty Area Touches': 'int64',\n",
    "        'Carry Distance': 'float64',\n",
    "        'Progressive Carry Distance': 'float64',\n",
    "        'Final Third Carries': 'int64',\n",
    "        'Carries into Penalty Area': 'int64',\n",
    "        'Miscontrols': 'int64',\n",
    "        'Dispossessed': 'int64',\n",
    "        'Passes Received': 'int64',\n",
    "        'Progressive Passes Received': 'int64'\n",
    "    })\n",
    "    \n",
    "    #changing date column data type \n",
    "    df['Date'] = df['Date'].dt.date\n",
    "    \n",
    "    ###############################################################################\n",
    "    \n",
    "    #now we want to get the fpl data \n",
    "    start_year = year_range[:4] #getting the whole of the first year \n",
    "    end_year = year_range[-2:]\n",
    "    format_year = f'{start_year}-{end_year}'\n",
    "    directory = f'Fantasy-Premier-League/data/{format_year}/players'\n",
    "    files = os.listdir(directory)\n",
    "    csv_file = [f for f in files if fpl_name in f]\n",
    "    fpldf = pd.read_csv(os.path.join(directory, csv_file[0]) + '/gw.csv')\n",
    "\n",
    "    #some of the columns are duplicated (from the webscraped data), so we want to remove these \n",
    "    fpldf = fpldf.drop(['assists', 'expected_assists', 'expected_goal_involvements', 'expected_goals', 'fixture',\n",
    "                                          'goals_conceded', 'goals_scored', 'penalties_missed', 'penalties_saved', 'red_cards'\n",
    "                                          ,'team_a_score', 'team_h_score', 'was_home', 'yellow_cards', 'element', 'opponent_team', 'starts'\n",
    "                                          ,'expected_goals_conceded'], axis=1, \n",
    "                       errors = 'ignore')\n",
    "\n",
    "    #we now want to change the 'kickoff time' feature into a datetime object \n",
    "    fpldf['kickoff_time'] = pd.to_datetime(fpldf['kickoff_time'])\n",
    "\n",
    "    #creating new column, which is just the kickoff date \n",
    "    fpldf['kickoff_date'] = fpldf['kickoff_time'].dt.date\n",
    "    \n",
    "    finaldf = pd.merge(df, fpldf, left_on='Date', right_on='kickoff_date', how='inner')\n",
    "    \n",
    "    return(finaldf)"
   ]
  },
  {
   "cell_type": "code",
   "execution_count": 6,
   "metadata": {},
   "outputs": [],
   "source": [
    "#this is just to use the get_data function to create a representative dataframe, with the purpose being just to get the column names. This is why \n",
    "#we have to specify another get_data function below (get_data_final), which implements functionality that deals with players who have empty pages in \n",
    "#Fbref\n",
    "test = get_data('66b76d44', '2022-2023', 'Emi-Buendia', 'Emiliano_Buen')\n",
    "column_names = test.columns"
   ]
  },
  {
   "cell_type": "code",
   "execution_count": 7,
   "metadata": {},
   "outputs": [],
   "source": [
    "#this is the final version of get_data, which includes additional functionality to deal with players who hav eempty pages in Fbref\n",
    "def get_data_final(code, year_range, player, fpl_name):\n",
    "    data_summary = get_url_final(code, year_range, '', player)\n",
    "    \n",
    "    #this if statement is checking whether or not this player actually has data for the particular year. In the case that they do not actually have\n",
    "    #data for this year, just return an empty dataframe \n",
    "    if not data_summary:\n",
    "        empty = pd.DataFrame(columns = column_names)\n",
    "        return(empty)\n",
    "    \n",
    "    data_passing = get_url_final(code, year_range, 'passing', player)\n",
    "    data_passingtype = get_url_final(code, year_range, 'passing_types', player)\n",
    "    data_gca = get_url_final(code, year_range, 'gca', player)\n",
    "    data_defense = get_url_final(code, year_range, 'defense', player)\n",
    "    data_possession = get_url_final(code, year_range, 'possession', player)\n",
    "    \n",
    "    ################################################################\n",
    "    #getting the data for the necessary columns\n",
    "    \n",
    "    ##### summary data #####\n",
    "    #misc data \n",
    "    date = get_date(data_summary, 'date')\n",
    "    day = get_dat(data_summary,'dayofweek')\n",
    "    matchweek = get_matchweek(data_summary, 'round')\n",
    "    venue = get_dat(data_summary, 'venue')\n",
    "    result = get_dat(data_summary, 'result')\n",
    "    team = get_dat(data_summary, 'team')\n",
    "    opponent = get_dat(data_summary, 'opponent')\n",
    "    start = get_dat(data_summary, 'game_started')\n",
    "    position = get_dat(data_summary, 'position')\n",
    "    mins = get_dat(data_summary, 'minutes')\n",
    "\n",
    "    #performance data\n",
    "    goals = get_dat(data_summary, 'goals')\n",
    "    assist = get_dat(data_summary, 'assists')\n",
    "    pen_goals = get_dat(data_summary, 'pens_made')\n",
    "    pen_attempted = get_dat(data_summary, 'pens_att')\n",
    "    shots = get_dat(data_summary, 'shots')\n",
    "    sot = get_dat(data_summary, 'shots_on_target')\n",
    "    yellow = get_dat(data_summary, 'cards_yellow')\n",
    "    red = get_dat(data_summary, 'cards_red')\n",
    "    touches = get_dat(data_summary, 'touches')\n",
    "    tackles = get_dat(data_summary, 'tackles')\n",
    "    interceptions = get_dat(data_summary, 'interceptions')\n",
    "    blocks = get_dat(data_summary, 'blocks')\n",
    "\n",
    "    #expected performance metrics\n",
    "    xg = get_dat(data_summary, 'xg')\n",
    "    npxg = get_dat(data_summary, 'npxg')\n",
    "    xag = get_dat(data_summary, 'xg_assist')\n",
    "\n",
    "    #shot creating actions\n",
    "    sca = get_dat(data_summary, 'sca')\n",
    "    gca = get_dat(data_summary, 'gca')\n",
    "\n",
    "    #passes\n",
    "    passes_completed = get_dat(data_summary, 'passes_completed')\n",
    "    passes_attempted = get_dat(data_summary, 'passes')\n",
    "    prg_passes = get_dat(data_summary, 'progressive_passes')\n",
    "\n",
    "    #carries \n",
    "    carries = get_dat(data_summary, 'carries')\n",
    "    prg_carries = get_dat(data_summary, 'progressive_carries')\n",
    "\n",
    "    #take-ons\n",
    "    takeon_att = get_dat(data_summary, 'take_ons')\n",
    "    takeon_suc = get_dat(data_summary, 'take_ons_won')\n",
    "    \n",
    "    ##### passing data #####\n",
    "    #total\n",
    "    pass_distance = get_dat(data_passing, 'passes_total_distance')\n",
    "    prg_pass_distance = get_dat(data_passing, 'passes_progressive_distance')\n",
    "\n",
    "    #short\n",
    "    short_pass_completed = get_dat(data_passing, 'passes_completed_short')\n",
    "    short_pass_attempted = get_dat(data_passing, 'passes_short')\n",
    "\n",
    "    #medium \n",
    "    med_pass_completed = get_dat(data_passing, 'passes_completed_medium')\n",
    "    med_pass_attempted = get_dat(data_passing, 'passes_medium')\n",
    "\n",
    "    #long\n",
    "    long_pass_completed = get_dat(data_passing, 'passes_completed_long')\n",
    "    long_pass_attempted = get_dat(data_passing, 'passes_long')\n",
    "\n",
    "    #misc\n",
    "    xa = get_dat(data_passing, 'pass_xa')\n",
    "    keypass = get_dat(data_passing, 'assisted_shots')\n",
    "    finalthird_pass = get_dat(data_passing, 'passes_into_final_third')\n",
    "    penaltyarea_pass = get_dat(data_passing, 'passes_into_penalty_area')\n",
    "    penaltyarea_cross = get_dat(data_passing, 'crosses_into_penalty_area')\n",
    "    \n",
    "    \n",
    "    ##### passing types data #####\n",
    "    live_pass = get_dat(data_passingtype, 'passes_live')\n",
    "    dead_pass = get_dat(data_passingtype, 'passes_dead')\n",
    "    freekick_pass = get_dat(data_passingtype, 'passes_free_kicks')\n",
    "    through_balls = get_dat(data_passingtype, 'through_balls')\n",
    "    switches = get_dat(data_passingtype, 'passes_switches')\n",
    "    crosses = get_dat(data_passingtype, 'crosses')\n",
    "    throwin = get_dat(data_passingtype, 'throw_ins')\n",
    "    corners = get_dat(data_passingtype, 'corner_kicks')\n",
    "    offside_pass = get_dat(data_passingtype, 'passes_offsides')\n",
    "    \n",
    "    \n",
    "    ##### gca data #####\n",
    "    #sca types \n",
    "    live_sca = get_dat(data_gca, 'sca_passes_live')\n",
    "    deadball_sca = get_dat(data_gca, 'sca_passes_dead')\n",
    "    takeons_sca = get_dat(data_gca, 'sca_take_ons')\n",
    "    shots_sca = get_dat(data_gca, 'sca_shots')\n",
    "    fouls_sca = get_dat(data_gca, 'sca_fouled')\n",
    "    defense_sca = get_dat(data_gca, 'sca_defense')\n",
    "\n",
    "    #gca types \n",
    "    live_gca = get_dat(data_gca, 'gca_passes_live')\n",
    "    deadball_gca = get_dat(data_gca, 'gca_passes_dead')\n",
    "    takeons_gca = get_dat(data_gca, 'gca_take_ons')\n",
    "    shots_gca = get_dat(data_gca, 'gca_shots')\n",
    "    fouls_gca = get_dat(data_gca, 'gca_fouled')\n",
    "    defense_gca = get_dat(data_gca, 'gca_defense')\n",
    "    \n",
    "    \n",
    "    ##### defensive data ######\n",
    "    #tackles\n",
    "    tackles_won = get_dat(data_defense,'tackles_won')\n",
    "    tackles_def = get_dat(data_defense, 'tackles_def_3rd')\n",
    "    tackles_mid = get_dat(data_defense, 'tackles_mid_3rd')\n",
    "    tackles_att = get_dat(data_defense, 'tackles_att_3rd')\n",
    "\n",
    "    #challenges \n",
    "    dribblers_tackled = get_dat(data_defense, 'challenge_tackles')\n",
    "    dribbles_challenged = get_dat(data_defense, 'challenges')\n",
    "    challenges_lost = get_dat(data_defense, 'challenges_lost')\n",
    "\n",
    "    #blocks \n",
    "    shots_blocked = get_dat(data_defense, 'blocked_shots')\n",
    "    pass_blocked = get_dat(data_defense, 'blocked_passes')\n",
    "    clearances = get_dat(data_defense, 'clearances')\n",
    "    def_errors = get_dat(data_defense, 'errors')\n",
    "    \n",
    "    \n",
    "    ##### possession data #####\n",
    "    #touches \n",
    "    def_penarea_touches = get_dat(data_possession, 'touches_def_pen_area')\n",
    "    def_third_touches = get_dat(data_possession, 'touches_def_3rd')\n",
    "    mid_third_touches = get_dat(data_possession, 'touches_mid_3rd')\n",
    "    att_third_touches = get_dat(data_possession, 'touches_att_3rd')\n",
    "    pen_area_touches = get_dat(data_possession, 'touches_att_pen_area')\n",
    "\n",
    "    #carries\n",
    "    carry_distance = get_dat(data_possession, 'carries_distance')\n",
    "    prg_carry_distance = get_dat(data_possession, 'carries_progressive_distance')\n",
    "    final_third_carries = get_dat(data_possession, 'carries_into_final_third')\n",
    "    pen_area_carries = get_dat(data_possession, 'carries_into_penalty_area')\n",
    "    miscontrols = get_dat(data_possession, 'miscontrols')\n",
    "    dispossesed = get_dat(data_possession, 'dispossessed')\n",
    "\n",
    "    #receiving \n",
    "    pass_received = get_dat(data_possession, 'passes_received')\n",
    "    prg_pass_received = get_dat(data_possession, 'progressive_passes_received')\n",
    "\n",
    "\n",
    "    ###########################################################\n",
    "    #creating dataframe\n",
    "    df = pd.DataFrame({\n",
    "        'Date': date,\n",
    "        'Day': day,\n",
    "        'Matchweek': matchweek,\n",
    "        'Venue': venue,\n",
    "        'Result': result,\n",
    "        'Team': team,\n",
    "        'Opponent': opponent, \n",
    "        'Start': start, \n",
    "        'Position': position,\n",
    "        'Minutes Played': mins, \n",
    "        'Goals': goals, \n",
    "        'Assists': assist, \n",
    "        'Penalties Scored': pen_goals, \n",
    "        'Penalties Attempted': pen_attempted, \n",
    "        'Shots': shots, \n",
    "        'Shots on Target': sot, \n",
    "        'Yellow Cards': yellow, \n",
    "        'Red Cards': red, \n",
    "        'Touches': touches, \n",
    "        'Tackles': tackles,\n",
    "        'Interceptions': interceptions, \n",
    "        'Blocks': blocks, \n",
    "        'xG': xg,\n",
    "        'npxG': npxg,\n",
    "        'xAG': xag, \n",
    "        'Shot Creating Actions': sca, \n",
    "        'Goal Creating Actions': gca, \n",
    "        'Passes Completed': passes_completed, \n",
    "        'Passes Attempted': passes_attempted, \n",
    "        'Progressive Passes': prg_passes,\n",
    "        'Carries': carries, \n",
    "        'Progressive Carries': prg_carries, \n",
    "        'Take-ons Attempted': takeon_att, \n",
    "        'Successful Take-ons': takeon_suc,\n",
    "        \n",
    "        'Passing Distance': pass_distance, \n",
    "        'Progressive Passing Distance': prg_pass_distance,\n",
    "        'Short Passes Completed' : short_pass_completed,\n",
    "        'Short Passes Attempted': short_pass_attempted,\n",
    "        'Medium Passes Completed': med_pass_completed,\n",
    "        'Medium Passes Attempted': med_pass_attempted,\n",
    "        'Long Passes Completed': long_pass_completed,\n",
    "        'Long Passes Attempted': long_pass_attempted,\n",
    "        'Expected Assists': xa,\n",
    "        'Key Passes': keypass,\n",
    "        'Passes into Final Third': finalthird_pass,\n",
    "        'Passes into Penalty Area': penaltyarea_pass,\n",
    "        'Crosses into Penalty Area': penaltyarea_cross,\n",
    "    \n",
    "        'Live Pass': live_pass,\n",
    "        'Dead Pass': dead_pass,\n",
    "        'Free Kick Pass': freekick_pass,\n",
    "        'Through Balls': through_balls,\n",
    "        'Switches': switches,\n",
    "        'Crosses': crosses,\n",
    "        'Throw Ins Taken': throwin,\n",
    "        'Corners Taken': corners,\n",
    "        'Passes Offside': offside_pass,\n",
    "    \n",
    "        'Live SCA': live_sca,\n",
    "        'Deadball SCA': deadball_sca,\n",
    "        'Take-on SCA': takeons_sca,\n",
    "        'Shot SCA': shots_sca,\n",
    "        'Foul SCA': fouls_sca,\n",
    "        'Defense SCA': defense_sca,\n",
    "    \n",
    "        'Live GCA': live_gca,\n",
    "        'Deadball GCA': deadball_gca,\n",
    "        'Take-on GCA': takeons_gca,\n",
    "        'Shot GCA': shots_gca,\n",
    "        'Foul GCA': fouls_gca,\n",
    "        'Defense GCA': defense_gca,\n",
    "    \n",
    "        'Tackles Won': tackles_won,\n",
    "        'Defensive Third Tackles': tackles_def,\n",
    "        'Middle Third Tackles': tackles_mid,\n",
    "        'Attacking Third Tackles': tackles_att,\n",
    "        'Dribblers Tackled': dribblers_tackled,\n",
    "        'Dribblers Tackled Attempts': dribbles_challenged,\n",
    "        'Challenges Lost': challenges_lost,\n",
    "        'Shots Blocked': shots_blocked,\n",
    "        'Passes Blocked': pass_blocked,\n",
    "        'Clearances': clearances,\n",
    "        'Defensive Errors': def_errors,\n",
    "    \n",
    "        'Defensive Penalty Area Touches': def_penarea_touches,\n",
    "        'Defensive Third Touches': def_third_touches,\n",
    "        'Middle Third Touches': mid_third_touches,\n",
    "        'Attacking Third Touches': att_third_touches,\n",
    "        'Penalty Area Touches': pen_area_touches,\n",
    "        'Carry Distance': carry_distance,\n",
    "        'Progressive Carry Distance': prg_carry_distance,\n",
    "        'Final Third Carries': final_third_carries,\n",
    "        'Carries into Penalty Area': pen_area_carries,\n",
    "        'Miscontrols': miscontrols,\n",
    "        'Dispossessed': dispossesed,\n",
    "        'Passes Received': pass_received,\n",
    "        'Progressive Passes Received': prg_pass_received\n",
    "    })\n",
    "    \n",
    "    for column in df.columns:\n",
    "        df[column] = df[column].replace('',0) #replacing empty strings with zero \n",
    "    \n",
    "    #modifying data types\n",
    "    df = df.astype({\n",
    "        'Date': 'datetime64[ns]',\n",
    "        'Day': 'object',\n",
    "        'Matchweek': 'int64',\n",
    "        'Venue': 'object',\n",
    "        'Result': 'object',\n",
    "        'Team': 'object',\n",
    "        'Opponent': 'object', \n",
    "        'Start': 'object', \n",
    "        'Position': 'object',\n",
    "        'Minutes Played': 'int64', \n",
    "        'Goals': 'int64', \n",
    "        'Assists': 'int64', \n",
    "        'Penalties Scored': 'int64', \n",
    "        'Penalties Attempted': 'int64', \n",
    "        'Shots': 'int64', \n",
    "        'Shots on Target': 'int64', \n",
    "        'Yellow Cards': 'int64', \n",
    "        'Red Cards': 'int64', \n",
    "        'Touches': 'int64', \n",
    "        'Tackles': 'int64',\n",
    "        'Interceptions': 'int64', \n",
    "        'Blocks': 'int64', \n",
    "        'xG': 'float64',\n",
    "        'npxG': 'float64',\n",
    "        'xAG': 'float64', \n",
    "        'Shot Creating Actions': 'int64', \n",
    "        'Goal Creating Actions': 'int64', \n",
    "        'Passes Completed': 'int64', \n",
    "        'Passes Attempted': 'int64', \n",
    "        'Progressive Passes': 'int64',\n",
    "        'Carries': 'int64', \n",
    "        'Progressive Carries': 'int64', \n",
    "        'Take-ons Attempted': 'int64', \n",
    "        'Successful Take-ons': 'int64',\n",
    "        \n",
    "        'Short Passes Completed' : 'int64',\n",
    "        'Short Passes Attempted': 'int64',\n",
    "        'Medium Passes Completed': 'int64',\n",
    "        'Medium Passes Attempted': 'int64',\n",
    "        'Long Passes Completed': 'int64',\n",
    "        'Long Passes Attempted': 'int64',\n",
    "        'Expected Assists': 'float64',\n",
    "        'Key Passes': 'int64',\n",
    "        'Passes into Final Third': 'int64',\n",
    "        'Passes into Penalty Area': 'int64',\n",
    "        'Crosses into Penalty Area': 'int64',\n",
    "    \n",
    "        'Live Pass': 'int64',\n",
    "        'Dead Pass': 'int64',\n",
    "        'Free Kick Pass': 'int64',\n",
    "        'Through Balls': 'int64',\n",
    "        'Switches': 'int64',\n",
    "        'Crosses': 'int64',\n",
    "        'Throw Ins Taken': 'int64',\n",
    "        'Corners Taken': 'int64',\n",
    "        'Passes Offside': 'int64',\n",
    "    \n",
    "        'Live SCA': 'int64',\n",
    "        'Deadball SCA': 'int64',\n",
    "        'Take-on SCA': 'int64',\n",
    "        'Shot SCA': 'int64',\n",
    "        'Foul SCA': 'int64',\n",
    "        'Defense SCA': 'int64',\n",
    "    \n",
    "        'Live GCA': 'int64',\n",
    "        'Deadball GCA': 'int64',\n",
    "        'Take-on GCA': 'int64',\n",
    "        'Shot GCA': 'int64',\n",
    "        'Foul GCA': 'int64',\n",
    "        'Defense GCA': 'int64',\n",
    "    \n",
    "        'Tackles Won': 'int64',\n",
    "        'Defensive Third Tackles': 'int64',\n",
    "        'Middle Third Tackles': 'int64',\n",
    "        'Attacking Third Tackles': 'int64',\n",
    "        'Dribblers Tackled': 'int64',\n",
    "        'Dribblers Tackled Attempts': 'int64',\n",
    "        'Challenges Lost': 'int64',\n",
    "        'Shots Blocked': 'int64',\n",
    "        'Passes Blocked': 'int64',\n",
    "        'Clearances': 'int64',\n",
    "        'Defensive Errors': 'int64',\n",
    "    \n",
    "        'Defensive Penalty Area Touches': 'int64',\n",
    "        'Defensive Third Touches': 'int64',\n",
    "        'Middle Third Touches': 'int64',\n",
    "        'Attacking Third Touches': 'int64',\n",
    "        'Penalty Area Touches': 'int64',\n",
    "        'Carry Distance': 'float64',\n",
    "        'Progressive Carry Distance': 'float64',\n",
    "        'Final Third Carries': 'int64',\n",
    "        'Carries into Penalty Area': 'int64',\n",
    "        'Miscontrols': 'int64',\n",
    "        'Dispossessed': 'int64',\n",
    "        'Passes Received': 'int64',\n",
    "        'Progressive Passes Received': 'int64'\n",
    "    })\n",
    "    \n",
    "    #changing date column data type \n",
    "    df['Date'] = df['Date'].dt.date\n",
    "    \n",
    "    ###############################################################################\n",
    "    \n",
    "    #now we want to get the fpl data \n",
    "    start_year = year_range[:4] #getting the whole of the first year \n",
    "    end_year = year_range[-2:]\n",
    "    format_year = f'{start_year}-{end_year}'\n",
    "    directory = f'Fantasy-Premier-League/data/{format_year}/players'\n",
    "    files = os.listdir(directory)\n",
    "    csv_file = [f for f in files if fpl_name in f]\n",
    "    fpldf = pd.read_csv(os.path.join(directory, csv_file[0]) + '/gw.csv')\n",
    "\n",
    "    #some of the columns are duplicated (from the webscraped data), so we want to remove these \n",
    "    fpldf = fpldf.drop(['assists', 'expected_assists', 'expected_goal_involvements', 'expected_goals', 'fixture',\n",
    "                                          'goals_conceded', 'goals_scored', 'penalties_missed', 'penalties_saved', 'red_cards'\n",
    "                                          ,'team_a_score', 'team_h_score', 'was_home', 'yellow_cards', 'element', 'opponent_team', 'starts'\n",
    "                                          ,'expected_goals_conceded'], axis=1, \n",
    "                       errors = 'ignore')\n",
    "\n",
    "    #we now want to change the 'kickoff time' feature into a datetime object \n",
    "    fpldf['kickoff_time'] = pd.to_datetime(fpldf['kickoff_time'])\n",
    "\n",
    "    #creating new column, which is just the kickoff date \n",
    "    fpldf['kickoff_date'] = fpldf['kickoff_time'].dt.date\n",
    "    \n",
    "    finaldf = pd.merge(df, fpldf, left_on='Date', right_on='kickoff_date', how='inner')\n",
    "    \n",
    "    return(finaldf)"
   ]
  },
  {
   "cell_type": "markdown",
   "metadata": {},
   "source": [
    "get_premgames function"
   ]
  },
  {
   "cell_type": "code",
   "execution_count": 8,
   "metadata": {},
   "outputs": [],
   "source": [
    "def get_premgames (code, player):\n",
    "    base_url = f'https://fbref.com/en/players/{code}/{player}'\n",
    "    html = requests.get(base_url).text\n",
    "    soup = BeautifulSoup(html, 'lxml')\n",
    "    summary = soup.find('table', class_='stats_table sortable min_width')\n",
    "    table = summary.find('tbody')\n",
    "    \n",
    "    comp = table.find_all('td', attrs={'data-stat': 'comp_level'})\n",
    "    comp_text = [cell.get_text() for cell in comp]\n",
    "    games = table.find_all('td', attrs={'data-stat': 'games'})\n",
    "    games_text = [cell.get_text() for cell in games]\n",
    "    season = table.find_all('th', attrs={'data-stat': 'year_id'})\n",
    "    season_text  = [cell.get_text() for cell in season]\n",
    "    \n",
    "    df = pd.DataFrame({\n",
    "        'Season': season_text,\n",
    "        'Competition': comp_text, \n",
    "        'Games Played': games_text\n",
    "    })\n",
    "\n",
    "    season_list = ('2023-2024', '2022-2023', '2021-2022', '2020-2021', '2019-2020', '2018-2019', '2017-2018')\n",
    "    total_games = df[(df['Competition'] == '1. Premier League') & (df['Season'].isin(season_list))]['Games Played']\n",
    "    total_games = pd.to_numeric(total_games)\n",
    "    prem_games = total_games.sum()\n",
    "    return(prem_games)"
   ]
  },
  {
   "cell_type": "markdown",
   "metadata": {},
   "source": [
    "This code specifies the location to place the .csv file into"
   ]
  },
  {
   "cell_type": "code",
   "execution_count": 10,
   "metadata": {},
   "outputs": [],
   "source": [
    "nest_folder = (\"Player_Data\")\n",
    "os.makedirs(nest_folder, exist_ok = True)\n",
    "\n",
    "nest_folder_def = os.path.join(\"Player_Data\", \"Defenders\")"
   ]
  },
  {
   "cell_type": "markdown",
   "metadata": {},
   "source": [
    "## Now, we actually use the functions above to get the necessary data "
   ]
  },
  {
   "cell_type": "markdown",
   "metadata": {},
   "source": [
    "### Diogo Jota"
   ]
  },
  {
   "cell_type": "code",
   "execution_count": 35,
   "metadata": {},
   "outputs": [],
   "source": [
    "jota_2324_finaldf = get_data('178ae8f8', '2023-2024', 'Diogo-Jota',  \"Diogo_Teixeira da Silva\")"
   ]
  },
  {
   "cell_type": "code",
   "execution_count": 9,
   "metadata": {},
   "outputs": [],
   "source": [
    "jota_2223_finaldf = get_data('178ae8f8', '2022-2023', 'Diogo-Jota',  \"Diogo_Teixeira da Silva\")"
   ]
  },
  {
   "cell_type": "code",
   "execution_count": 10,
   "metadata": {},
   "outputs": [],
   "source": [
    "jota_2122_finaldf = get_data('178ae8f8', '2021-2022', 'Diogo-Jota',  \"Diogo_Teixeira da Silva\")"
   ]
  },
  {
   "cell_type": "code",
   "execution_count": 12,
   "metadata": {},
   "outputs": [],
   "source": [
    "jota_2021_finaldf = get_data('178ae8f8', '2020-2021', 'Diogo-Jota',  \"Diogo_Teixeira da Silva\")"
   ]
  },
  {
   "cell_type": "code",
   "execution_count": 6,
   "metadata": {},
   "outputs": [],
   "source": [
    "jota_1920_finaldf = get_data('178ae8f8', '2019-2020', 'Diogo-Jota',  \"Diogo_Teixeira da Silva\")"
   ]
  },
  {
   "cell_type": "code",
   "execution_count": 7,
   "metadata": {},
   "outputs": [],
   "source": [
    "jota_1819_finaldf = get_data('178ae8f8', '2018-2019', 'Diogo-Jota',  \"Diogo_Teixeira da Silva\")"
   ]
  },
  {
   "cell_type": "code",
   "execution_count": 26,
   "metadata": {},
   "outputs": [],
   "source": [
    "jota_finaldat = pd.concat([jota_1819_finaldf, jota_1920_finaldf, jota_2021_finaldf, jota_2122_finaldf\n",
    "                            , jota_2223_finaldf, jota_2324_finaldf], join = 'inner', ignore_index = True)\n",
    "jota_finaldat.to_csv(os.path.join(nest_folder, \"jota_finaldat.csv\"))"
   ]
  },
  {
   "cell_type": "markdown",
   "metadata": {},
   "source": [
    "### Luis Diaz"
   ]
  },
  {
   "cell_type": "code",
   "execution_count": 27,
   "metadata": {},
   "outputs": [],
   "source": [
    "diaz_2324_finaldf = get_data('4a1a9578', '2023-2024', 'Luis-Diaz',  \"Luis_Díaz\")"
   ]
  },
  {
   "cell_type": "code",
   "execution_count": 28,
   "metadata": {},
   "outputs": [],
   "source": [
    "diaz_2223_finaldf = get_data('4a1a9578', '2022-2023', 'Luis-Diaz',  \"Luis_Díaz\")"
   ]
  },
  {
   "cell_type": "code",
   "execution_count": 29,
   "metadata": {},
   "outputs": [],
   "source": [
    "diaz_2122_finaldf = get_data('4a1a9578', '2021-2022', 'Luis-Diaz',  \"Luis_Díaz\")"
   ]
  },
  {
   "cell_type": "code",
   "execution_count": 30,
   "metadata": {},
   "outputs": [],
   "source": [
    "diaz_finaldat = pd.concat([diaz_2122_finaldf, diaz_2223_finaldf, diaz_2324_finaldf], join = 'inner', ignore_index = True)\n",
    "diaz_finaldat.to_csv(os.path.join(nest_folder, \"diaz_finaldat.csv\"))"
   ]
  },
  {
   "cell_type": "markdown",
   "metadata": {},
   "source": [
    "### Cody Gakpo"
   ]
  },
  {
   "cell_type": "code",
   "execution_count": 31,
   "metadata": {},
   "outputs": [],
   "source": [
    "gakpo_2324_finaldf = get_data('1971591f', '2023-2024', 'Cody-Gakpo',  \"Cody_Gakpo\")"
   ]
  },
  {
   "cell_type": "code",
   "execution_count": 32,
   "metadata": {},
   "outputs": [],
   "source": [
    "gakpo_2223_finaldf = get_data('1971591f', '2022-2023', 'Cody-Gakpo',  \"Cody_Gakpo\")"
   ]
  },
  {
   "cell_type": "code",
   "execution_count": 33,
   "metadata": {},
   "outputs": [],
   "source": [
    "gakpo_finaldat = pd.concat([gakpo_2223_finaldf, gakpo_2324_finaldf], join = 'inner', ignore_index = True)\n",
    "gakpo_finaldat.to_csv(os.path.join(nest_folder, \"gakpo_finaldat.csv\"))"
   ]
  },
  {
   "cell_type": "markdown",
   "metadata": {},
   "source": [
    "### Darwin Nunez"
   ]
  },
  {
   "cell_type": "code",
   "execution_count": 36,
   "metadata": {},
   "outputs": [],
   "source": [
    "darwin_2324_finaldf = get_data('4d77b365', '2023-2024', 'Darwin-Nunez',  \"Darwin_Núñez Ribeiro\")"
   ]
  },
  {
   "cell_type": "code",
   "execution_count": 38,
   "metadata": {},
   "outputs": [],
   "source": [
    "darwin_2223_finaldf = get_data('4d77b365', '2022-2023', 'Darwin-Nunez',  \"Darwin\")"
   ]
  },
  {
   "cell_type": "code",
   "execution_count": 39,
   "metadata": {},
   "outputs": [],
   "source": [
    "darwin_finaldat = pd.concat([darwin_2223_finaldf, darwin_2324_finaldf], join = 'inner', ignore_index = True)\n",
    "darwin_finaldat.to_csv(os.path.join(nest_folder, \"darwin_finaldat.csv\"))"
   ]
  },
  {
   "cell_type": "markdown",
   "metadata": {},
   "source": [
    "# Updated Function\n",
    "This new function compile_dat allows us to get all of the data for a single player in one function, instead of having to do it one by one as can be seen above. "
   ]
  },
  {
   "cell_type": "code",
   "execution_count": 9,
   "metadata": {},
   "outputs": [],
   "source": [
    "def compile_dat (code, player, fpl_name, checkgames):\n",
    "    #these are the seasons for which we have fpl data \n",
    "    year_list = ('2023-24', '2022-23', '2021-22', '2020-21', '2019-20', '2018-19', '2017-18')\n",
    "    \n",
    "    #active_years is a list that will store the seasons that a given player was active. The for loop will check to see which years a player was active\n",
    "    #in the prem, and will append this year to the list\n",
    "    active_years = []\n",
    "    for year in year_list: \n",
    "        directory = f'Fantasy-Premier-League/data/{year}/players'\n",
    "        files = os.listdir(directory)\n",
    "        csv_file = [f for f in files if fpl_name in f]\n",
    "        if csv_file:\n",
    "            update_year = year[:5] + '20' + year[5:]\n",
    "            active_years.append(update_year)\n",
    "    \n",
    "    #create an empty dictionary to store all of the dataframes \n",
    "    dataframes = {}\n",
    "    \n",
    "    #for each season a player was active, the get_data function from above is uesd to add the data for that season to the dataframes dictionary\n",
    "    for year in active_years: \n",
    "        dataframes[year] = get_data_final(code, year, player, fpl_name)\n",
    "        #1 minute pause in between each iteration, to ensure that we don't get banned from FBref\n",
    "        time.sleep(60)\n",
    "    \n",
    "    #concatenate all of the dataframes, and return one final concatenated dataframe\n",
    "    finaldf = pd.concat(dataframes.values(), join = \"inner\", ignore_index = True)\n",
    "    \n",
    "    if checkgames:\n",
    "        games_played = get_premgames(code, player)\n",
    "        if games_played == finaldf.shape[0]:\n",
    "            return(finaldf)\n",
    "        else:\n",
    "            return(print('The number of Premier League games played by ' + player + '(' + str(games_played) +  ') does not match the number of rows in the dataframe ('+ str(finaldf.shape[0]) + ')'))\n",
    "    else: \n",
    "        return(finaldf)\n",
    "\n",
    "#note that the to_csv code is not included in this function, because there are certain players whose names were changed in between seasons \n",
    "#(e.g. Diogo Teixeira da Silva to Diogo Jota). In these cases, we need to use the compile function twice to get all of the data, before concatenating\n",
    "#and then finally exporting to csv "
   ]
  },
  {
   "cell_type": "markdown",
   "metadata": {},
   "source": [
    "## Arsenal"
   ]
  },
  {
   "cell_type": "code",
   "execution_count": 43,
   "metadata": {},
   "outputs": [],
   "source": [
    "saka_finaldat = compile_dat('bc7dc64d', 'Bukayo-Saka', 'Bukayo')\n",
    "saka_finaldat.to_csv(os.path.join(nest_folder, \"saka_finaldat.csv\"))"
   ]
  },
  {
   "cell_type": "code",
   "execution_count": 45,
   "metadata": {},
   "outputs": [],
   "source": [
    "havertz_finaldat = compile_dat('fed7cb61', 'Kai-Havertz', 'Kai_Havertz')\n",
    "havertz_finaldat.to_csv(os.path.join(nest_folder, \"havertz_finaldat.csv\"))"
   ]
  },
  {
   "cell_type": "code",
   "execution_count": 50,
   "metadata": {},
   "outputs": [],
   "source": [
    "jesus_finaldat = compile_dat('b66315ae', 'Gabriel-Jesus', 'de Jesus')\n",
    "jesus_finaldat.to_csv(os.path.join(nest_folder, \"jesus_finaldat.csv\"))"
   ]
  },
  {
   "cell_type": "code",
   "execution_count": 47,
   "metadata": {},
   "outputs": [],
   "source": [
    "trossard_finaldat = compile_dat('38ceb24a', 'Leandro-Trossard', 'Leandro_Trossard')\n",
    "trossard_finaldat.to_csv(os.path.join(nest_folder, \"trossard_finaldat.csv\"))"
   ]
  },
  {
   "cell_type": "code",
   "execution_count": 51,
   "metadata": {},
   "outputs": [],
   "source": [
    "martinelli_finaldat = compile_dat('48a5a5d6', 'Gabriel-Martinelli', 'Martinelli')\n",
    "martinelli_finaldat.to_csv(os.path.join(nest_folder, \"martinelli_finaldat.csv\"))"
   ]
  },
  {
   "cell_type": "code",
   "execution_count": 52,
   "metadata": {},
   "outputs": [],
   "source": [
    "odegaard_finaldat = compile_dat('79300479', 'Martin-Odegaard', 'Ødegaard')\n",
    "odegaard_finaldat.to_csv(os.path.join(nest_folder, \"odegaard_finaldat.csv\"))"
   ]
  },
  {
   "cell_type": "code",
   "execution_count": 53,
   "metadata": {},
   "outputs": [],
   "source": [
    "sterling_finaldat = compile_dat('b400bde0', 'Raheem-Sterling', 'Raheem_Sterling')\n",
    "sterling_finaldat.to_csv(os.path.join(nest_folder, \"sterling_finaldat.csv\"))"
   ]
  },
  {
   "cell_type": "code",
   "execution_count": 88,
   "metadata": {},
   "outputs": [],
   "source": [
    "jorginho_finaldat = compile_dat('45db685d', 'Jorginho', 'Jorge Luiz_Frello', checkgames = True)\n",
    "if isinstance(jorginho_finaldat, pd.DataFrame):\n",
    "    jorginho_finaldat.to_csv(os.path.join(nest_folder, \"jorginho_finaldat.csv\"))"
   ]
  },
  {
   "cell_type": "code",
   "execution_count": 100,
   "metadata": {},
   "outputs": [],
   "source": [
    "rice_finaldat = compile_dat('1c7012b8', 'Declan-Rice', 'Declan_Rice', checkgames = True)\n",
    "if isinstance(rice_finaldat, pd.DataFrame):\n",
    "    rice_finaldat.to_csv(os.path.join(nest_folder, \"rice_finaldat.csv\"))"
   ]
  },
  {
   "cell_type": "code",
   "execution_count": 90,
   "metadata": {},
   "outputs": [],
   "source": [
    "partey_finaldat = compile_dat('529f49ab', 'Thomas-Partey', 'Thomas_Partey', checkgames = True)\n",
    "if isinstance(partey_finaldat, pd.DataFrame):\n",
    "    partey_finaldat.to_csv(os.path.join(nest_folder, \"partey_finaldat.csv\"))"
   ]
  },
  {
   "cell_type": "markdown",
   "metadata": {},
   "source": [
    "Arsenal Defenders"
   ]
  },
  {
   "cell_type": "code",
   "execution_count": 11,
   "metadata": {},
   "outputs": [],
   "source": [
    "gabriel_finaldat = compile_dat('67ac5bb8', 'Gabriel-Magalhaes', 'Magalh', checkgames = True)\n",
    "if isinstance(gabriel_finaldat, pd.DataFrame):\n",
    "    gabriel_finaldat.to_csv(os.path.join(nest_folder_def, \"gabriel_finaldat.csv\"))"
   ]
  },
  {
   "cell_type": "code",
   "execution_count": 12,
   "metadata": {},
   "outputs": [
    {
     "name": "stderr",
     "output_type": "stream",
     "text": [
      "/var/folders/dv/bjx4hkg54x17symh1g3_3jf80000gq/T/ipykernel_58690/3417702198.py:26: FutureWarning: The behavior of DataFrame concatenation with empty or all-NA entries is deprecated. In a future version, this will no longer exclude empty or all-NA columns when determining the result dtypes. To retain the old behavior, exclude the relevant entries before the concat operation.\n",
      "  finaldf = pd.concat(dataframes.values(), join = \"inner\", ignore_index = True)\n"
     ]
    }
   ],
   "source": [
    "saliba_finaldat = compile_dat('972aeb2a', 'William-Saliba', 'William_Saliba', checkgames = True)\n",
    "if isinstance(saliba_finaldat, pd.DataFrame):\n",
    "    saliba_finaldat.to_csv(os.path.join(nest_folder_def, \"saliba_finaldat.csv\"))"
   ]
  },
  {
   "cell_type": "code",
   "execution_count": 13,
   "metadata": {},
   "outputs": [],
   "source": [
    "white_finaldat = compile_dat('35e413f1', 'Ben-White', 'Ben_White', checkgames = True)\n",
    "if isinstance(white_finaldat, pd.DataFrame):\n",
    "    white_finaldat.to_csv(os.path.join(nest_folder_def, \"white_finaldat.csv\"))"
   ]
  },
  {
   "cell_type": "code",
   "execution_count": 14,
   "metadata": {},
   "outputs": [],
   "source": [
    "zinchenko_finaldat = compile_dat('51cf8561', 'Oleksandr-Zinchenko', 'Oleksandr_Zinchenko', checkgames = True)\n",
    "if isinstance(zinchenko_finaldat, pd.DataFrame):\n",
    "    zinchenko_finaldat.to_csv(os.path.join(nest_folder_def, \"zinchenko_finaldat.csv\"))"
   ]
  },
  {
   "cell_type": "code",
   "execution_count": 15,
   "metadata": {},
   "outputs": [],
   "source": [
    "kiwior_finaldat = compile_dat('dc3e663e', 'Jakub-Kiwior', 'Jakub_Kiwior', checkgames = True)\n",
    "if isinstance(kiwior_finaldat, pd.DataFrame):\n",
    "    kiwior_finaldat.to_csv(os.path.join(nest_folder_def, \"kiwior_finaldat.csv\"))"
   ]
  },
  {
   "cell_type": "code",
   "execution_count": 16,
   "metadata": {},
   "outputs": [
    {
     "name": "stderr",
     "output_type": "stream",
     "text": [
      "/var/folders/dv/bjx4hkg54x17symh1g3_3jf80000gq/T/ipykernel_58690/3417702198.py:26: FutureWarning: The behavior of DataFrame concatenation with empty or all-NA entries is deprecated. In a future version, this will no longer exclude empty or all-NA columns when determining the result dtypes. To retain the old behavior, exclude the relevant entries before the concat operation.\n",
      "  finaldf = pd.concat(dataframes.values(), join = \"inner\", ignore_index = True)\n"
     ]
    }
   ],
   "source": [
    "tierney_finaldat = compile_dat('fce2302c', 'Kieran-Tierney', 'Kieran_Tierney', checkgames = True)\n",
    "if isinstance(tierney_finaldat, pd.DataFrame):\n",
    "    tierney_finaldat.to_csv(os.path.join(nest_folder_def, \"tierney_finaldat.csv\"))"
   ]
  },
  {
   "cell_type": "code",
   "execution_count": 17,
   "metadata": {},
   "outputs": [],
   "source": [
    "tomiyasu_finaldat = compile_dat('b3af9be1', 'Takehiro-Tomiyasu', 'Takehiro_Tomiyasu', checkgames = True)\n",
    "if isinstance(tomiyasu_finaldat, pd.DataFrame):\n",
    "    tomiyasu_finaldat.to_csv(os.path.join(nest_folder_def, \"tomiyasu_finaldat.csv\"))"
   ]
  },
  {
   "cell_type": "markdown",
   "metadata": {},
   "source": [
    "## Aston Villa"
   ]
  },
  {
   "cell_type": "code",
   "execution_count": 61,
   "metadata": {},
   "outputs": [],
   "source": [
    "duran_finaldat = compile_dat('414184f7', 'Jhon-Duran', 'Jhon', checkgames=True)\n",
    "duran_finaldat.to_csv(os.path.join(nest_folder, \"duran_finaldat.csv\"))"
   ]
  },
  {
   "cell_type": "code",
   "execution_count": 63,
   "metadata": {},
   "outputs": [],
   "source": [
    "watkins_finaldat = compile_dat('aed3a70f', 'Ollie-Watkins', 'Ollie_Watkins', checkgames=True)\n",
    "if isinstance(watkins_finaldat, pd.DataFrame):\n",
    "    watkins_finaldat.to_csv(os.path.join(nest_folder, \"watkins_finaldat.csv\"))"
   ]
  },
  {
   "cell_type": "code",
   "execution_count": 64,
   "metadata": {},
   "outputs": [],
   "source": [
    "ramsey_finaldat = compile_dat('1544f145', 'Jacob-Ramsey', 'Jacob_Ramsey', checkgames = True)\n",
    "if isinstance(ramsey_finaldat, pd.DataFrame):\n",
    "    ramsey_finaldat.to_csv(os.path.join(nest_folder, \"ramsey_finaldat.csv\"))"
   ]
  },
  {
   "cell_type": "code",
   "execution_count": 68,
   "metadata": {},
   "outputs": [],
   "source": [
    "mcginn_finaldat = compile_dat('90f91999', 'John-McGinn', 'John_McGinn', checkgames = False)\n",
    "if isinstance(mcginn_finaldat, pd.DataFrame):\n",
    "    mcginn_finaldat.to_csv(os.path.join(nest_folder, \"mcginn_finaldat.csv\"))"
   ]
  },
  {
   "cell_type": "code",
   "execution_count": 66,
   "metadata": {},
   "outputs": [],
   "source": [
    "bailey_finaldat = compile_dat('3a233281', 'Leon-Bailey', 'Leon_Bailey', checkgames = True)\n",
    "if isinstance(bailey_finaldat, pd.DataFrame):\n",
    "    bailey_finaldat.to_csv(os.path.join(nest_folder, \"bailey_finaldat.csv\"))"
   ]
  },
  {
   "cell_type": "code",
   "execution_count": 84,
   "metadata": {},
   "outputs": [
    {
     "name": "stderr",
     "output_type": "stream",
     "text": [
      "/var/folders/dv/bjx4hkg54x17symh1g3_3jf80000gq/T/ipykernel_60248/2405533476.py:26: FutureWarning: The behavior of DataFrame concatenation with empty or all-NA entries is deprecated. In a future version, this will no longer exclude empty or all-NA columns when determining the result dtypes. To retain the old behavior, exclude the relevant entries before the concat operation.\n",
      "  finaldf = pd.concat(dataframes.values(), join = \"inner\", ignore_index = True)\n"
     ]
    }
   ],
   "source": [
    "buendia_finaldat = compile_dat('66b76d44', 'Emi-Buendia', 'Emiliano_Buen', checkgames = True)\n",
    "if isinstance(buendia_finaldat, pd.DataFrame):\n",
    "    buendia_finaldat.to_csv(os.path.join(nest_folder, \"buendia_finaldat.csv\"))"
   ]
  },
  {
   "cell_type": "code",
   "execution_count": 69,
   "metadata": {},
   "outputs": [],
   "source": [
    "tielemans_finaldat = compile_dat('56f7a928', 'Youri-Tielemans', 'Youri_Tielemans', checkgames = True)\n",
    "if isinstance(tielemans_finaldat, pd.DataFrame):\n",
    "    tielemans_finaldat.to_csv(os.path.join(nest_folder, \"tielemans_finaldat.csv\"))"
   ]
  },
  {
   "cell_type": "code",
   "execution_count": 92,
   "metadata": {},
   "outputs": [
    {
     "name": "stderr",
     "output_type": "stream",
     "text": [
      "/var/folders/dv/bjx4hkg54x17symh1g3_3jf80000gq/T/ipykernel_60248/2561086557.py:26: FutureWarning: The behavior of DataFrame concatenation with empty or all-NA entries is deprecated. In a future version, this will no longer exclude empty or all-NA columns when determining the result dtypes. To retain the old behavior, exclude the relevant entries before the concat operation.\n",
      "  finaldf = pd.concat(dataframes.values(), join = \"inner\", ignore_index = True)\n"
     ]
    }
   ],
   "source": [
    "barkley_finaldat = compile_dat('3a24769f', 'Ross-Barkley', 'Ross_Barkley', checkgames = False)\n",
    "if isinstance(barkley_finaldat, pd.DataFrame):\n",
    "    barkley_finaldat.to_csv(os.path.join(nest_folder, \"barkley_finaldat.csv\"))"
   ]
  },
  {
   "cell_type": "code",
   "execution_count": 86,
   "metadata": {},
   "outputs": [],
   "source": [
    "onana_finaldat = compile_dat('828657ff', 'Amadou-Onana', 'Amadou_Onana', checkgames = True)\n",
    "if isinstance(onana_finaldat, pd.DataFrame):\n",
    "    onana_finaldat.to_csv(os.path.join(nest_folder, \"onana_finaldat.csv\"))"
   ]
  },
  {
   "cell_type": "code",
   "execution_count": 87,
   "metadata": {},
   "outputs": [],
   "source": [
    "rogers_finaldat = compile_dat('2e5915f1', 'Morgan-Rogers', 'Morgan_Rogers', checkgames = True)\n",
    "if isinstance(rogers_finaldat, pd.DataFrame):\n",
    "    rogers_finaldat.to_csv(os.path.join(nest_folder, \"rogers_finaldat.csv\"))"
   ]
  },
  {
   "cell_type": "markdown",
   "metadata": {},
   "source": [
    "Aston Villa Defenders"
   ]
  },
  {
   "cell_type": "code",
   "execution_count": 18,
   "metadata": {},
   "outputs": [],
   "source": [
    "digne_finaldat = compile_dat('1b84dbe1', 'Lucas-Digne', 'Lucas_Digne', checkgames = True)\n",
    "if isinstance(digne_finaldat, pd.DataFrame):\n",
    "    digne_finaldat.to_csv(os.path.join(nest_folder_def, \"digne_finaldat.csv\"))"
   ]
  },
  {
   "cell_type": "code",
   "execution_count": 19,
   "metadata": {},
   "outputs": [],
   "source": [
    "konsa_finaldat = compile_dat('0313a347', 'Ezri-Konsa', 'Ezri_Konsa', checkgames = True)\n",
    "if isinstance(konsa_finaldat, pd.DataFrame):\n",
    "    konsa_finaldat.to_csv(os.path.join(nest_folder_def, \"konsa_finaldat.csv\"))"
   ]
  },
  {
   "cell_type": "code",
   "execution_count": 20,
   "metadata": {},
   "outputs": [],
   "source": [
    "pau_finaldat = compile_dat('532e1e4f', 'Pau-Torres', 'Pau_Torres', checkgames = True)\n",
    "if isinstance(pau_finaldat, pd.DataFrame):\n",
    "    pau_finaldat.to_csv(os.path.join(nest_folder_def, \"pau_finaldat.csv\"))"
   ]
  },
  {
   "cell_type": "code",
   "execution_count": 21,
   "metadata": {},
   "outputs": [],
   "source": [
    "cash_finaldat = compile_dat('2389cdc2', 'Matty-Cash', 'Cash', checkgames = True)\n",
    "if isinstance(cash_finaldat, pd.DataFrame):\n",
    "    cash_finaldat.to_csv(os.path.join(nest_folder_def, \"cash_finaldat.csv\"))"
   ]
  },
  {
   "cell_type": "code",
   "execution_count": 22,
   "metadata": {},
   "outputs": [],
   "source": [
    "dcarlos_finaldat = compile_dat('b4a014b1', 'Diego-Carlos', 'Diego Carlos', checkgames = True)\n",
    "if isinstance(dcarlos_finaldat, pd.DataFrame):\n",
    "    dcarlos_finaldat.to_csv(os.path.join(nest_folder_def, \"dcarlos_finaldat.csv\"))"
   ]
  },
  {
   "cell_type": "code",
   "execution_count": 23,
   "metadata": {},
   "outputs": [
    {
     "name": "stderr",
     "output_type": "stream",
     "text": [
      "/var/folders/dv/bjx4hkg54x17symh1g3_3jf80000gq/T/ipykernel_58690/3417702198.py:26: FutureWarning: The behavior of DataFrame concatenation with empty or all-NA entries is deprecated. In a future version, this will no longer exclude empty or all-NA columns when determining the result dtypes. To retain the old behavior, exclude the relevant entries before the concat operation.\n",
      "  finaldf = pd.concat(dataframes.values(), join = \"inner\", ignore_index = True)\n"
     ]
    }
   ],
   "source": [
    "hause_finaldat = compile_dat('bf8fad51', 'Kortney-Hause', 'Kortney_Hause', checkgames = True)\n",
    "if isinstance(hause_finaldat, pd.DataFrame):\n",
    "    hause_finaldat.to_csv(os.path.join(nest_folder_def, \"hause_finaldat.csv\"))"
   ]
  },
  {
   "cell_type": "code",
   "execution_count": 24,
   "metadata": {},
   "outputs": [],
   "source": [
    "mings_finaldat = compile_dat('8397a50c', 'Tyrone-Mings', 'Tyrone_Mings', checkgames = True)\n",
    "if isinstance(mings_finaldat, pd.DataFrame):\n",
    "    mings_finaldat.to_csv(os.path.join(nest_folder_def, \"mings_finaldat.csv\"))"
   ]
  },
  {
   "cell_type": "markdown",
   "metadata": {},
   "source": [
    "## Bournemouth"
   ]
  },
  {
   "cell_type": "code",
   "execution_count": 101,
   "metadata": {},
   "outputs": [],
   "source": [
    "unal_finaldat = compile_dat('f8eca1b6', 'Enes-Unal', 'Enes', checkgames = True)\n",
    "if isinstance(unal_finaldat, pd.DataFrame):\n",
    "    unal_finaldat.to_csv(os.path.join(nest_folder, \"unal_finaldat.csv\"))"
   ]
  },
  {
   "cell_type": "code",
   "execution_count": 102,
   "metadata": {},
   "outputs": [],
   "source": [
    "semenyo_finaldat = compile_dat('efd2ec23', 'Antoine-Semenyo', 'Antoine_Semenyo', checkgames = True)\n",
    "if isinstance(semenyo_finaldat, pd.DataFrame):\n",
    "    semenyo_finaldat.to_csv(os.path.join(nest_folder, \"semenyo_finaldat.csv\"))"
   ]
  },
  {
   "cell_type": "code",
   "execution_count": 103,
   "metadata": {},
   "outputs": [],
   "source": [
    "sinisterra_finaldat = compile_dat('8e16dd48', 'Luis-Sinisterra', 'Luis_Sinisterra', checkgames = True)\n",
    "if isinstance(sinisterra_finaldat, pd.DataFrame):\n",
    "    sinisterra_finaldat.to_csv(os.path.join(nest_folder, \"sinisterra_finaldat.csv\"))"
   ]
  },
  {
   "cell_type": "code",
   "execution_count": 104,
   "metadata": {},
   "outputs": [],
   "source": [
    "tavernier_finaldat = compile_dat('5c0da4a4', 'Marcus-Tavernier', 'Marcus_Tavernier', checkgames = True)\n",
    "if isinstance(tavernier_finaldat, pd.DataFrame):\n",
    "    tavernier_finaldat.to_csv(os.path.join(nest_folder, \"tavernier_finaldat.csv\"))"
   ]
  },
  {
   "cell_type": "code",
   "execution_count": 105,
   "metadata": {},
   "outputs": [],
   "source": [
    "cook_finaldat = compile_dat('2afc7272', 'Lewis-Cook', 'Lewis_Cook', checkgames = True)\n",
    "if isinstance(cook_finaldat, pd.DataFrame):\n",
    "    cook_finaldat.to_csv(os.path.join(nest_folder, \"cook_finaldat.csv\"))"
   ]
  },
  {
   "cell_type": "code",
   "execution_count": 106,
   "metadata": {},
   "outputs": [],
   "source": [
    "kluivert_finaldat = compile_dat('4c3a6744', 'Justin-Kluivert', 'Justin_Kluivert', checkgames = True)\n",
    "if isinstance(kluivert_finaldat, pd.DataFrame):\n",
    "    kluivert_finaldat.to_csv(os.path.join(nest_folder, \"kluivert_finaldat.csv\"))"
   ]
  },
  {
   "cell_type": "code",
   "execution_count": 107,
   "metadata": {},
   "outputs": [],
   "source": [
    "dango_finaldat = compile_dat('2f9e4435', 'Dango-Ouattara', 'Dango_Ouattara', checkgames = True)\n",
    "if isinstance(dango_finaldat, pd.DataFrame):\n",
    "    dango_finaldat.to_csv(os.path.join(nest_folder, \"dango_finaldat.csv\"))"
   ]
  },
  {
   "cell_type": "code",
   "execution_count": 108,
   "metadata": {},
   "outputs": [],
   "source": [
    "christie_finaldat = compile_dat('26ce2263', 'Ryan-Christie', 'Ryan_Christie', checkgames = True)\n",
    "if isinstance(christie_finaldat, pd.DataFrame):\n",
    "    christie_finaldat.to_csv(os.path.join(nest_folder, \"christie_finaldat.csv\"))"
   ]
  },
  {
   "cell_type": "code",
   "execution_count": 109,
   "metadata": {},
   "outputs": [],
   "source": [
    "scott_finaldat = compile_dat('104d0bb8', 'Alex-Scott', 'Alex_Scott', checkgames = True)\n",
    "if isinstance(scott_finaldat, pd.DataFrame):\n",
    "    scott_finaldat.to_csv(os.path.join(nest_folder, \"scott_finaldat.csv\"))"
   ]
  },
  {
   "cell_type": "code",
   "execution_count": 110,
   "metadata": {},
   "outputs": [],
   "source": [
    "billing_finaldat = compile_dat('d328a254', 'Philip-Billing', 'Philip_Billing', checkgames = True)\n",
    "if isinstance(billing_finaldat, pd.DataFrame):\n",
    "    billing_finaldat.to_csv(os.path.join(nest_folder, \"billing_finaldat.csv\"))"
   ]
  },
  {
   "cell_type": "code",
   "execution_count": 111,
   "metadata": {},
   "outputs": [],
   "source": [
    "adams_finaldat = compile_dat('2b09d998', 'Tyler-Adams', 'Tyler_Adams', checkgames = True)\n",
    "if isinstance(adams_finaldat, pd.DataFrame):\n",
    "    adams_finaldat.to_csv(os.path.join(nest_folder, \"adams_finaldat.csv\"))"
   ]
  },
  {
   "cell_type": "code",
   "execution_count": 113,
   "metadata": {},
   "outputs": [],
   "source": [
    "brooks_finaldat = compile_dat('dc4cae05', 'David-Brooks', 'David_Brooks', checkgames = True)\n",
    "if isinstance(brooks_finaldat, pd.DataFrame):\n",
    "    brooks_finaldat.to_csv(os.path.join(nest_folder, \"brooks_finaldat.csv\"))"
   ]
  },
  {
   "cell_type": "markdown",
   "metadata": {},
   "source": [
    "Bournemouth Defenders"
   ]
  },
  {
   "cell_type": "code",
   "execution_count": 25,
   "metadata": {},
   "outputs": [
    {
     "name": "stdout",
     "output_type": "stream",
     "text": [
      "The number of Premier League games played by Illia_Zabarnyi(92) does not match the number of rows in the dataframe (42)\n"
     ]
    }
   ],
   "source": [
    "zabarnyi_finaldat = compile_dat('88968486', 'Illia_Zabarnyi', 'Illia_Zabarnyi', checkgames = False)\n",
    "if isinstance(zabarnyi_finaldat, pd.DataFrame):\n",
    "    zabarnyi_finaldat.to_csv(os.path.join(nest_folder_def, \"zabarnyi_finaldat.csv\"))"
   ]
  },
  {
   "cell_type": "code",
   "execution_count": 26,
   "metadata": {},
   "outputs": [],
   "source": [
    "kerkez_finaldat = compile_dat('0ad53bdc', 'Milos-Kerkez', 'Milos_Kerkez', checkgames = True)\n",
    "if isinstance(kerkez_finaldat, pd.DataFrame):\n",
    "    kerkez_finaldat.to_csv(os.path.join(nest_folder_def, \"kerkez_finaldat.csv\"))"
   ]
  },
  {
   "cell_type": "code",
   "execution_count": 27,
   "metadata": {},
   "outputs": [],
   "source": [
    "asmith_finaldat = compile_dat('20b104bc', 'Adam-Smith', 'Adam_Smith', checkgames = True)\n",
    "if isinstance(asmith_finaldat, pd.DataFrame):\n",
    "    asmith_finaldat.to_csv(os.path.join(nest_folder_def, \"asmith_finaldat.csv\"))"
   ]
  },
  {
   "cell_type": "code",
   "execution_count": 28,
   "metadata": {},
   "outputs": [],
   "source": [
    "senesi_finaldat = compile_dat('35141f4c', 'Marcos-Senesi', 'Senesi', checkgames = True)\n",
    "if isinstance(senesi_finaldat, pd.DataFrame):\n",
    "    senesi_finaldat.to_csv(os.path.join(nest_folder_def, \"senesi_finaldat.csv\"))"
   ]
  },
  {
   "cell_type": "code",
   "execution_count": 31,
   "metadata": {},
   "outputs": [],
   "source": [
    "aarons_finaldat = compile_dat('774cf58b', 'Max-Aarons', 'Max_Aarons', checkgames = True)\n",
    "if isinstance(aarons_finaldat, pd.DataFrame):\n",
    "    aarons_finaldat.to_csv(os.path.join(nest_folder_def, \"aarons_finaldat.csv\"))"
   ]
  },
  {
   "cell_type": "markdown",
   "metadata": {},
   "source": [
    "## Brentford"
   ]
  },
  {
   "cell_type": "code",
   "execution_count": 114,
   "metadata": {},
   "outputs": [],
   "source": [
    "toney_finaldat = compile_dat('e09f279b', 'Ivan-Toney', 'Ivan_Toney', checkgames = True)\n",
    "if isinstance(toney_finaldat, pd.DataFrame):\n",
    "    toney_finaldat.to_csv(os.path.join(nest_folder, \"toney_finaldat.csv\"))"
   ]
  },
  {
   "cell_type": "code",
   "execution_count": 115,
   "metadata": {},
   "outputs": [],
   "source": [
    "wissa_finaldat = compile_dat('2500cef9', 'Yoane-Wissa', 'Yoane_Wissa', checkgames = True)\n",
    "if isinstance(wissa_finaldat, pd.DataFrame):\n",
    "    wissa_finaldat.to_csv(os.path.join(nest_folder, \"wissa_finaldat.csv\"))"
   ]
  },
  {
   "cell_type": "code",
   "execution_count": 116,
   "metadata": {},
   "outputs": [],
   "source": [
    "mbeumo_finaldat = compile_dat('6afaebf2', 'Bryan-Mbeumo', 'Bryan_Mbeumo', checkgames = True)\n",
    "if isinstance(mbeumo_finaldat, pd.DataFrame):\n",
    "    mbeumo_finaldat.to_csv(os.path.join(nest_folder, \"mbeumo_finaldat.csv\"))"
   ]
  },
  {
   "cell_type": "code",
   "execution_count": 117,
   "metadata": {},
   "outputs": [],
   "source": [
    "jensen_finaldat = compile_dat('0f134faf', 'Mathias-Jensen', 'Mathias_Jensen', checkgames = True)\n",
    "if isinstance(jensen_finaldat, pd.DataFrame):\n",
    "    jensen_finaldat.to_csv(os.path.join(nest_folder, \"jensen_finaldat.csv\"))"
   ]
  },
  {
   "cell_type": "code",
   "execution_count": 118,
   "metadata": {},
   "outputs": [],
   "source": [
    "schade_finaldat = compile_dat('52afb588', 'Kevin-Schade', 'Kevin_Schade', checkgames = True)\n",
    "if isinstance(schade_finaldat, pd.DataFrame):\n",
    "    schade_finaldat.to_csv(os.path.join(nest_folder, \"schade_finaldat.csv\"))"
   ]
  },
  {
   "cell_type": "code",
   "execution_count": 119,
   "metadata": {},
   "outputs": [],
   "source": [
    "janelt_finaldat = compile_dat('8449d35e', 'Vitaly-Janelt', 'Vitaly_Janelt', checkgames = True)\n",
    "if isinstance(janelt_finaldat, pd.DataFrame):\n",
    "    janelt_finaldat.to_csv(os.path.join(nest_folder, \"janelt_finaldat.csv\"))"
   ]
  },
  {
   "cell_type": "code",
   "execution_count": 120,
   "metadata": {},
   "outputs": [],
   "source": [
    "damsgaard_finaldat = compile_dat('215f3907', 'Mikkel-Damsgaard', 'Mikkel_Damsgaard', checkgames = True)\n",
    "if isinstance(damsgaard_finaldat, pd.DataFrame):\n",
    "    damsgaard_finaldat.to_csv(os.path.join(nest_folder, \"damsgaard_finaldat.csv\"))"
   ]
  },
  {
   "cell_type": "code",
   "execution_count": 121,
   "metadata": {},
   "outputs": [],
   "source": [
    "norgaard_finaldat = compile_dat('df0a4c90', 'Christian-Norgaard', 'Christian_Nø', checkgames = True)\n",
    "if isinstance(norgaard_finaldat, pd.DataFrame):\n",
    "    norgaard_finaldat.to_csv(os.path.join(nest_folder, \"norgaard_finaldat.csv\"))"
   ]
  },
  {
   "cell_type": "code",
   "execution_count": 122,
   "metadata": {},
   "outputs": [],
   "source": [
    "lewispotter_finaldat = compile_dat('41f08ac8', 'Keane-Lewis-Potter', 'Keane_Lewis', checkgames = True)\n",
    "if isinstance(lewispotter_finaldat, pd.DataFrame):\n",
    "    lewispotter_finaldat.to_csv(os.path.join(nest_folder, \"lewispotter_finaldat.csv\"))"
   ]
  },
  {
   "cell_type": "markdown",
   "metadata": {},
   "source": [
    "Brentford Defenders"
   ]
  },
  {
   "cell_type": "code",
   "execution_count": 32,
   "metadata": {},
   "outputs": [],
   "source": [
    "collins_finaldat = compile_dat('a8c19eb8', 'Nathan-Collins', 'Nathan_Collins', checkgames = True)\n",
    "if isinstance(collins_finaldat, pd.DataFrame):\n",
    "    collins_finaldat.to_csv(os.path.join(nest_folder_def, \"collins_finaldat.csv\"))"
   ]
  },
  {
   "cell_type": "code",
   "execution_count": 33,
   "metadata": {},
   "outputs": [],
   "source": [
    "ajer_finaldat = compile_dat('a8c0acb7', 'Kristoffer-Ajer', 'Kristoffer_Ajer', checkgames = True)\n",
    "if isinstance(ajer_finaldat, pd.DataFrame):\n",
    "    ajer_finaldat.to_csv(os.path.join(nest_folder_def, \"ajer_finaldat.csv\"))"
   ]
  },
  {
   "cell_type": "code",
   "execution_count": 34,
   "metadata": {},
   "outputs": [],
   "source": [
    "roerslev_finaldat = compile_dat('57c94db2', 'Mads-Roerslev', 'Mads_Roerslev', checkgames = True)\n",
    "if isinstance(roerslev_finaldat, pd.DataFrame):\n",
    "    roerslev_finaldat.to_csv(os.path.join(nest_folder_def, \"roerslev_finaldat.csv\"))"
   ]
  },
  {
   "cell_type": "code",
   "execution_count": 35,
   "metadata": {},
   "outputs": [],
   "source": [
    "pinnock_finaldat = compile_dat('e541326e', 'Ethan-Pinnock', 'Ethan_Pinnock', checkgames = True)\n",
    "if isinstance(pinnock_finaldat, pd.DataFrame):\n",
    "    pinnock_finaldat.to_csv(os.path.join(nest_folder_def, \"pinnock_finaldat.csv\"))"
   ]
  },
  {
   "cell_type": "code",
   "execution_count": 36,
   "metadata": {},
   "outputs": [],
   "source": [
    "mee_finaldat = compile_dat('8df7a2fb', 'Ben-Mee', 'Ben_Mee', checkgames = True)\n",
    "if isinstance(mee_finaldat, pd.DataFrame):\n",
    "    mee_finaldat.to_csv(os.path.join(nest_folder_def, \"mee_finaldat.csv\"))"
   ]
  },
  {
   "cell_type": "code",
   "execution_count": 37,
   "metadata": {},
   "outputs": [],
   "source": [
    "rhenry_finaldat = compile_dat('8a3c1dc7', 'Rico-Henry', 'Rico_Henry', checkgames = True)\n",
    "if isinstance(rhenry_finaldat, pd.DataFrame):\n",
    "    rhenry_finaldat.to_csv(os.path.join(nest_folder_def, \"rhenry_finaldat.csv\"))"
   ]
  },
  {
   "cell_type": "code",
   "execution_count": 38,
   "metadata": {},
   "outputs": [],
   "source": [
    "hickey_finaldat = compile_dat('1780bb4a', 'Aaron-Hickey', 'Aaron_Hickey', checkgames = True)\n",
    "if isinstance(hickey_finaldat, pd.DataFrame):\n",
    "    hickey_finaldat.to_csv(os.path.join(nest_folder_def, \"hickey_finaldat.csv\"))"
   ]
  },
  {
   "cell_type": "markdown",
   "metadata": {},
   "source": [
    "## Brighton"
   ]
  },
  {
   "cell_type": "code",
   "execution_count": 123,
   "metadata": {},
   "outputs": [],
   "source": [
    "welbeck_finaldat = compile_dat('ce5143da', 'Danny-Welbeck', 'Danny_Welbeck', checkgames = True)\n",
    "if isinstance(welbeck_finaldat, pd.DataFrame):\n",
    "    welbeck_finaldat.to_csv(os.path.join(nest_folder, \"welbeck_finaldat.csv\"))"
   ]
  },
  {
   "cell_type": "code",
   "execution_count": 124,
   "metadata": {},
   "outputs": [],
   "source": [
    "jpedro_finaldat = compile_dat('e8832875', 'Joao-Pedro', 'Junqueira', checkgames = True)\n",
    "if isinstance(jpedro_finaldat, pd.DataFrame):\n",
    "    jpedro_finaldat.to_csv(os.path.join(nest_folder, \"jpedro_finaldat.csv\"))"
   ]
  },
  {
   "cell_type": "code",
   "execution_count": 125,
   "metadata": {},
   "outputs": [],
   "source": [
    "ferguson_finaldat = compile_dat('4596da74', 'Evan-Ferguson', 'Evan_Ferguson', checkgames = True)\n",
    "if isinstance(ferguson_finaldat, pd.DataFrame):\n",
    "    ferguson_finaldat.to_csv(os.path.join(nest_folder, \"ferguson_finaldat.csv\"))"
   ]
  },
  {
   "cell_type": "code",
   "execution_count": 126,
   "metadata": {},
   "outputs": [],
   "source": [
    "mitoma_finaldat = compile_dat('74618572', 'Kaoru-Mitoma', 'Kaoru_Mitoma', checkgames = True)\n",
    "if isinstance(mitoma_finaldat, pd.DataFrame):\n",
    "    mitoma_finaldat.to_csv(os.path.join(nest_folder, \"mitoma_finaldat.csv\"))"
   ]
  },
  {
   "cell_type": "code",
   "execution_count": 127,
   "metadata": {},
   "outputs": [],
   "source": [
    "adingra_finaldat = compile_dat('4dcec659', 'Simon-Adingra', 'Simon_Adingra', checkgames = True)\n",
    "if isinstance(adingra_finaldat, pd.DataFrame):\n",
    "    adingra_finaldat.to_csv(os.path.join(nest_folder, \"adingra_finaldat.csv\"))"
   ]
  },
  {
   "cell_type": "code",
   "execution_count": 128,
   "metadata": {},
   "outputs": [],
   "source": [
    "hinshelwood_finaldat = compile_dat('e98211e7', 'Jack-Hinshelwood', 'Jack_Hinshelwood', checkgames = True)\n",
    "if isinstance(hinshelwood_finaldat, pd.DataFrame):\n",
    "    hinshelwood_finaldat.to_csv(os.path.join(nest_folder, \"hinshelwood_finaldat.csv\"))"
   ]
  },
  {
   "cell_type": "code",
   "execution_count": 129,
   "metadata": {},
   "outputs": [],
   "source": [
    "milner_finaldat = compile_dat('2f90f6b8', 'James-Milner', 'James_Milner', checkgames = True)\n",
    "if isinstance(milner_finaldat, pd.DataFrame):\n",
    "    milner_finaldat.to_csv(os.path.join(nest_folder, \"milner_finaldat.csv\"))"
   ]
  },
  {
   "cell_type": "code",
   "execution_count": 130,
   "metadata": {},
   "outputs": [],
   "source": [
    "enciso_finaldat = compile_dat('9cfbad36', 'Julio-Enciso', 'Julio_Enciso', checkgames = True)\n",
    "if isinstance(enciso_finaldat, pd.DataFrame):\n",
    "    enciso_finaldat.to_csv(os.path.join(nest_folder, \"enciso_finaldat.csv\"))"
   ]
  },
  {
   "cell_type": "code",
   "execution_count": 140,
   "metadata": {},
   "outputs": [],
   "source": [
    "march_latedat = compile_dat('bb5fbd2b', 'Solly-March', 'Solly_March', checkgames = False)\n",
    "march_earlydat = compile_dat('bb5fbd2b', 'Solly-March', 'Solomon_March', checkgames = False)\n",
    "march_finaldat = pd.concat([march_latedat, march_earlydat], join = \"inner\", ignore_index = True)\n",
    "if isinstance(march_finaldat, pd.DataFrame):\n",
    "    march_finaldat.to_csv(os.path.join(nest_folder, \"march_finaldat.csv\"))"
   ]
  },
  {
   "cell_type": "markdown",
   "metadata": {},
   "source": [
    "Brighton Defenders"
   ]
  },
  {
   "cell_type": "code",
   "execution_count": 98,
   "metadata": {},
   "outputs": [],
   "source": [
    "veltman_finaldat = compile_dat('dad4b285', 'Joel-Veltman', 'Veltman', checkgames = True)\n",
    "if isinstance(veltman_finaldat, pd.DataFrame):\n",
    "    veltman_finaldat.to_csv(os.path.join(nest_folder_def, \"veltman_finaldat.csv\"))"
   ]
  },
  {
   "cell_type": "code",
   "execution_count": 40,
   "metadata": {},
   "outputs": [],
   "source": [
    "dunk_finaldat = compile_dat('282f75f3', 'Lewis-Dunk', 'Lewis_Dunk', checkgames = True)\n",
    "if isinstance(dunk_finaldat, pd.DataFrame):\n",
    "    dunk_finaldat.to_csv(os.path.join(nest_folder_def, \"dunk_finaldat.csv\"))"
   ]
  },
  {
   "cell_type": "code",
   "execution_count": 41,
   "metadata": {},
   "outputs": [],
   "source": [
    "vanhecke_finaldat = compile_dat('4fd08daa', 'Jan-Paul-van-Hecke', 'van Hecke', checkgames = True)\n",
    "if isinstance(vanhecke_finaldat, pd.DataFrame):\n",
    "    vanhecke_finaldat.to_csv(os.path.join(nest_folder_def, \"vanhecke_finaldat.csv\"))"
   ]
  },
  {
   "cell_type": "code",
   "execution_count": 42,
   "metadata": {},
   "outputs": [],
   "source": [
    "estupinan_finaldat = compile_dat('d38fdf53', 'Pervis-Estupinan', 'Pervis_Estupi', checkgames = True)\n",
    "if isinstance(estupinan_finaldat, pd.DataFrame):\n",
    "    estupinan_finaldat.to_csv(os.path.join(nest_folder_def, \"estupinan_finaldat.csv\"))"
   ]
  },
  {
   "cell_type": "code",
   "execution_count": 43,
   "metadata": {},
   "outputs": [],
   "source": [
    "webster_finaldat = compile_dat('c40b6180', 'Adam-Webster', 'Adam_Webster', checkgames = True)\n",
    "if isinstance(webster_finaldat, pd.DataFrame):\n",
    "    webster_finaldat.to_csv(os.path.join(nest_folder_def, \"webster_finaldat.csv\"))"
   ]
  },
  {
   "cell_type": "code",
   "execution_count": 44,
   "metadata": {},
   "outputs": [],
   "source": [
    "igor_finaldat = compile_dat('a4e85758', 'Igor', 'Igor', checkgames = True)\n",
    "if isinstance(igor_finaldat, pd.DataFrame):\n",
    "    igor_finaldat.to_csv(os.path.join(nest_folder_def, \"igor_finaldat.csv\"))"
   ]
  },
  {
   "cell_type": "code",
   "execution_count": 45,
   "metadata": {},
   "outputs": [],
   "source": [
    "lamptey_finaldat = compile_dat('f4e433d4', 'Tariq-Lamptey', 'Tariq_Lamptey', checkgames = True)\n",
    "if isinstance(lamptey_finaldat, pd.DataFrame):\n",
    "    lamptey_finaldat.to_csv(os.path.join(nest_folder_def, \"lamptey_finaldat.csv\"))"
   ]
  },
  {
   "cell_type": "markdown",
   "metadata": {},
   "source": [
    "## Chelsea"
   ]
  },
  {
   "cell_type": "code",
   "execution_count": 142,
   "metadata": {},
   "outputs": [],
   "source": [
    "jackson_finaldat = compile_dat('9c36ed83', 'Nicolas-Jackson', 'Nicolas_Jackson', checkgames = True)\n",
    "if isinstance(jackson_finaldat, pd.DataFrame):\n",
    "    jackson_finaldat.to_csv(os.path.join(nest_folder, \"jackson_finaldat.csv\"))"
   ]
  },
  {
   "cell_type": "code",
   "execution_count": 143,
   "metadata": {},
   "outputs": [],
   "source": [
    "palmer_finaldat = compile_dat('dc7f8a28', 'Cole-Palmer', 'Cole_Palmer', checkgames = True)\n",
    "if isinstance(palmer_finaldat, pd.DataFrame):\n",
    "    palmer_finaldat.to_csv(os.path.join(nest_folder, \"palmer_finaldat.csv\"))"
   ]
  },
  {
   "cell_type": "code",
   "execution_count": 138,
   "metadata": {},
   "outputs": [],
   "source": [
    "madueke_finaldat = compile_dat('bf34eebd', 'Noni-Madueke', 'Noni_Madueke', checkgames = True)\n",
    "if isinstance(madueke_finaldat, pd.DataFrame):\n",
    "    madueke_finaldat.to_csv(os.path.join(nest_folder, \"madueke_finaldat.csv\"))"
   ]
  },
  {
   "cell_type": "code",
   "execution_count": 139,
   "metadata": {},
   "outputs": [],
   "source": [
    "felix_finaldat = compile_dat('8aafd64f', 'Joao-Felix', 'Sequeira', checkgames = True)\n",
    "if isinstance(felix_finaldat, pd.DataFrame):\n",
    "    felix_finaldat.to_csv(os.path.join(nest_folder, \"felix_finaldat.csv\"))"
   ]
  },
  {
   "cell_type": "code",
   "execution_count": 141,
   "metadata": {},
   "outputs": [],
   "source": [
    "enzo_finaldat = compile_dat('5ff4ab71', 'Enzo-Fernandez', 'Enzo_Fern', checkgames = True)\n",
    "if isinstance(enzo_finaldat, pd.DataFrame):\n",
    "    enzo_finaldat.to_csv(os.path.join(nest_folder, \"enzo_finaldat.csv\"))"
   ]
  },
  {
   "cell_type": "code",
   "execution_count": 156,
   "metadata": {},
   "outputs": [],
   "source": [
    "caicedo_finaldat = compile_dat('16264a81', 'Moises-Caicedo', 'Caicedo', checkgames = True)\n",
    "if isinstance(caicedo_finaldat, pd.DataFrame):\n",
    "    caicedo_finaldat.to_csv(os.path.join(nest_folder, \"caicedo_finaldat.csv\"))"
   ]
  },
  {
   "cell_type": "code",
   "execution_count": 145,
   "metadata": {},
   "outputs": [],
   "source": [
    "neto_finaldat = compile_dat('7ba2eaa9', 'Pedro-Neto', 'Pedro_Lomba', checkgames = True)\n",
    "if isinstance(neto_finaldat, pd.DataFrame):\n",
    "    neto_finaldat.to_csv(os.path.join(nest_folder, \"neto_finaldat.csv\"))"
   ]
  },
  {
   "cell_type": "code",
   "execution_count": 146,
   "metadata": {},
   "outputs": [],
   "source": [
    "dewsburyhall_finaldat = compile_dat('5c74c0f5', 'Kiernan-Dewsbury-Hall', 'Kiernan_Dewsbury', checkgames = True)\n",
    "if isinstance(dewsburyhall_finaldat, pd.DataFrame):\n",
    "    dewsburyhall_finaldat.to_csv(os.path.join(nest_folder, \"dewsburyhall_finaldat.csv\"))"
   ]
  },
  {
   "cell_type": "code",
   "execution_count": 162,
   "metadata": {},
   "outputs": [],
   "source": [
    "mudryk_finaldat = compile_dat('049a888d', 'Mykhailo-Mudryk', 'Mykhailo_Mudryk', checkgames = False)\n",
    "if isinstance(mudryk_finaldat, pd.DataFrame):\n",
    "    mudryk_finaldat.to_csv(os.path.join(nest_folder, \"mudryk_finaldat.csv\"))"
   ]
  },
  {
   "cell_type": "markdown",
   "metadata": {},
   "source": [
    "Chelsea Defenders"
   ]
  },
  {
   "cell_type": "code",
   "execution_count": 46,
   "metadata": {},
   "outputs": [],
   "source": [
    "colwill_finaldat = compile_dat('700783e7', 'Levi-Colwill', 'Levi_Colwill', checkgames = True)\n",
    "if isinstance(colwill_finaldat, pd.DataFrame):\n",
    "    colwill_finaldat.to_csv(os.path.join(nest_folder_def, \"colwill_finaldat.csv\"))"
   ]
  },
  {
   "cell_type": "code",
   "execution_count": 47,
   "metadata": {},
   "outputs": [],
   "source": [
    "cucurella_finaldat = compile_dat('1daec722', 'Marc-Cucurella', 'Marc_Cucurella', checkgames = True)\n",
    "if isinstance(cucurella_finaldat, pd.DataFrame):\n",
    "    cucurella_finaldat.to_csv(os.path.join(nest_folder_def, \"cucurella_finaldat.csv\"))"
   ]
  },
  {
   "cell_type": "code",
   "execution_count": 48,
   "metadata": {},
   "outputs": [],
   "source": [
    "gusto_finaldat = compile_dat('d56b9520', 'Malo-Gusto', 'Malo_Gusto', checkgames = True)\n",
    "if isinstance(gusto_finaldat, pd.DataFrame):\n",
    "    gusto_finaldat.to_csv(os.path.join(nest_folder_def, \"gusto_finaldat.csv\"))"
   ]
  },
  {
   "cell_type": "code",
   "execution_count": 49,
   "metadata": {},
   "outputs": [
    {
     "name": "stderr",
     "output_type": "stream",
     "text": [
      "/var/folders/dv/bjx4hkg54x17symh1g3_3jf80000gq/T/ipykernel_58690/3417702198.py:26: FutureWarning: The behavior of DataFrame concatenation with empty or all-NA entries is deprecated. In a future version, this will no longer exclude empty or all-NA columns when determining the result dtypes. To retain the old behavior, exclude the relevant entries before the concat operation.\n",
      "  finaldf = pd.concat(dataframes.values(), join = \"inner\", ignore_index = True)\n"
     ]
    }
   ],
   "source": [
    "wfofana_finaldat = compile_dat('132a82f1', 'Wesley-Fofana', 'Wesley_Fofana', checkgames = True)\n",
    "if isinstance(wfofana_finaldat, pd.DataFrame):\n",
    "    wfofana_finaldat.to_csv(os.path.join(nest_folder_def, \"wfofana_finaldat.csv\"))"
   ]
  },
  {
   "cell_type": "code",
   "execution_count": 50,
   "metadata": {},
   "outputs": [],
   "source": [
    "badiashile_finaldat = compile_dat('06df8256', 'Benoit-Badiashile', 'Badiashile', checkgames = True)\n",
    "if isinstance(badiashile_finaldat, pd.DataFrame):\n",
    "    badiashile_finaldat.to_csv(os.path.join(nest_folder_def, \"badiashile_finaldat.csv\"))"
   ]
  },
  {
   "cell_type": "code",
   "execution_count": 86,
   "metadata": {},
   "outputs": [],
   "source": [
    "chilwell_finaldat = compile_dat('d2424d1b', 'Ben-Chilwell', 'Chilwell', checkgames = True)\n",
    "if isinstance(chilwell_finaldat, pd.DataFrame):\n",
    "    chilwell_finaldat.to_csv(os.path.join(nest_folder_def, \"chilwell_finaldat.csv\"))"
   ]
  },
  {
   "cell_type": "code",
   "execution_count": 52,
   "metadata": {},
   "outputs": [],
   "source": [
    "disasi_finaldat = compile_dat('ad82197c', 'Axel-Disasi', 'Disasi', checkgames = True)\n",
    "if isinstance(disasi_finaldat, pd.DataFrame):\n",
    "    disasi_finaldat.to_csv(os.path.join(nest_folder_def, \"disasi_finaldat.csv\"))"
   ]
  },
  {
   "cell_type": "code",
   "execution_count": 53,
   "metadata": {},
   "outputs": [],
   "source": [
    "rjames_finaldat = compile_dat('1265a93a', 'Reece-James', 'Reece_James', checkgames = True)\n",
    "if isinstance(rjames_finaldat, pd.DataFrame):\n",
    "    rjames_finaldat.to_csv(os.path.join(nest_folder_def, \"rjames_finaldat.csv\"))"
   ]
  },
  {
   "cell_type": "code",
   "execution_count": 54,
   "metadata": {},
   "outputs": [],
   "source": [
    "tosin_finaldat = compile_dat('c81d773d', 'Tosin-Adarabioyo', 'Tosin_Adarabioyo', checkgames = True)\n",
    "if isinstance(tosin_finaldat, pd.DataFrame):\n",
    "    tosin_finaldat.to_csv(os.path.join(nest_folder_def, \"tosin_finaldat.csv\"))"
   ]
  },
  {
   "cell_type": "markdown",
   "metadata": {},
   "source": [
    "## Crystal Palace"
   ]
  },
  {
   "cell_type": "code",
   "execution_count": 182,
   "metadata": {},
   "outputs": [],
   "source": [
    "nketiah_latedat = compile_dat('a53649b7', 'Eddie-Nketiah', 'Eddie_Nketiah', checkgames = False)\n",
    "nketiah_earlydat = compile_dat('a53649b7', 'Eddie-Nketiah', 'Edward_Nketiah', checkgames = False)\n",
    "nketiah_finaldat = pd.concat([nketiah_latedat, nketiah_earlydat], join = \"inner\", ignore_index = True)\n",
    "if isinstance(nketiah_finaldat, pd.DataFrame):\n",
    "    nketiah_finaldat.to_csv(os.path.join(nest_folder, \"nketiah_finaldat.csv\"))"
   ]
  },
  {
   "cell_type": "code",
   "execution_count": 149,
   "metadata": {},
   "outputs": [],
   "source": [
    "mateta_finaldat = compile_dat('50e6dc35', 'Jean-Philippe-Mateta', 'Jean-Philippe_Mateta', checkgames = True)\n",
    "if isinstance(mateta_finaldat, pd.DataFrame):\n",
    "    mateta_finaldat.to_csv(os.path.join(nest_folder, \"mateta_finaldat.csv\"))"
   ]
  },
  {
   "cell_type": "code",
   "execution_count": 150,
   "metadata": {},
   "outputs": [],
   "source": [
    "eze_finaldat = compile_dat('ae4fc6a4', 'Eberechi-Eze', 'Eberechi_Eze', checkgames = True)\n",
    "if isinstance(eze_finaldat, pd.DataFrame):\n",
    "    eze_finaldat.to_csv(os.path.join(nest_folder, \"eze_finaldat.csv\"))"
   ]
  },
  {
   "cell_type": "code",
   "execution_count": 151,
   "metadata": {},
   "outputs": [],
   "source": [
    "wharton_finaldat = compile_dat('4b542852', 'Adam-Wharton', 'Adam_Wharton', checkgames = True)\n",
    "if isinstance(wharton_finaldat, pd.DataFrame):\n",
    "    wharton_finaldat.to_csv(os.path.join(nest_folder, \"wharton_finaldat.csv\"))"
   ]
  },
  {
   "cell_type": "code",
   "execution_count": 152,
   "metadata": {},
   "outputs": [],
   "source": [
    "cheick_finaldat = compile_dat('ce4f40c7', 'Cheick-Doucoure', 'Cheick_Doucou', checkgames = True)\n",
    "if isinstance(cheick_finaldat, pd.DataFrame):\n",
    "    cheick_finaldat.to_csv(os.path.join(nest_folder, \"cheick_finaldat.csv\"))"
   ]
  },
  {
   "cell_type": "code",
   "execution_count": 153,
   "metadata": {},
   "outputs": [],
   "source": [
    "lerma_finaldat = compile_dat('9b5ce51a', 'Jefferson-Lerma', 'Jefferson_Lerma', checkgames = True)\n",
    "if isinstance(lerma_finaldat, pd.DataFrame):\n",
    "    lerma_finaldat.to_csv(os.path.join(nest_folder, \"lerma_finaldat.csv\"))"
   ]
  },
  {
   "cell_type": "code",
   "execution_count": 183,
   "metadata": {},
   "outputs": [],
   "source": [
    "ismailasarr_finaldat = compile_dat('bfdb33aa', 'Ismaila-Sarr', 'Ismaila_Sarr', checkgames = True)\n",
    "if isinstance(ismailasarr_finaldat, pd.DataFrame):\n",
    "    ismailasarr_finaldat.to_csv(os.path.join(nest_folder, \"ismailasarr_finaldat.csv\"))"
   ]
  },
  {
   "cell_type": "code",
   "execution_count": 155,
   "metadata": {},
   "outputs": [],
   "source": [
    "hughes_finaldat = compile_dat('a0666d3e', 'Will-Hughes', 'Will_Hughes', checkgames = True)\n",
    "if isinstance(hughes_finaldat, pd.DataFrame):\n",
    "    hughes_finaldat.to_csv(os.path.join(nest_folder, \"hughes_finaldat.csv\"))"
   ]
  },
  {
   "cell_type": "code",
   "execution_count": 157,
   "metadata": {},
   "outputs": [],
   "source": [
    "schlupp_finaldat = compile_dat('3312f911', 'Jeffrey-Schlupp', 'Jeffrey_Schlupp', checkgames = True)\n",
    "if isinstance(schlupp_finaldat, pd.DataFrame):\n",
    "    schlupp_finaldat.to_csv(os.path.join(nest_folder, \"schlupp_finaldat.csv\"))"
   ]
  },
  {
   "cell_type": "markdown",
   "metadata": {},
   "source": [
    "Crystal Palace Defenders"
   ]
  },
  {
   "cell_type": "code",
   "execution_count": 55,
   "metadata": {},
   "outputs": [],
   "source": [
    "munoz_finaldat = compile_dat('778ef829', 'Daniel-Munoz', 'Daniel_Mu', checkgames = True)\n",
    "if isinstance(munoz_finaldat, pd.DataFrame):\n",
    "    munoz_finaldat.to_csv(os.path.join(nest_folder_def, \"munoz_finaldat.csv\"))"
   ]
  },
  {
   "cell_type": "code",
   "execution_count": 56,
   "metadata": {},
   "outputs": [],
   "source": [
    "mitchell_finaldat = compile_dat('5cbd1eb0', 'Tyrick-Mitchell', 'Tyrick_Mitchell', checkgames = True)\n",
    "if isinstance(mitchell_finaldat, pd.DataFrame):\n",
    "    mitchell_finaldat.to_csv(os.path.join(nest_folder_def, \"mitchell_finaldat.csv\"))"
   ]
  },
  {
   "cell_type": "code",
   "execution_count": 57,
   "metadata": {},
   "outputs": [],
   "source": [
    "crichards_finaldat = compile_dat('0a3d6d2b', 'Chris-Richards', 'Chris_Richards', checkgames = True)\n",
    "if isinstance(crichards_finaldat, pd.DataFrame):\n",
    "    crichards_finaldat.to_csv(os.path.join(nest_folder_def, \"crichards_finaldat.csv\"))"
   ]
  },
  {
   "cell_type": "code",
   "execution_count": 58,
   "metadata": {},
   "outputs": [],
   "source": [
    "guehi_finaldat = compile_dat('d0706b27', 'Marc-Guehi', 'Marc_Gu', checkgames = True)\n",
    "if isinstance(guehi_finaldat, pd.DataFrame):\n",
    "    guehi_finaldat.to_csv(os.path.join(nest_folder_def, \"guehi_finaldat.csv\"))\n"
   ]
  },
  {
   "cell_type": "code",
   "execution_count": 59,
   "metadata": {},
   "outputs": [],
   "source": [
    "clyne_finaldat = compile_dat('0442183b', 'Nathaniel-Clyne', 'Nathaniel_Clyne', checkgames = True)\n",
    "if isinstance(clyne_finaldat, pd.DataFrame):\n",
    "    clyne_finaldat.to_csv(os.path.join(nest_folder_def, \"clyne_finaldat.csv\"))"
   ]
  },
  {
   "cell_type": "code",
   "execution_count": 62,
   "metadata": {},
   "outputs": [],
   "source": [
    "tchalobah_finaldat = compile_dat('5515376c', 'Trevoh-Chalobah', 'Trevoh_Chalobah', checkgames = True)\n",
    "if isinstance(tchalobah_finaldat, pd.DataFrame):\n",
    "    tchalobah_finaldat.to_csv(os.path.join(nest_folder_def, \"tchalobah_finaldat.csv\"))"
   ]
  },
  {
   "cell_type": "code",
   "execution_count": 63,
   "metadata": {},
   "outputs": [],
   "source": [
    "holding_finaldat = compile_dat('d79a8c87', 'Rob-Holding', 'Rob_Holding', checkgames = True)\n",
    "if isinstance(holding_finaldat, pd.DataFrame):\n",
    "    holding_finaldat.to_csv(os.path.join(nest_folder_def, \"holding_finaldat.csv\"))"
   ]
  },
  {
   "cell_type": "code",
   "execution_count": 64,
   "metadata": {},
   "outputs": [],
   "source": [
    "jward_finaldat = compile_dat('8a7ff278', 'Joel-Ward', 'Joel_Ward', checkgames = True)\n",
    "if isinstance(jward_finaldat, pd.DataFrame):\n",
    "    jward_finaldat.to_csv(os.path.join(nest_folder_def, \"jward_finaldat.csv\"))"
   ]
  },
  {
   "cell_type": "markdown",
   "metadata": {},
   "source": [
    "## Everton"
   ]
  },
  {
   "cell_type": "code",
   "execution_count": 158,
   "metadata": {},
   "outputs": [],
   "source": [
    "calvertlewin_finaldat = compile_dat('59e6e5bf', 'Dominic-Calvert-Lewin', 'Dominic_Calvert', checkgames = True)\n",
    "if isinstance(calvertlewin_finaldat, pd.DataFrame):\n",
    "    calvertlewin_finaldat.to_csv(os.path.join(nest_folder, \"calvertlewin_finaldat.csv\"))"
   ]
  },
  {
   "cell_type": "code",
   "execution_count": 159,
   "metadata": {},
   "outputs": [],
   "source": [
    "beto_finaldat = compile_dat('ed5c0319', 'Beto', 'Norberto Bercique', checkgames = True)\n",
    "if isinstance(beto_finaldat, pd.DataFrame):\n",
    "    beto_finaldat.to_csv(os.path.join(nest_folder, \"beto_finaldat.csv\"))"
   ]
  },
  {
   "cell_type": "code",
   "execution_count": 160,
   "metadata": {},
   "outputs": [],
   "source": [
    "broja_finaldat = compile_dat('97220da2', 'Armando-Broja', 'Armando_Broja', checkgames = True)\n",
    "if isinstance(broja_finaldat, pd.DataFrame):\n",
    "    broja_finaldat.to_csv(os.path.join(nest_folder, \"broja_finaldat.csv\"))"
   ]
  },
  {
   "cell_type": "code",
   "execution_count": 184,
   "metadata": {},
   "outputs": [],
   "source": [
    "mcneil_finaldat = compile_dat('fc15fb84', 'Dwight-McNeil', 'Dwight_McNeil', checkgames = True)\n",
    "if isinstance(mcneil_finaldat, pd.DataFrame):\n",
    "    mcneil_finaldat.to_csv(os.path.join(nest_folder, \"mcneil_finaldat.csv\"))"
   ]
  },
  {
   "cell_type": "code",
   "execution_count": 163,
   "metadata": {},
   "outputs": [
    {
     "name": "stderr",
     "output_type": "stream",
     "text": [
      "/var/folders/dv/bjx4hkg54x17symh1g3_3jf80000gq/T/ipykernel_60248/3417702198.py:26: FutureWarning: The behavior of DataFrame concatenation with empty or all-NA entries is deprecated. In a future version, this will no longer exclude empty or all-NA columns when determining the result dtypes. To retain the old behavior, exclude the relevant entries before the concat operation.\n",
      "  finaldf = pd.concat(dataframes.values(), join = \"inner\", ignore_index = True)\n"
     ]
    }
   ],
   "source": [
    "gueye_finaldat = compile_dat('72c812f3', 'Idrissa-Gana-Gueye', 'Idrissa_Gueye', checkgames = True)\n",
    "if isinstance(gueye_finaldat, pd.DataFrame):\n",
    "    gueye_finaldat.to_csv(os.path.join(nest_folder, \"gueye_finaldat.csv\"))"
   ]
  },
  {
   "cell_type": "code",
   "execution_count": 164,
   "metadata": {},
   "outputs": [],
   "source": [
    "harrison_finaldat = compile_dat('aa849a12', 'Jack-Harrison', 'Jack_Harrison', checkgames = True)\n",
    "if isinstance(harrison_finaldat, pd.DataFrame):\n",
    "    harrison_finaldat.to_csv(os.path.join(nest_folder, \"harrison_finaldat.csv\"))"
   ]
  },
  {
   "cell_type": "code",
   "execution_count": 165,
   "metadata": {},
   "outputs": [],
   "source": [
    "doucoure_finaldat = compile_dat('02b29014', 'Abdoulaye-Doucoure', 'Abdoulaye_Douco', checkgames = True)\n",
    "if isinstance(doucoure_finaldat, pd.DataFrame):\n",
    "    doucoure_finaldat.to_csv(os.path.join(nest_folder, \"doucoure_finaldat.csv\"))"
   ]
  },
  {
   "cell_type": "code",
   "execution_count": 166,
   "metadata": {},
   "outputs": [
    {
     "name": "stderr",
     "output_type": "stream",
     "text": [
      "/var/folders/dv/bjx4hkg54x17symh1g3_3jf80000gq/T/ipykernel_60248/3417702198.py:26: FutureWarning: The behavior of DataFrame concatenation with empty or all-NA entries is deprecated. In a future version, this will no longer exclude empty or all-NA columns when determining the result dtypes. To retain the old behavior, exclude the relevant entries before the concat operation.\n",
      "  finaldf = pd.concat(dataframes.values(), join = \"inner\", ignore_index = True)\n"
     ]
    }
   ],
   "source": [
    "garner_finaldat = compile_dat('4e015693', 'James-Garner', 'James_Garner', checkgames = True)\n",
    "if isinstance(garner_finaldat, pd.DataFrame):\n",
    "    garner_finaldat.to_csv(os.path.join(nest_folder, \"garner_finaldat.csv\"))"
   ]
  },
  {
   "cell_type": "markdown",
   "metadata": {},
   "source": [
    "Everton Defenders"
   ]
  },
  {
   "cell_type": "code",
   "execution_count": 65,
   "metadata": {},
   "outputs": [],
   "source": [
    "mkeane_finaldat = compile_dat('c5b7c315', 'Michael-Keane', 'Michael_Keane', checkgames = True)\n",
    "if isinstance(mkeane_finaldat, pd.DataFrame):\n",
    "    mkeane_finaldat.to_csv(os.path.join(nest_folder_def, \"mkeane_finaldat.csv\"))"
   ]
  },
  {
   "cell_type": "code",
   "execution_count": 67,
   "metadata": {},
   "outputs": [],
   "source": [
    "mykolenko_finaldat = compile_dat('30d4a2e5', 'Vitaliy-Mykolenko', 'Vitalii_Mykolenko', checkgames = False)\n",
    "if isinstance(mykolenko_finaldat, pd.DataFrame):\n",
    "    mykolenko_finaldat.to_csv(os.path.join(nest_folder_def, \"mykolenko_finaldat.csv\"))"
   ]
  },
  {
   "cell_type": "code",
   "execution_count": 68,
   "metadata": {},
   "outputs": [],
   "source": [
    "coleman_finaldat = compile_dat('0420d84f', 'Seamus-Coleman', 'amus_Coleman', checkgames = True)\n",
    "if isinstance(coleman_finaldat, pd.DataFrame):\n",
    "    coleman_finaldat.to_csv(os.path.join(nest_folder_def, \"coleman_finaldat.csv\"))"
   ]
  },
  {
   "cell_type": "code",
   "execution_count": 69,
   "metadata": {},
   "outputs": [],
   "source": [
    "tarkowski_finaldat = compile_dat('15ea812b', 'James-Tarkowski', 'James_Tarkowski', checkgames = True)\n",
    "if isinstance(tarkowski_finaldat, pd.DataFrame):\n",
    "    tarkowski_finaldat.to_csv(os.path.join(nest_folder_def, \"tarkowski_finaldat.csv\"))"
   ]
  },
  {
   "cell_type": "code",
   "execution_count": 70,
   "metadata": {},
   "outputs": [
    {
     "name": "stderr",
     "output_type": "stream",
     "text": [
      "/var/folders/dv/bjx4hkg54x17symh1g3_3jf80000gq/T/ipykernel_58690/3417702198.py:26: FutureWarning: The behavior of DataFrame concatenation with empty or all-NA entries is deprecated. In a future version, this will no longer exclude empty or all-NA columns when determining the result dtypes. To retain the old behavior, exclude the relevant entries before the concat operation.\n",
      "  finaldf = pd.concat(dataframes.values(), join = \"inner\", ignore_index = True)\n"
     ]
    }
   ],
   "source": [
    "branthwaite_finaldat = compile_dat('c1949191', 'Jarrad-Branthwaite', 'Jarrad_Branthwaite', checkgames = True)\n",
    "if isinstance(branthwaite_finaldat, pd.DataFrame):\n",
    "    branthwaite_finaldat.to_csv(os.path.join(nest_folder_def, \"branthwaite_finaldat.csv\"))"
   ]
  },
  {
   "cell_type": "code",
   "execution_count": 71,
   "metadata": {},
   "outputs": [],
   "source": [
    "npatterson_finaldat = compile_dat('230f0471', 'Nathan-Patterson', 'Nathan_Patterson', checkgames = True)\n",
    "if isinstance(npatterson_finaldat, pd.DataFrame):\n",
    "    npatterson_finaldat.to_csv(os.path.join(nest_folder_def, \"npatterson_finaldat.csv\"))"
   ]
  },
  {
   "cell_type": "code",
   "execution_count": 72,
   "metadata": {},
   "outputs": [],
   "source": [
    "ayoung_finaldat = compile_dat('be927d03', 'Ashley-Young', 'Ashley_Young', checkgames = True)\n",
    "if isinstance(ayoung_finaldat, pd.DataFrame):\n",
    "    ayoung_finaldat.to_csv(os.path.join(nest_folder_def, \"ayoung_finaldat.csv\"))"
   ]
  },
  {
   "cell_type": "markdown",
   "metadata": {},
   "source": [
    "## Fulham"
   ]
  },
  {
   "cell_type": "code",
   "execution_count": 167,
   "metadata": {},
   "outputs": [],
   "source": [
    "muniz_finaldat = compile_dat('a755db8c', 'Rodrigo-Muniz', 'Rodrigo_Muniz', checkgames = True)\n",
    "if isinstance(muniz_finaldat, pd.DataFrame):\n",
    "    muniz_finaldat.to_csv(os.path.join(nest_folder, \"muniz_finaldat.csv\"))"
   ]
  },
  {
   "cell_type": "code",
   "execution_count": 170,
   "metadata": {},
   "outputs": [],
   "source": [
    "raul_earlydat = compile_dat('b561db50', 'Raul-Jimenez', 'Raúl_Jiménez', checkgames = False)\n",
    "raul_latedat = compile_dat('b561db50', 'Raul-Jimenez', 'Jiménez', checkgames = False)\n",
    "raul_finaldat = pd.concat([raul_latedat, raul_earlydat], join = \"inner\", ignore_index = True)\n",
    "if isinstance(raul_finaldat, pd.DataFrame):\n",
    "    raul_finaldat.to_csv(os.path.join(nest_folder, \"raul_finaldat.csv\"))"
   ]
  },
  {
   "cell_type": "code",
   "execution_count": 169,
   "metadata": {},
   "outputs": [],
   "source": [
    "carlosvini_finaldat = compile_dat('8b529245', 'Carlos-Vinicius', 'Carlos Vin', checkgames = True)\n",
    "if isinstance(carlosvini_finaldat, pd.DataFrame):\n",
    "    carlosvini_finaldat.to_csv(os.path.join(nest_folder, \"carlosvini_finaldat.csv\"))"
   ]
  },
  {
   "cell_type": "code",
   "execution_count": 181,
   "metadata": {},
   "outputs": [],
   "source": [
    "adama_finaldat = compile_dat('9a28eba4', 'Adama-Traore', 'Adama_Traor', checkgames = True)\n",
    "if isinstance(adama_finaldat, pd.DataFrame):\n",
    "    adama_finaldat.to_csv(os.path.join(nest_folder, \"adama_finaldat.csv\"))"
   ]
  },
  {
   "cell_type": "code",
   "execution_count": 172,
   "metadata": {},
   "outputs": [],
   "source": [
    "smithrowe_finaldat = compile_dat('17695062', 'Emile-Smith-Rowe', 'Emile_Smith', checkgames = True)\n",
    "if isinstance(smithrowe_finaldat, pd.DataFrame):\n",
    "    smithrowe_finaldat.to_csv(os.path.join(nest_folder, \"smithrowe_finaldat.csv\"))"
   ]
  },
  {
   "cell_type": "code",
   "execution_count": 173,
   "metadata": {},
   "outputs": [],
   "source": [
    "iwobi_finaldat = compile_dat('6ca5ec4b', 'Alex-Iwobi', 'Alex_Iwobi', checkgames = True)\n",
    "if isinstance(iwobi_finaldat, pd.DataFrame):\n",
    "    iwobi_finaldat.to_csv(os.path.join(nest_folder, \"iwobi_finaldat.csv\"))"
   ]
  },
  {
   "cell_type": "code",
   "execution_count": 174,
   "metadata": {},
   "outputs": [
    {
     "name": "stderr",
     "output_type": "stream",
     "text": [
      "/var/folders/dv/bjx4hkg54x17symh1g3_3jf80000gq/T/ipykernel_60248/3417702198.py:26: FutureWarning: The behavior of DataFrame concatenation with empty or all-NA entries is deprecated. In a future version, this will no longer exclude empty or all-NA columns when determining the result dtypes. To retain the old behavior, exclude the relevant entries before the concat operation.\n",
      "  finaldf = pd.concat(dataframes.values(), join = \"inner\", ignore_index = True)\n"
     ]
    }
   ],
   "source": [
    "andreas_earlydat = compile_dat('6639e500', 'Andreas-Pereira', 'Andreas_Pereira', checkgames = False)\n",
    "andreas_latedat = compile_dat('6639e500', 'Andreas-Pereira', 'Hoelgebaum', checkgames = False)\n",
    "andreas_finaldat = pd.concat([andreas_latedat, andreas_earlydat], join = \"inner\", ignore_index = True)\n",
    "if isinstance(andreas_finaldat, pd.DataFrame):\n",
    "    andreas_finaldat.to_csv(os.path.join(nest_folder, \"andreas_finaldat.csv\"))"
   ]
  },
  {
   "cell_type": "code",
   "execution_count": 175,
   "metadata": {},
   "outputs": [],
   "source": [
    "lukic_finaldat = compile_dat('c6e8cf1f', 'Sasa-Lukic', 'Lukic', checkgames = True)\n",
    "if isinstance(lukic_finaldat, pd.DataFrame):\n",
    "    lukic_finaldat.to_csv(os.path.join(nest_folder, \"lukic_finaldat.csv\"))"
   ]
  },
  {
   "cell_type": "code",
   "execution_count": 176,
   "metadata": {},
   "outputs": [],
   "source": [
    "reed_finaldat = compile_dat('803ae100', 'Harrison-Reed', 'Harrison_Reed', checkgames = True)\n",
    "if isinstance(reed_finaldat, pd.DataFrame):\n",
    "    reed_finaldat.to_csv(os.path.join(nest_folder, \"reed_finaldat.csv\"))"
   ]
  },
  {
   "cell_type": "code",
   "execution_count": 177,
   "metadata": {},
   "outputs": [
    {
     "name": "stderr",
     "output_type": "stream",
     "text": [
      "/var/folders/dv/bjx4hkg54x17symh1g3_3jf80000gq/T/ipykernel_60248/3417702198.py:26: FutureWarning: The behavior of DataFrame concatenation with empty or all-NA entries is deprecated. In a future version, this will no longer exclude empty or all-NA columns when determining the result dtypes. To retain the old behavior, exclude the relevant entries before the concat operation.\n",
      "  finaldf = pd.concat(dataframes.values(), join = \"inner\", ignore_index = True)\n"
     ]
    }
   ],
   "source": [
    "wilson_finaldat = compile_dat('c6dc9ecd', 'Harry-Wilson', 'Harry_Wilson', checkgames = True)\n",
    "if isinstance(wilson_finaldat, pd.DataFrame):\n",
    "    wilson_finaldat.to_csv(os.path.join(nest_folder, \"wilson_finaldat.csv\"))"
   ]
  },
  {
   "cell_type": "code",
   "execution_count": 178,
   "metadata": {},
   "outputs": [
    {
     "name": "stderr",
     "output_type": "stream",
     "text": [
      "/var/folders/dv/bjx4hkg54x17symh1g3_3jf80000gq/T/ipykernel_60248/3417702198.py:26: FutureWarning: The behavior of DataFrame concatenation with empty or all-NA entries is deprecated. In a future version, this will no longer exclude empty or all-NA columns when determining the result dtypes. To retain the old behavior, exclude the relevant entries before the concat operation.\n",
      "  finaldf = pd.concat(dataframes.values(), join = \"inner\", ignore_index = True)\n"
     ]
    }
   ],
   "source": [
    "nelson_finaldat = compile_dat('c5bdb6e3', 'Reiss-Nelson', 'Reiss_Nelson', checkgames = True)\n",
    "if isinstance(nelson_finaldat, pd.DataFrame):\n",
    "    nelson_finaldat.to_csv(os.path.join(nest_folder, \"nelson_finaldat.csv\"))"
   ]
  },
  {
   "cell_type": "code",
   "execution_count": 185,
   "metadata": {},
   "outputs": [],
   "source": [
    "cairney_finaldat = compile_dat('a8748947', 'Tom-Cairney', 'Tom_Cairney', checkgames = True)\n",
    "if isinstance(cairney_finaldat, pd.DataFrame):\n",
    "    cairney_finaldat.to_csv(os.path.join(nest_folder, \"cairney_finaldat.csv\"))"
   ]
  },
  {
   "cell_type": "code",
   "execution_count": 186,
   "metadata": {},
   "outputs": [],
   "source": [
    "berge_finaldat = compile_dat('d0b6129f', 'Sander-Berge', 'Sander_Berge', checkgames = True)\n",
    "if isinstance(berge_finaldat, pd.DataFrame):\n",
    "    berge_finaldat.to_csv(os.path.join(nest_folder, \"berge_finaldat.csv\"))"
   ]
  },
  {
   "cell_type": "markdown",
   "metadata": {},
   "source": [
    "Fulham Defenders"
   ]
  },
  {
   "cell_type": "code",
   "execution_count": 73,
   "metadata": {},
   "outputs": [],
   "source": [
    "arobinson_finaldat = compile_dat('289601e6', 'Antonee-Robinson', 'Antonee_Robinson', checkgames = True)\n",
    "if isinstance(arobinson_finaldat, pd.DataFrame):\n",
    "    arobinson_finaldat.to_csv(os.path.join(nest_folder_def, \"arobinson_finaldat.csv\"))"
   ]
  },
  {
   "cell_type": "code",
   "execution_count": 74,
   "metadata": {},
   "outputs": [],
   "source": [
    "diop_finaldat = compile_dat('a712ca2b', 'Issa-Diop', 'Issa_Diop', checkgames = True)\n",
    "if isinstance(diop_finaldat, pd.DataFrame):\n",
    "    diop_finaldat.to_csv(os.path.join(nest_folder_def, \"diop_finaldat.csv\"))"
   ]
  },
  {
   "cell_type": "code",
   "execution_count": 75,
   "metadata": {},
   "outputs": [],
   "source": [
    "tete_finaldat = compile_dat('77d7c96f', 'Kenny-Tete', 'Kenny_Tete', checkgames = True)\n",
    "if isinstance(tete_finaldat, pd.DataFrame):\n",
    "    tete_finaldat.to_csv(os.path.join(nest_folder_def, \"tete_finaldat.csv\"))"
   ]
  },
  {
   "cell_type": "code",
   "execution_count": 76,
   "metadata": {},
   "outputs": [],
   "source": [
    "bassey_finaldat = compile_dat('a36524bf', 'Calvin-Bassey', 'Calvin_Bassey', checkgames = True)\n",
    "if isinstance(bassey_finaldat, pd.DataFrame):\n",
    "    bassey_finaldat.to_csv(os.path.join(nest_folder_def, \"bassey_finaldat.csv\"))"
   ]
  },
  {
   "cell_type": "code",
   "execution_count": 77,
   "metadata": {},
   "outputs": [],
   "source": [
    "jandersen_finaldat = compile_dat('e34fc66d', 'Joachim-Andersen', 'Joachim_Andersen', checkgames = True)\n",
    "if isinstance(jandersen_finaldat, pd.DataFrame):\n",
    "    jandersen_finaldat.to_csv(os.path.join(nest_folder_def, \"jandersen_finaldat.csv\"))"
   ]
  },
  {
   "cell_type": "code",
   "execution_count": 78,
   "metadata": {},
   "outputs": [],
   "source": [
    "castagne_finaldat = compile_dat('197640fd', 'Timothy-Castagne', 'Timothy_Castagne', checkgames = True)\n",
    "if isinstance(castagne_finaldat, pd.DataFrame):\n",
    "    castagne_finaldat.to_csv(os.path.join(nest_folder_def, \"castagne_finaldat.csv\"))"
   ]
  },
  {
   "cell_type": "code",
   "execution_count": 79,
   "metadata": {},
   "outputs": [
    {
     "name": "stderr",
     "output_type": "stream",
     "text": [
      "/var/folders/dv/bjx4hkg54x17symh1g3_3jf80000gq/T/ipykernel_58690/3417702198.py:26: FutureWarning: The behavior of DataFrame concatenation with empty or all-NA entries is deprecated. In a future version, this will no longer exclude empty or all-NA columns when determining the result dtypes. To retain the old behavior, exclude the relevant entries before the concat operation.\n",
      "  finaldf = pd.concat(dataframes.values(), join = \"inner\", ignore_index = True)\n"
     ]
    }
   ],
   "source": [
    "sessegnon_finaldat = compile_dat('6aa3e78b', 'Ryan-Sessegnon', 'Ryan_Sessegnon', checkgames = True)\n",
    "if isinstance(sessegnon_finaldat, pd.DataFrame):\n",
    "    sessegnon_finaldat.to_csv(os.path.join(nest_folder_def, \"sessegnon_finaldat.csv\"))"
   ]
  },
  {
   "cell_type": "markdown",
   "metadata": {},
   "source": [
    "## Leicester"
   ]
  },
  {
   "cell_type": "code",
   "execution_count": 187,
   "metadata": {},
   "outputs": [],
   "source": [
    "vardy_finaldat = compile_dat('45963054', 'Jamie-Vardy', 'Jamie_Vardy', checkgames = True)\n",
    "if isinstance(vardy_finaldat, pd.DataFrame):\n",
    "    vardy_finaldat.to_csv(os.path.join(nest_folder, \"vardy_finaldat.csv\"))"
   ]
  },
  {
   "cell_type": "code",
   "execution_count": 188,
   "metadata": {},
   "outputs": [],
   "source": [
    "edouard_finaldat = compile_dat('0562b7f1', 'Odsonne-Edouard', 'Odsonne_', checkgames = True)\n",
    "if isinstance(edouard_finaldat, pd.DataFrame):\n",
    "    edouard_finaldat.to_csv(os.path.join(nest_folder, \"edouard_finaldat.csv\"))"
   ]
  },
  {
   "cell_type": "code",
   "execution_count": 189,
   "metadata": {},
   "outputs": [],
   "source": [
    "daka_finaldat = compile_dat('ca45605e', 'Patson-Daka', 'Patson_Daka', checkgames = True)\n",
    "if isinstance(daka_finaldat, pd.DataFrame):\n",
    "    daka_finaldat.to_csv(os.path.join(nest_folder, \"daka_finaldat.csv\"))"
   ]
  },
  {
   "cell_type": "code",
   "execution_count": 190,
   "metadata": {},
   "outputs": [],
   "source": [
    "buonanotte_finaldat = compile_dat('468a7a91', 'Facundo-Buonanotte', 'Facundo_B', checkgames = True)\n",
    "if isinstance(buonanotte_finaldat, pd.DataFrame):\n",
    "    buonanotte_finaldat.to_csv(os.path.join(nest_folder, \"buonanotte_finaldat.csv\"))"
   ]
  },
  {
   "cell_type": "code",
   "execution_count": 194,
   "metadata": {},
   "outputs": [],
   "source": [
    "ndidi_finaldat = compile_dat('6b47c5db', 'Wilfred-Ndidi', 'Wilfred_Ndidi', checkgames = True)\n",
    "if isinstance(ndidi_finaldat, pd.DataFrame):\n",
    "    ndidi_finaldat.to_csv(os.path.join(nest_folder, \"ndidi_finaldat.csv\"))"
   ]
  },
  {
   "cell_type": "code",
   "execution_count": 195,
   "metadata": {},
   "outputs": [],
   "source": [
    "decordovareid_earlydat = compile_dat('0f7533cd', 'Bobby-Reid', 'Bobby_Reid', checkgames = False)\n",
    "decordovareid_latedat = compile_dat('0f7533cd', 'Bobby-Reid', 'Bobby_De', checkgames = False)\n",
    "decordovareid_finaldat = pd.concat([decordovareid_latedat, decordovareid_earlydat], join = \"inner\", ignore_index = True)\n",
    "if isinstance(decordovareid_finaldat, pd.DataFrame):\n",
    "    decordovareid_finaldat.to_csv(os.path.join(nest_folder, \"decordovareid_finaldat.csv\"))"
   ]
  },
  {
   "cell_type": "code",
   "execution_count": 196,
   "metadata": {},
   "outputs": [
    {
     "name": "stderr",
     "output_type": "stream",
     "text": [
      "/var/folders/dv/bjx4hkg54x17symh1g3_3jf80000gq/T/ipykernel_60248/3417702198.py:26: FutureWarning: The behavior of DataFrame concatenation with empty or all-NA entries is deprecated. In a future version, this will no longer exclude empty or all-NA columns when determining the result dtypes. To retain the old behavior, exclude the relevant entries before the concat operation.\n",
      "  finaldf = pd.concat(dataframes.values(), join = \"inner\", ignore_index = True)\n"
     ]
    }
   ],
   "source": [
    "winks_finaldat = compile_dat('2f7acede', 'Harry-Winks', 'Harry_Winks', checkgames = True)\n",
    "if isinstance(winks_finaldat, pd.DataFrame):\n",
    "    winks_finaldat.to_csv(os.path.join(nest_folder, \"winks_finaldat.csv\"))"
   ]
  },
  {
   "cell_type": "code",
   "execution_count": 197,
   "metadata": {},
   "outputs": [],
   "source": [
    "jayew_finaldat = compile_dat('da052c14', 'Jordan-Ayew', 'Jordan_Ayew', checkgames = True)\n",
    "if isinstance(jayew_finaldat, pd.DataFrame):\n",
    "    jayew_finaldat.to_csv(os.path.join(nest_folder, \"jayew_finaldat.csv\"))"
   ]
  },
  {
   "cell_type": "code",
   "execution_count": 198,
   "metadata": {},
   "outputs": [
    {
     "name": "stderr",
     "output_type": "stream",
     "text": [
      "/var/folders/dv/bjx4hkg54x17symh1g3_3jf80000gq/T/ipykernel_60248/3417702198.py:26: FutureWarning: The behavior of DataFrame concatenation with empty or all-NA entries is deprecated. In a future version, this will no longer exclude empty or all-NA columns when determining the result dtypes. To retain the old behavior, exclude the relevant entries before the concat operation.\n",
      "  finaldf = pd.concat(dataframes.values(), join = \"inner\", ignore_index = True)\n"
     ]
    }
   ],
   "source": [
    "skipp_finaldat = compile_dat('6250083a', 'Oliver-Skipp', 'Oliver_Skipp', checkgames = True)\n",
    "if isinstance(skipp_finaldat, pd.DataFrame):\n",
    "    skipp_finaldat.to_csv(os.path.join(nest_folder, \"skipp_finaldat.csv\"))"
   ]
  },
  {
   "cell_type": "code",
   "execution_count": 199,
   "metadata": {},
   "outputs": [],
   "source": [
    "soumare_finaldat = compile_dat('ae59b359', 'Boubakary-Soumare', 'Boubakary_Sou', checkgames = True)\n",
    "if isinstance(soumare_finaldat, pd.DataFrame):\n",
    "    soumare_finaldat.to_csv(os.path.join(nest_folder, \"soumare_finaldat.csv\"))"
   ]
  },
  {
   "cell_type": "code",
   "execution_count": 200,
   "metadata": {},
   "outputs": [
    {
     "name": "stderr",
     "output_type": "stream",
     "text": [
      "/var/folders/dv/bjx4hkg54x17symh1g3_3jf80000gq/T/ipykernel_60248/3417702198.py:26: FutureWarning: The behavior of DataFrame concatenation with empty or all-NA entries is deprecated. In a future version, this will no longer exclude empty or all-NA columns when determining the result dtypes. To retain the old behavior, exclude the relevant entries before the concat operation.\n",
      "  finaldf = pd.concat(dataframes.values(), join = \"inner\", ignore_index = True)\n"
     ]
    }
   ],
   "source": [
    "choudhury_finaldat = compile_dat('7d2d3329', 'Hamza-Choudhury', 'Hamza_Choudhury', checkgames = True)\n",
    "if isinstance(choudhury_finaldat, pd.DataFrame):\n",
    "    choudhury_finaldat.to_csv(os.path.join(nest_folder, \"choudhury_finaldat.csv\"))"
   ]
  },
  {
   "cell_type": "markdown",
   "metadata": {},
   "source": [
    "Leicester Defenders"
   ]
  },
  {
   "cell_type": "code",
   "execution_count": 80,
   "metadata": {},
   "outputs": [],
   "source": [
    "jjustin_finaldat = compile_dat('fb614c44', 'James-Justin', 'James_Justin', checkgames = True)\n",
    "if isinstance(jjustin_finaldat, pd.DataFrame):\n",
    "    jjustin_finaldat.to_csv(os.path.join(nest_folder_def, \"jjustin_finaldat.csv\"))"
   ]
  },
  {
   "cell_type": "code",
   "execution_count": 81,
   "metadata": {},
   "outputs": [],
   "source": [
    "kristiansen_finaldat = compile_dat('505486d6', 'Victor-Bernth-Kristiansen', 'Victor_Kristiansen', checkgames = True)\n",
    "if isinstance(kristiansen_finaldat, pd.DataFrame):\n",
    "    kristiansen_finaldat.to_csv(os.path.join(nest_folder_def, \"kristiansen_finaldat.csv\"))"
   ]
  },
  {
   "cell_type": "code",
   "execution_count": 82,
   "metadata": {},
   "outputs": [],
   "source": [
    "vestergaard_finaldat = compile_dat('1900032e', 'Jannik-Vestergaard', 'Jannik_Vestergaard', checkgames = True)\n",
    "if isinstance(vestergaard_finaldat, pd.DataFrame):\n",
    "    vestergaard_finaldat.to_csv(os.path.join(nest_folder_def, \"vestergaard_finaldat.csv\"))"
   ]
  },
  {
   "cell_type": "code",
   "execution_count": 83,
   "metadata": {},
   "outputs": [],
   "source": [
    "coady_finaldat = compile_dat('2928dca2', 'Conor-Coady', 'Conor_Coady', checkgames = True)\n",
    "if isinstance(coady_finaldat, pd.DataFrame):\n",
    "    coady_finaldat.to_csv(os.path.join(nest_folder_def, \"coady_finaldat.csv\"))"
   ]
  },
  {
   "cell_type": "code",
   "execution_count": 84,
   "metadata": {},
   "outputs": [],
   "source": [
    "ricardop_finaldat = compile_dat('75a72a99', 'Ricardo-Pereira', 'Barbosa Pereira', checkgames = True)\n",
    "if isinstance(ricardop_finaldat, pd.DataFrame):\n",
    "    ricardop_finaldat.to_csv(os.path.join(nest_folder_def, \"ricardop_finaldat.csv\"))"
   ]
  },
  {
   "cell_type": "code",
   "execution_count": 85,
   "metadata": {},
   "outputs": [],
   "source": [
    "lthomas_finaldat = compile_dat('fc027d02', 'Luke-Thomas', 'Luke_Thomas', checkgames = True)\n",
    "if isinstance(lthomas_finaldat, pd.DataFrame):\n",
    "    lthomas_finaldat.to_csv(os.path.join(nest_folder_def, \"lthomas_finaldat.csv\"))"
   ]
  },
  {
   "cell_type": "markdown",
   "metadata": {},
   "source": [
    "## Liverpool"
   ]
  },
  {
   "cell_type": "code",
   "execution_count": 201,
   "metadata": {},
   "outputs": [],
   "source": [
    "szoboszlai_finaldat = compile_dat('934e1968', 'Dominik-Szoboszlai', 'Dominik_Szoboszlai', checkgames = True)\n",
    "if isinstance(szoboszlai_finaldat, pd.DataFrame):\n",
    "    szoboszlai_finaldat.to_csv(os.path.join(nest_folder, \"szoboszlai_finaldat.csv\"))"
   ]
  },
  {
   "cell_type": "code",
   "execution_count": 202,
   "metadata": {},
   "outputs": [],
   "source": [
    "macallister_finaldat = compile_dat('83d074ff', 'Alexis-Mac-Allister', 'Alexis_Mac', checkgames = True)\n",
    "if isinstance(macallister_finaldat, pd.DataFrame):\n",
    "    macallister_finaldat.to_csv(os.path.join(nest_folder, \"macallister_finaldat.csv\"))"
   ]
  },
  {
   "cell_type": "code",
   "execution_count": 203,
   "metadata": {},
   "outputs": [],
   "source": [
    "gravenberch_finaldat = compile_dat('b8e740fb', 'Ryan-Gravenberch', 'Ryan_Gravenberch', checkgames = True)\n",
    "if isinstance(gravenberch_finaldat, pd.DataFrame):\n",
    "    gravenberch_finaldat.to_csv(os.path.join(nest_folder, \"gravenberch_finaldat.csv\"))"
   ]
  },
  {
   "cell_type": "code",
   "execution_count": 204,
   "metadata": {},
   "outputs": [
    {
     "name": "stderr",
     "output_type": "stream",
     "text": [
      "/var/folders/dv/bjx4hkg54x17symh1g3_3jf80000gq/T/ipykernel_60248/3417702198.py:26: FutureWarning: The behavior of DataFrame concatenation with empty or all-NA entries is deprecated. In a future version, this will no longer exclude empty or all-NA columns when determining the result dtypes. To retain the old behavior, exclude the relevant entries before the concat operation.\n",
      "  finaldf = pd.concat(dataframes.values(), join = \"inner\", ignore_index = True)\n"
     ]
    }
   ],
   "source": [
    "elliott_finaldat = compile_dat('b9e1436c', 'Harvey-Elliott', 'Harvey_Elliott', checkgames = True)\n",
    "if isinstance(elliott_finaldat, pd.DataFrame):\n",
    "    elliott_finaldat.to_csv(os.path.join(nest_folder, \"elliott_finaldat.csv\"))"
   ]
  },
  {
   "cell_type": "code",
   "execution_count": 205,
   "metadata": {},
   "outputs": [],
   "source": [
    "curtis_finaldat = compile_dat('4fb9c88f', 'Curtis-Jones', 'Curtis_Jones', checkgames = True)\n",
    "if isinstance(curtis_finaldat, pd.DataFrame):\n",
    "    curtis_finaldat.to_csv(os.path.join(nest_folder, \"curtis_finaldat.csv\"))"
   ]
  },
  {
   "cell_type": "code",
   "execution_count": 206,
   "metadata": {},
   "outputs": [],
   "source": [
    "endo_finaldat = compile_dat('c149016b', 'Wataru-Endo', 'Wataru_Endo', checkgames = True)\n",
    "if isinstance(endo_finaldat, pd.DataFrame):\n",
    "    endo_finaldat.to_csv(os.path.join(nest_folder, \"endo_finaldat.csv\"))"
   ]
  },
  {
   "cell_type": "markdown",
   "metadata": {},
   "source": [
    "Liverpool Defenders"
   ]
  },
  {
   "cell_type": "code",
   "execution_count": 88,
   "metadata": {},
   "outputs": [],
   "source": [
    "taa_finaldat = compile_dat('cd1acf9d', 'Trent-Alexander-Arnold', 'Trent_Alexander', checkgames = True)\n",
    "if isinstance(taa_finaldat, pd.DataFrame):\n",
    "    taa_finaldat.to_csv(os.path.join(nest_folder_def, \"taa_finaldat.csv\"))"
   ]
  },
  {
   "cell_type": "code",
   "execution_count": 89,
   "metadata": {},
   "outputs": [],
   "source": [
    "robertson_finaldat = compile_dat('2e4f5f03', 'Andrew-Robertson', 'Andrew_Robertson', checkgames = True)\n",
    "if isinstance(robertson_finaldat, pd.DataFrame):\n",
    "    robertson_finaldat.to_csv(os.path.join(nest_folder_def, \"robertson_finaldat.csv\"))"
   ]
  },
  {
   "cell_type": "code",
   "execution_count": 90,
   "metadata": {},
   "outputs": [],
   "source": [
    "virgil_finaldat = compile_dat('e06683ca', 'Virgil-van-Dijk', 'Virgil_van', checkgames = True)\n",
    "if isinstance(virgil_finaldat, pd.DataFrame):\n",
    "    virgil_finaldat.to_csv(os.path.join(nest_folder_def, \"virgil_finaldat.csv\"))"
   ]
  },
  {
   "cell_type": "code",
   "execution_count": 91,
   "metadata": {},
   "outputs": [],
   "source": [
    "konate_finaldat = compile_dat('5ed9b537', 'Ibrahima-Konate', 'Ibrahima_Kona', checkgames = True)\n",
    "if isinstance(konate_finaldat, pd.DataFrame):\n",
    "    konate_finaldat.to_csv(os.path.join(nest_folder_def, \"konate_finaldat.csv\"))"
   ]
  },
  {
   "cell_type": "code",
   "execution_count": 92,
   "metadata": {},
   "outputs": [],
   "source": [
    "cbradley_finaldat = compile_dat('bbd67769', 'Conor-Bradley', 'Conor_Bradley', checkgames = True)\n",
    "if isinstance(cbradley_finaldat, pd.DataFrame):\n",
    "    cbradley_finaldat.to_csv(os.path.join(nest_folder_def, \"cbradley_finaldat.csv\"))"
   ]
  },
  {
   "cell_type": "code",
   "execution_count": 93,
   "metadata": {},
   "outputs": [],
   "source": [
    "tsimikas_finaldat = compile_dat('f315ca93', 'Kostas-Tsimikas', 'Tsimikas', checkgames = True)\n",
    "if isinstance(tsimikas_finaldat, pd.DataFrame):\n",
    "    tsimikas_finaldat.to_csv(os.path.join(nest_folder_def, \"tsimikas_finaldat.csv\"))"
   ]
  },
  {
   "cell_type": "code",
   "execution_count": 94,
   "metadata": {},
   "outputs": [],
   "source": [
    "quansah_finaldat = compile_dat('4125cb98', 'Jarell-Quansah', 'Jarell_Quansah', checkgames = True)\n",
    "if isinstance(quansah_finaldat, pd.DataFrame):\n",
    "    quansah_finaldat.to_csv(os.path.join(nest_folder_def, \"quansah_finaldat.csv\"))"
   ]
  },
  {
   "cell_type": "code",
   "execution_count": 95,
   "metadata": {},
   "outputs": [],
   "source": [
    "gomez_finaldat = compile_dat('7a11550b', 'Joe-Gomez', 'Joseph_Gomez', checkgames = True)\n",
    "if isinstance(gomez_finaldat, pd.DataFrame):\n",
    "    gomez_finaldat.to_csv(os.path.join(nest_folder_def, \"gomez_finaldat.csv\"))"
   ]
  },
  {
   "cell_type": "markdown",
   "metadata": {},
   "source": [
    "## Manchester City"
   ]
  },
  {
   "cell_type": "code",
   "execution_count": 207,
   "metadata": {},
   "outputs": [],
   "source": [
    "haaland_finaldat = compile_dat('1f44ac21', 'Erling-Haaland', 'Erling_Haaland', checkgames = True)\n",
    "if isinstance(haaland_finaldat, pd.DataFrame):\n",
    "    haaland_finaldat.to_csv(os.path.join(nest_folder, \"haaland_finaldat.csv\"))"
   ]
  },
  {
   "cell_type": "code",
   "execution_count": 208,
   "metadata": {},
   "outputs": [],
   "source": [
    "debruyne_finaldat = compile_dat('e46012d4', 'Kevin-De-Bruyne', 'Kevin_De Bruyne', checkgames = True)\n",
    "if isinstance(debruyne_finaldat, pd.DataFrame):\n",
    "    debruyne_finaldat.to_csv(os.path.join(nest_folder, \"debruyne_finaldat.csv\"))"
   ]
  },
  {
   "cell_type": "code",
   "execution_count": 209,
   "metadata": {},
   "outputs": [],
   "source": [
    "bernardo_finaldat = compile_dat('3eb22ec9', 'Bernardo-Silva', 'Veiga de Carvalho', checkgames = True)\n",
    "if isinstance(bernardo_finaldat, pd.DataFrame):\n",
    "    bernardo_finaldat.to_csv(os.path.join(nest_folder, \"bernardo_finaldat.csv\"))"
   ]
  },
  {
   "cell_type": "code",
   "execution_count": 210,
   "metadata": {},
   "outputs": [],
   "source": [
    "kovacic_finaldat = compile_dat('79c0821a', 'Mateo-Kovacic', 'Mateo_Kova', checkgames = True)\n",
    "if isinstance(kovacic_finaldat, pd.DataFrame):\n",
    "    kovacic_finaldat.to_csv(os.path.join(nest_folder, \"kovacic_finaldat.csv\"))"
   ]
  },
  {
   "cell_type": "code",
   "execution_count": 212,
   "metadata": {},
   "outputs": [],
   "source": [
    "doku_finaldat = compile_dat('fffea3e5', 'Jeremy-Doku', 'Doku', checkgames = True)\n",
    "if isinstance(doku_finaldat, pd.DataFrame):\n",
    "    doku_finaldat.to_csv(os.path.join(nest_folder, \"doku_finaldat.csv\"))"
   ]
  },
  {
   "cell_type": "code",
   "execution_count": 247,
   "metadata": {},
   "outputs": [],
   "source": [
    "matheusn_finaldat = compile_dat('e6af02e0', 'Matheus-Nunes', 'Matheus Luiz_Nunes', checkgames = False)\n",
    "if isinstance(matheusn_finaldat, pd.DataFrame):\n",
    "    matheusn_finaldat.to_csv(os.path.join(nest_folder, \"matheusn_finaldat.csv\"))\n",
    "\n",
    "#checkgames false because there is an extra row, for a game that Matheus Nunes technically did not play against Leeds. However, that row exists \n",
    "#because he managed to pickup a red card despite not playing."
   ]
  },
  {
   "cell_type": "code",
   "execution_count": 220,
   "metadata": {},
   "outputs": [],
   "source": [
    "grealish_finaldat = compile_dat('b0b4fd3e', 'Jack-Grealish', 'Jack_Grealish', checkgames = True)\n",
    "if isinstance(grealish_finaldat, pd.DataFrame):\n",
    "    grealish_finaldat.to_csv(os.path.join(nest_folder, \"grealish_finaldat.csv\"))"
   ]
  },
  {
   "cell_type": "code",
   "execution_count": 221,
   "metadata": {},
   "outputs": [],
   "source": [
    "gundogan_finaldat = compile_dat('819b3158', 'Ilkay-Gundogan', 'Ilkay_G', checkgames = True)\n",
    "if isinstance(gundogan_finaldat, pd.DataFrame):\n",
    "    gundogan_finaldat.to_csv(os.path.join(nest_folder, \"gundogan_finaldat.csv\"))"
   ]
  },
  {
   "cell_type": "code",
   "execution_count": 248,
   "metadata": {},
   "outputs": [],
   "source": [
    "foden_finaldat = compile_dat('ed1e53f3', 'Phil-Foden', 'Phil_Foden', checkgames = True)\n",
    "if isinstance(foden_finaldat, pd.DataFrame):\n",
    "    foden_finaldat.to_csv(os.path.join(nest_folder, \"foden_finaldat.csv\"))"
   ]
  },
  {
   "cell_type": "code",
   "execution_count": 223,
   "metadata": {},
   "outputs": [],
   "source": [
    "bobb_finaldat = compile_dat('eed2427e', 'Oscar-Bobb', 'Oscar_Bobb', checkgames = True)\n",
    "if isinstance(bobb_finaldat, pd.DataFrame):\n",
    "    bobb_finaldat.to_csv(os.path.join(nest_folder, \"bobb_finaldat.csv\"))"
   ]
  },
  {
   "cell_type": "code",
   "execution_count": 224,
   "metadata": {},
   "outputs": [],
   "source": [
    "rodri_finaldat = compile_dat('6434f10d', 'Rodri', 'Rodrigo_Hernandez', checkgames = True)\n",
    "if isinstance(rodri_finaldat, pd.DataFrame):\n",
    "    rodri_finaldat.to_csv(os.path.join(nest_folder, \"rodri_finaldat.csv\"))"
   ]
  },
  {
   "cell_type": "markdown",
   "metadata": {},
   "source": [
    "Manchester City Defenders"
   ]
  },
  {
   "cell_type": "code",
   "execution_count": 96,
   "metadata": {},
   "outputs": [],
   "source": [
    "rlewis_finaldat = compile_dat('b57e066e', 'Rico-Lewis', 'Rico_Lewis', checkgames = True)\n",
    "if isinstance(rlewis_finaldat, pd.DataFrame):\n",
    "    rlewis_finaldat.to_csv(os.path.join(nest_folder_def, \"rlewis_finaldat.csv\"))"
   ]
  },
  {
   "cell_type": "code",
   "execution_count": 97,
   "metadata": {},
   "outputs": [],
   "source": [
    "gvardiol_finaldat = compile_dat('5ad50391', 'Josko-Gvardiol', 'Gvardiol', checkgames = True)\n",
    "if isinstance(gvardiol_finaldat, pd.DataFrame):\n",
    "    gvardiol_finaldat.to_csv(os.path.join(nest_folder_def, \"gvardiol_finaldat.csv\"))"
   ]
  },
  {
   "cell_type": "code",
   "execution_count": 99,
   "metadata": {},
   "outputs": [],
   "source": [
    "akanji_finaldat = compile_dat('89ac64a6', 'Manuel-Akanji', 'Manuel_Akanji', checkgames = True)\n",
    "if isinstance(akanji_finaldat, pd.DataFrame):\n",
    "    akanji_finaldat.to_csv(os.path.join(nest_folder_def, \"akanji_finaldat.csv\"))"
   ]
  },
  {
   "cell_type": "code",
   "execution_count": 101,
   "metadata": {},
   "outputs": [],
   "source": [
    "ruben_finaldat = compile_dat('31c69ef1', 'Ruben-Dias', 'Gato Alves Dias', checkgames = True)\n",
    "if isinstance(ruben_finaldat, pd.DataFrame):\n",
    "    ruben_finaldat.to_csv(os.path.join(nest_folder_def, \"ruben_finaldat.csv\"))"
   ]
  },
  {
   "cell_type": "code",
   "execution_count": 102,
   "metadata": {},
   "outputs": [],
   "source": [
    "ake_finaldat = compile_dat('eaeca114', 'Nathan-Ake', 'Nathan_Ak', checkgames = True)\n",
    "if isinstance(ake_finaldat, pd.DataFrame):\n",
    "    ake_finaldat.to_csv(os.path.join(nest_folder_def, \"ake_finaldat.csv\"))"
   ]
  },
  {
   "cell_type": "code",
   "execution_count": 103,
   "metadata": {},
   "outputs": [],
   "source": [
    "stones_finaldat = compile_dat('5eecec3d', 'John-Stones', 'John_Stones', checkgames = True)\n",
    "if isinstance(stones_finaldat, pd.DataFrame):\n",
    "    stones_finaldat.to_csv(os.path.join(nest_folder_def, \"stones_finaldat.csv\"))"
   ]
  },
  {
   "cell_type": "code",
   "execution_count": 111,
   "metadata": {},
   "outputs": [],
   "source": [
    "kwalker_finaldat = compile_dat('86dd77d1', 'Kyle-Walker', 'Kyle_Walker_', checkgames = True)\n",
    "if isinstance(kwalker_finaldat, pd.DataFrame):\n",
    "    kwalker_finaldat.to_csv(os.path.join(nest_folder_def, \"kwalker_finaldat.csv\"))"
   ]
  },
  {
   "cell_type": "markdown",
   "metadata": {},
   "source": [
    "## Manchester United"
   ]
  },
  {
   "cell_type": "code",
   "execution_count": 225,
   "metadata": {},
   "outputs": [],
   "source": [
    "hojlund_finaldat = compile_dat('491a433d', 'Rasmus-Hojlund', 'Rasmus_H', checkgames = True)\n",
    "if isinstance(hojlund_finaldat, pd.DataFrame):\n",
    "    hojlund_finaldat.to_csv(os.path.join(nest_folder, \"hojlund_finaldat.csv\"))"
   ]
  },
  {
   "cell_type": "code",
   "execution_count": 226,
   "metadata": {},
   "outputs": [],
   "source": [
    "brunof_finaldat = compile_dat('507c7bdf', 'Bruno-Fernandes', 'Borges Fernandes', checkgames = True)\n",
    "if isinstance(brunof_finaldat, pd.DataFrame):\n",
    "    brunof_finaldat.to_csv(os.path.join(nest_folder, \"brunof_finaldat.csv\"))"
   ]
  },
  {
   "cell_type": "code",
   "execution_count": 227,
   "metadata": {},
   "outputs": [],
   "source": [
    "garnacho_finaldat = compile_dat('7aa8adfe', 'Alejandro-Garnacho', 'Alejandro_Garnacho', checkgames = True)\n",
    "if isinstance(garnacho_finaldat, pd.DataFrame):\n",
    "    garnacho_finaldat.to_csv(os.path.join(nest_folder, \"garnacho_finaldat.csv\"))"
   ]
  },
  {
   "cell_type": "code",
   "execution_count": 228,
   "metadata": {},
   "outputs": [],
   "source": [
    "rashford_finaldat = compile_dat('a1d5bd30', 'Marcus-Rashford', 'Marcus_Rashford', checkgames = True)\n",
    "if isinstance(rashford_finaldat, pd.DataFrame):\n",
    "    rashford_finaldat.to_csv(os.path.join(nest_folder, \"rashford_finaldat.csv\"))"
   ]
  },
  {
   "cell_type": "code",
   "execution_count": 229,
   "metadata": {},
   "outputs": [],
   "source": [
    "casemiro_finaldat = compile_dat('4d224fe8', 'Casemiro', 'Casimiro', checkgames = True)\n",
    "if isinstance(casemiro_finaldat, pd.DataFrame):\n",
    "    casemiro_finaldat.to_csv(os.path.join(nest_folder, \"casemiro_finaldat.csv\"))"
   ]
  },
  {
   "cell_type": "code",
   "execution_count": 230,
   "metadata": {},
   "outputs": [],
   "source": [
    "mainoo_finaldat = compile_dat('c6220452', 'Kobbie-Mainoo', 'Kobbie_Mainoo', checkgames = True)\n",
    "if isinstance(mainoo_finaldat, pd.DataFrame):\n",
    "    mainoo_finaldat.to_csv(os.path.join(nest_folder, \"mainoo_finaldat.csv\"))"
   ]
  },
  {
   "cell_type": "code",
   "execution_count": 231,
   "metadata": {},
   "outputs": [],
   "source": [
    "mount_finaldat = compile_dat('9674002f', 'Mason-Mount', 'Mason_Mount', checkgames = True)\n",
    "if isinstance(mount_finaldat, pd.DataFrame):\n",
    "    mount_finaldat.to_csv(os.path.join(nest_folder, \"mount_finaldat.csv\"))"
   ]
  },
  {
   "cell_type": "code",
   "execution_count": 232,
   "metadata": {},
   "outputs": [],
   "source": [
    "antony_finaldat = compile_dat('99127249', 'Antony', 'Antony', checkgames = True)\n",
    "if isinstance(antony_finaldat, pd.DataFrame):\n",
    "    antony_finaldat.to_csv(os.path.join(nest_folder, \"antony_finaldat.csv\"))"
   ]
  },
  {
   "cell_type": "code",
   "execution_count": 233,
   "metadata": {},
   "outputs": [],
   "source": [
    "eriksen_finaldat = compile_dat('980522ec', 'Christian-Eriksen', 'Christian_Eriksen', checkgames = True)\n",
    "if isinstance(eriksen_finaldat, pd.DataFrame):\n",
    "    eriksen_finaldat.to_csv(os.path.join(nest_folder, \"eriksen_finaldat.csv\"))"
   ]
  },
  {
   "cell_type": "markdown",
   "metadata": {},
   "source": [
    "Manchester United Defenders"
   ]
  },
  {
   "cell_type": "code",
   "execution_count": 105,
   "metadata": {},
   "outputs": [
    {
     "name": "stderr",
     "output_type": "stream",
     "text": [
      "/var/folders/dv/bjx4hkg54x17symh1g3_3jf80000gq/T/ipykernel_58690/3417702198.py:26: FutureWarning: The behavior of DataFrame concatenation with empty or all-NA entries is deprecated. In a future version, this will no longer exclude empty or all-NA columns when determining the result dtypes. To retain the old behavior, exclude the relevant entries before the concat operation.\n",
      "  finaldf = pd.concat(dataframes.values(), join = \"inner\", ignore_index = True)\n"
     ]
    }
   ],
   "source": [
    "dalot_finaldat = compile_dat('d9565625', 'Diogo-Dalot', 'Diogo_Dalot', checkgames = True)\n",
    "if isinstance(dalot_finaldat, pd.DataFrame):\n",
    "    dalot_finaldat.to_csv(os.path.join(nest_folder_def, \"dalot_finaldat.csv\"))"
   ]
  },
  {
   "cell_type": "code",
   "execution_count": 106,
   "metadata": {},
   "outputs": [],
   "source": [
    "hmaguire_finaldat = compile_dat('d8931174', 'Harry-Maguire', 'Harry_Maguire', checkgames = True)\n",
    "if isinstance(hmaguire_finaldat, pd.DataFrame):\n",
    "    hmaguire_finaldat.to_csv(os.path.join(nest_folder_def, \"hmaguire_finaldat.csv\"))"
   ]
  },
  {
   "cell_type": "code",
   "execution_count": 107,
   "metadata": {},
   "outputs": [],
   "source": [
    "lisandro_finaldat = compile_dat('bac46a10', 'Lisandro-Martinez', 'Lisandro_Mart', checkgames = True)\n",
    "if isinstance(lisandro_finaldat, pd.DataFrame):\n",
    "    lisandro_finaldat.to_csv(os.path.join(nest_folder_def, \"lisandro_finaldat.csv\"))"
   ]
  },
  {
   "cell_type": "code",
   "execution_count": 108,
   "metadata": {},
   "outputs": [
    {
     "name": "stderr",
     "output_type": "stream",
     "text": [
      "/var/folders/dv/bjx4hkg54x17symh1g3_3jf80000gq/T/ipykernel_58690/3417702198.py:26: FutureWarning: The behavior of DataFrame concatenation with empty or all-NA entries is deprecated. In a future version, this will no longer exclude empty or all-NA columns when determining the result dtypes. To retain the old behavior, exclude the relevant entries before the concat operation.\n",
      "  finaldf = pd.concat(dataframes.values(), join = \"inner\", ignore_index = True)\n"
     ]
    },
    {
     "name": "stdout",
     "output_type": "stream",
     "text": [
      "The number of Premier League games played by Jonny-Evans(172) does not match the number of rows in the dataframe (144)\n"
     ]
    }
   ],
   "source": [
    "jevans_finaldat = compile_dat('f8fcd2a5', 'Jonny-Evans', 'Jonny_Evans', checkgames = True)\n",
    "if isinstance(jevans_finaldat, pd.DataFrame):\n",
    "    jevans_finaldat.to_csv(os.path.join(nest_folder_def, \"jevans_finaldat.csv\"))"
   ]
  },
  {
   "cell_type": "code",
   "execution_count": 109,
   "metadata": {},
   "outputs": [],
   "source": [
    "lindelof_finaldat = compile_dat('f5deef4c', 'Victor-Lindelof', 'Victor_Lindel', checkgames = True)\n",
    "if isinstance(lindelof_finaldat, pd.DataFrame):\n",
    "    lindelof_finaldat.to_csv(os.path.join(nest_folder_def, \"lindelof_finaldat.csv\"))"
   ]
  },
  {
   "cell_type": "code",
   "execution_count": 110,
   "metadata": {},
   "outputs": [],
   "source": [
    "shaw_finaldat = compile_dat('9c94165b', 'Luke-Shaw', 'Luke_Shaw', checkgames = True)\n",
    "if isinstance(shaw_finaldat, pd.DataFrame):\n",
    "    shaw_finaldat.to_csv(os.path.join(nest_folder_def, \"shaw_finaldat.csv\"))"
   ]
  },
  {
   "cell_type": "markdown",
   "metadata": {},
   "source": [
    "## Newcastle"
   ]
  },
  {
   "cell_type": "code",
   "execution_count": 234,
   "metadata": {},
   "outputs": [],
   "source": [
    "isak_finaldat = compile_dat('8e92be30', 'Alexander-Isak', 'Alexander_Isak', checkgames = True)\n",
    "if isinstance(isak_finaldat, pd.DataFrame):\n",
    "    isak_finaldat.to_csv(os.path.join(nest_folder, \"isak_finaldat.csv\"))"
   ]
  },
  {
   "cell_type": "code",
   "execution_count": 235,
   "metadata": {},
   "outputs": [],
   "source": [
    "cwilson_finaldat = compile_dat('c596fcb0', 'Callum-Wilson', 'Callum_Wilson', checkgames = True)\n",
    "if isinstance(cwilson_finaldat, pd.DataFrame):\n",
    "    cwilson_finaldat.to_csv(os.path.join(nest_folder, \"cwilson_finaldat.csv\"))"
   ]
  },
  {
   "cell_type": "code",
   "execution_count": 236,
   "metadata": {},
   "outputs": [],
   "source": [
    "hbarnes_finaldat = compile_dat('3ea50f67', 'Harvey-Barnes', 'Harvey_Barnes', checkgames = True)\n",
    "if isinstance(hbarnes_finaldat, pd.DataFrame):\n",
    "    hbarnes_finaldat.to_csv(os.path.join(nest_folder, \"hbarnes_finaldat.csv\"))"
   ]
  },
  {
   "cell_type": "code",
   "execution_count": 237,
   "metadata": {},
   "outputs": [],
   "source": [
    "gordon_finaldat = compile_dat('2bd83368', 'Anthony-Gordon', 'Anthony_Gordon', checkgames = True)\n",
    "if isinstance(gordon_finaldat, pd.DataFrame):\n",
    "    gordon_finaldat.to_csv(os.path.join(nest_folder, \"gordon_finaldat.csv\"))"
   ]
  },
  {
   "cell_type": "code",
   "execution_count": 238,
   "metadata": {},
   "outputs": [],
   "source": [
    "joelinton_finaldat = compile_dat('c17bfb65', 'Joelinton', 'Joelinton', checkgames = True)\n",
    "if isinstance(joelinton_finaldat, pd.DataFrame):\n",
    "    joelinton_finaldat.to_csv(os.path.join(nest_folder, \"joelinton_finaldat.csv\"))"
   ]
  },
  {
   "cell_type": "code",
   "execution_count": 239,
   "metadata": {},
   "outputs": [],
   "source": [
    "brunog_finaldat = compile_dat('82518f62', 'Bruno-Guimaraes', 'Bruno_Gui', checkgames = True)\n",
    "if isinstance(brunog_finaldat, pd.DataFrame):\n",
    "    brunog_finaldat.to_csv(os.path.join(nest_folder, \"brunog_finaldat.csv\"))"
   ]
  },
  {
   "cell_type": "code",
   "execution_count": 240,
   "metadata": {},
   "outputs": [
    {
     "name": "stderr",
     "output_type": "stream",
     "text": [
      "/var/folders/dv/bjx4hkg54x17symh1g3_3jf80000gq/T/ipykernel_60248/3417702198.py:26: FutureWarning: The behavior of DataFrame concatenation with empty or all-NA entries is deprecated. In a future version, this will no longer exclude empty or all-NA columns when determining the result dtypes. To retain the old behavior, exclude the relevant entries before the concat operation.\n",
      "  finaldf = pd.concat(dataframes.values(), join = \"inner\", ignore_index = True)\n"
     ]
    }
   ],
   "source": [
    "jmurphy_finaldat = compile_dat('de112b84', 'Jacob-Murphy', 'Jacob_Murphy', checkgames = True)\n",
    "if isinstance(jmurphy_finaldat, pd.DataFrame):\n",
    "    jmurphy_finaldat.to_csv(os.path.join(nest_folder, \"jmurphy_finaldat.csv\"))"
   ]
  },
  {
   "cell_type": "code",
   "execution_count": 241,
   "metadata": {},
   "outputs": [],
   "source": [
    "slongstaff_finaldat = compile_dat('a2b105e0', 'Sean-Longstaff', 'Sean_Longstaff', checkgames = True)\n",
    "if isinstance(slongstaff_finaldat, pd.DataFrame):\n",
    "    slongstaff_finaldat.to_csv(os.path.join(nest_folder, \"slongstaff_finaldat.csv\"))"
   ]
  },
  {
   "cell_type": "code",
   "execution_count": 242,
   "metadata": {},
   "outputs": [],
   "source": [
    "almiron_finaldat = compile_dat('862a1c15', 'Miguel-Almiron', 'Miguel_Almir', checkgames = True)\n",
    "if isinstance(almiron_finaldat, pd.DataFrame):\n",
    "    almiron_finaldat.to_csv(os.path.join(nest_folder, \"almiron_finaldat.csv\"))"
   ]
  },
  {
   "cell_type": "code",
   "execution_count": 243,
   "metadata": {},
   "outputs": [],
   "source": [
    "willock_finaldat = compile_dat('a3b03921', 'Joe-Willock', 'Willock', checkgames = True)\n",
    "if isinstance(willock_finaldat, pd.DataFrame):\n",
    "    willock_finaldat.to_csv(os.path.join(nest_folder, \"willock_finaldat.csv\"))"
   ]
  },
  {
   "cell_type": "code",
   "execution_count": 245,
   "metadata": {},
   "outputs": [
    {
     "name": "stderr",
     "output_type": "stream",
     "text": [
      "/var/folders/dv/bjx4hkg54x17symh1g3_3jf80000gq/T/ipykernel_60248/3417702198.py:26: FutureWarning: The behavior of DataFrame concatenation with empty or all-NA entries is deprecated. In a future version, this will no longer exclude empty or all-NA columns when determining the result dtypes. To retain the old behavior, exclude the relevant entries before the concat operation.\n",
      "  finaldf = pd.concat(dataframes.values(), join = \"inner\", ignore_index = True)\n"
     ]
    }
   ],
   "source": [
    "hayden_finaldat = compile_dat('c951a6df', 'Isaac-Hayden', 'Isaac_Hayden', checkgames = True)\n",
    "if isinstance(hayden_finaldat, pd.DataFrame):\n",
    "    hayden_finaldat.to_csv(os.path.join(nest_folder, \"hayden_finaldat.csv\"))"
   ]
  },
  {
   "cell_type": "code",
   "execution_count": 246,
   "metadata": {},
   "outputs": [],
   "source": [
    "miley_finaldat = compile_dat('2c6835e5', 'Lewis-Miley', 'Lewis_Miley', checkgames = True)\n",
    "if isinstance(miley_finaldat, pd.DataFrame):\n",
    "    miley_finaldat.to_csv(os.path.join(nest_folder, \"miley_finaldat.csv\"))"
   ]
  },
  {
   "cell_type": "markdown",
   "metadata": {},
   "source": [
    "Newcastle Defenders"
   ]
  },
  {
   "cell_type": "code",
   "execution_count": 112,
   "metadata": {},
   "outputs": [],
   "source": [
    "krafth_finaldat = compile_dat('77cf6852', 'Emil-Krafth', 'Emil_Krafth', checkgames = True)\n",
    "if isinstance(krafth_finaldat, pd.DataFrame):\n",
    "    krafth_finaldat.to_csv(os.path.join(nest_folder_def, \"krafth_finaldat.csv\"))"
   ]
  },
  {
   "cell_type": "code",
   "execution_count": 113,
   "metadata": {},
   "outputs": [],
   "source": [
    "livramento_finaldat = compile_dat('afed6722', 'Valentino-Livramento', 'Livramento', checkgames = True)\n",
    "if isinstance(livramento_finaldat, pd.DataFrame):\n",
    "    livramento_finaldat.to_csv(os.path.join(nest_folder_def, \"livramento_finaldat.csv\"))"
   ]
  },
  {
   "cell_type": "code",
   "execution_count": 114,
   "metadata": {},
   "outputs": [],
   "source": [
    "lhall_finaldat = compile_dat('da011f18', 'Lewis-Hall', 'Lewis_Hall', checkgames = True)\n",
    "if isinstance(lhall_finaldat, pd.DataFrame):\n",
    "    lhall_finaldat.to_csv(os.path.join(nest_folder_def, \"lhall_finaldat.csv\"))"
   ]
  },
  {
   "cell_type": "code",
   "execution_count": 115,
   "metadata": {},
   "outputs": [],
   "source": [
    "lkelly_finaldat = compile_dat('f31def1e', 'Lloyd-Kelly', 'Lloyd_Kelly', checkgames = True)\n",
    "if isinstance(lkelly_finaldat, pd.DataFrame):\n",
    "    lkelly_finaldat.to_csv(os.path.join(nest_folder_def, \"lkelly_finaldat.csv\"))"
   ]
  },
  {
   "cell_type": "code",
   "execution_count": 116,
   "metadata": {},
   "outputs": [],
   "source": [
    "burn_finaldat = compile_dat('b2d31e83', 'Dan-Burn', 'Dan_Burn', checkgames = True)\n",
    "if isinstance(burn_finaldat, pd.DataFrame):\n",
    "    burn_finaldat.to_csv(os.path.join(nest_folder_def, \"burn_finaldat.csv\"))"
   ]
  },
  {
   "cell_type": "code",
   "execution_count": 117,
   "metadata": {},
   "outputs": [
    {
     "name": "stderr",
     "output_type": "stream",
     "text": [
      "/var/folders/dv/bjx4hkg54x17symh1g3_3jf80000gq/T/ipykernel_58690/3417702198.py:26: FutureWarning: The behavior of DataFrame concatenation with empty or all-NA entries is deprecated. In a future version, this will no longer exclude empty or all-NA columns when determining the result dtypes. To retain the old behavior, exclude the relevant entries before the concat operation.\n",
      "  finaldf = pd.concat(dataframes.values(), join = \"inner\", ignore_index = True)\n"
     ]
    }
   ],
   "source": [
    "trippier_finaldat = compile_dat('21512407', 'Kieran-Trippier', 'Kieran_Trippier', checkgames = True)\n",
    "if isinstance(trippier_finaldat, pd.DataFrame):\n",
    "    trippier_finaldat.to_csv(os.path.join(nest_folder_def, \"trippier_finaldat.csv\"))"
   ]
  },
  {
   "cell_type": "code",
   "execution_count": 118,
   "metadata": {},
   "outputs": [],
   "source": [
    "botman_finaldat = compile_dat('ccce7025', 'Sven-Botman', 'Sven_Botman', checkgames = True)\n",
    "if isinstance(botman_finaldat, pd.DataFrame):\n",
    "    botman_finaldat.to_csv(os.path.join(nest_folder_def, \"botman_finaldat.csv\"))"
   ]
  },
  {
   "cell_type": "code",
   "execution_count": 145,
   "metadata": {},
   "outputs": [],
   "source": [
    "lascelles_finaldat = compile_dat('450ab6fc', 'Jamaal-Lascelles', 'Jamaal_Lascelles', checkgames = False)\n",
    "if isinstance(lascelles_finaldat, pd.DataFrame):\n",
    "    lascelles_finaldat.to_csv(os.path.join(nest_folder_def, \"lascelles_finaldat.csv\"))\n",
    "    \n",
    "#checkgames false because of the matheus nunes problem "
   ]
  },
  {
   "cell_type": "code",
   "execution_count": 120,
   "metadata": {},
   "outputs": [],
   "source": [
    "targett_finaldat = compile_dat('e514ab62', 'Matt-Targett', 'Matt_Targett', checkgames = True)\n",
    "if isinstance(targett_finaldat, pd.DataFrame):\n",
    "    targett_finaldat.to_csv(os.path.join(nest_folder_def, \"targett_finaldat.csv\"))"
   ]
  },
  {
   "cell_type": "code",
   "execution_count": 121,
   "metadata": {},
   "outputs": [],
   "source": [
    "schar_finaldat = compile_dat('c8aa95da', 'Fabian-Schar', 'Fabian_Sch', checkgames = True)\n",
    "if isinstance(schar_finaldat, pd.DataFrame):\n",
    "    schar_finaldat.to_csv(os.path.join(nest_folder_def, \"schar_finaldat.csv\"))"
   ]
  },
  {
   "cell_type": "markdown",
   "metadata": {},
   "source": [
    "## Nottingham Forest"
   ]
  },
  {
   "cell_type": "code",
   "execution_count": 249,
   "metadata": {},
   "outputs": [],
   "source": [
    "wood_finaldat = compile_dat('4e9a0555', 'Chris-Wood', 'Chris_Wood', checkgames = True)\n",
    "if isinstance(wood_finaldat, pd.DataFrame):\n",
    "    wood_finaldat.to_csv(os.path.join(nest_folder, \"wood_finaldat.csv\"))"
   ]
  },
  {
   "cell_type": "code",
   "execution_count": 250,
   "metadata": {},
   "outputs": [],
   "source": [
    "awoniyi_finaldat = compile_dat('e5478b87', 'Taiwo-Awoniyi', 'Taiwo_Awoniyi', checkgames = True)\n",
    "if isinstance(awoniyi_finaldat, pd.DataFrame):\n",
    "    awoniyi_finaldat.to_csv(os.path.join(nest_folder, \"awoniyi_finaldat.csv\"))"
   ]
  },
  {
   "cell_type": "code",
   "execution_count": 251,
   "metadata": {},
   "outputs": [
    {
     "name": "stderr",
     "output_type": "stream",
     "text": [
      "/var/folders/dv/bjx4hkg54x17symh1g3_3jf80000gq/T/ipykernel_60248/3417702198.py:26: FutureWarning: The behavior of DataFrame concatenation with empty or all-NA entries is deprecated. In a future version, this will no longer exclude empty or all-NA columns when determining the result dtypes. To retain the old behavior, exclude the relevant entries before the concat operation.\n",
      "  finaldf = pd.concat(dataframes.values(), join = \"inner\", ignore_index = True)\n"
     ]
    }
   ],
   "source": [
    "dennis_finaldat = compile_dat('2c44a35d', 'Emmanuel-Dennis', 'Emmanuel_Dennis', checkgames = True)\n",
    "if isinstance(dennis_finaldat, pd.DataFrame):\n",
    "    dennis_finaldat.to_csv(os.path.join(nest_folder, \"dennis_finaldat.csv\"))"
   ]
  },
  {
   "cell_type": "code",
   "execution_count": 252,
   "metadata": {},
   "outputs": [],
   "source": [
    "gibbswhite_finaldat = compile_dat('32f60ed8', 'Morgan-Gibbs-White', 'Morgan_Gibbs', checkgames = True)\n",
    "if isinstance(gibbswhite_finaldat, pd.DataFrame):\n",
    "    gibbswhite_finaldat.to_csv(os.path.join(nest_folder, \"gibbswhite_finaldat.csv\"))"
   ]
  },
  {
   "cell_type": "code",
   "execution_count": 253,
   "metadata": {},
   "outputs": [],
   "source": [
    "anderson_finaldat = compile_dat('de31038e', 'Elliot-Anderson', 'Elliot_Anderson', checkgames = True)\n",
    "if isinstance(anderson_finaldat, pd.DataFrame):\n",
    "    anderson_finaldat.to_csv(os.path.join(nest_folder, \"anderson_finaldat.csv\"))"
   ]
  },
  {
   "cell_type": "code",
   "execution_count": 254,
   "metadata": {},
   "outputs": [],
   "source": [
    "yates_finaldat = compile_dat('c1fe2a48', 'Ryan-Yates', 'Ryan_Yates', checkgames = True)\n",
    "if isinstance(yates_finaldat, pd.DataFrame):\n",
    "    yates_finaldat.to_csv(os.path.join(nest_folder, \"yates_finaldat.csv\"))"
   ]
  },
  {
   "cell_type": "code",
   "execution_count": 255,
   "metadata": {},
   "outputs": [],
   "source": [
    "hudsonodoi_finaldat = compile_dat('15f3ec41', 'Callum-Hudson-Odoi', 'Callum_Hudson', checkgames = True)\n",
    "if isinstance(hudsonodoi_finaldat, pd.DataFrame):\n",
    "    hudsonodoi_finaldat.to_csv(os.path.join(nest_folder, \"hudsonodoi_finaldat.csv\"))"
   ]
  },
  {
   "cell_type": "code",
   "execution_count": 258,
   "metadata": {},
   "outputs": [],
   "source": [
    "elanga_finaldat = compile_dat('2fba6108', 'Anthony-Elanga', 'Anthony_Elanga', checkgames = True)\n",
    "if isinstance(elanga_finaldat, pd.DataFrame):\n",
    "    elanga_finaldat.to_csv(os.path.join(nest_folder, \"elanga_finaldat.csv\"))"
   ]
  },
  {
   "cell_type": "code",
   "execution_count": 259,
   "metadata": {},
   "outputs": [],
   "source": [
    "sangare_finaldat = compile_dat('bced0375', 'Ibrahim-Sangare', 'Ibrahim_Sangar', checkgames = True)\n",
    "if isinstance(sangare_finaldat, pd.DataFrame):\n",
    "    sangare_finaldat.to_csv(os.path.join(nest_folder, \"sangare_finaldat.csv\"))"
   ]
  },
  {
   "cell_type": "code",
   "execution_count": 260,
   "metadata": {},
   "outputs": [],
   "source": [
    "danilo_finaldat = compile_dat('a816dbfb', 'Danilo', 'Danilo_dos Santos', checkgames = True)\n",
    "if isinstance(danilo_finaldat, pd.DataFrame):\n",
    "    danilo_finaldat.to_csv(os.path.join(nest_folder, \"danilo_finaldat.csv\"))"
   ]
  },
  {
   "cell_type": "code",
   "execution_count": 261,
   "metadata": {},
   "outputs": [],
   "source": [
    "dominguez_finaldat = compile_dat('20b3a502', 'Nicolas-Dominguez', 'Domínguez', checkgames = True)\n",
    "if isinstance(dominguez_finaldat, pd.DataFrame):\n",
    "    dominguez_finaldat.to_csv(os.path.join(nest_folder, \"dominguez_finaldat.csv\"))"
   ]
  },
  {
   "cell_type": "code",
   "execution_count": 262,
   "metadata": {},
   "outputs": [],
   "source": [
    "wardprowse_finaldat = compile_dat('3515d404', 'James-Ward-Prowse', 'James_Ward', checkgames = True)\n",
    "if isinstance(wardprowse_finaldat, pd.DataFrame):\n",
    "    wardprowse_finaldat.to_csv(os.path.join(nest_folder, \"wardprowse_finaldat.csv\"))"
   ]
  },
  {
   "cell_type": "markdown",
   "metadata": {},
   "source": [
    "Nottingham Forest Defenders"
   ]
  },
  {
   "cell_type": "code",
   "execution_count": 144,
   "metadata": {},
   "outputs": [],
   "source": [
    "aina_finaldat = compile_dat('246d153b', 'Ola-Aina', 'Aina', checkgames = True)\n",
    "if isinstance(aina_finaldat, pd.DataFrame):\n",
    "    aina_finaldat.to_csv(os.path.join(nest_folder_def, \"aina_finaldat.csv\"))"
   ]
  },
  {
   "cell_type": "code",
   "execution_count": 123,
   "metadata": {},
   "outputs": [],
   "source": [
    "murillo_finaldat = compile_dat('1704b0b8', 'Murillo', 'Murillo', checkgames = True)\n",
    "if isinstance(murillo_finaldat, pd.DataFrame):\n",
    "    murillo_finaldat.to_csv(os.path.join(nest_folder_def, \"murillo_finaldat.csv\"))"
   ]
  },
  {
   "cell_type": "code",
   "execution_count": 124,
   "metadata": {},
   "outputs": [],
   "source": [
    "nwilliams_finaldat = compile_dat('dd323728', 'Neco-Williams', 'Neco_Williams', checkgames = True)\n",
    "if isinstance(nwilliams_finaldat, pd.DataFrame):\n",
    "    nwilliams_finaldat.to_csv(os.path.join(nest_folder_def, \"nwilliams_finaldat.csv\"))"
   ]
  },
  {
   "cell_type": "code",
   "execution_count": 125,
   "metadata": {},
   "outputs": [],
   "source": [
    "boly_finaldat = compile_dat('a4ac4b8f', 'Willy-Boly', 'Willy_Boly', checkgames = True)\n",
    "if isinstance(boly_finaldat, pd.DataFrame):\n",
    "    boly_finaldat.to_csv(os.path.join(nest_folder_def, \"boly_finaldat.csv\"))"
   ]
  },
  {
   "cell_type": "code",
   "execution_count": 126,
   "metadata": {},
   "outputs": [],
   "source": [
    "toffolo_finaldat = compile_dat('a105d46a', 'Harry-Toffolo', 'Harry_Toffolo', checkgames = True)\n",
    "if isinstance(toffolo_finaldat, pd.DataFrame):\n",
    "    toffolo_finaldat.to_csv(os.path.join(nest_folder_def, \"toffolo_finaldat.csv\"))"
   ]
  },
  {
   "cell_type": "code",
   "execution_count": 127,
   "metadata": {},
   "outputs": [],
   "source": [
    "amoreno_finaldat = compile_dat('16e9d0ea', 'Alex-Moreno', 'Alexandre_Moreno', checkgames = True)\n",
    "if isinstance(amoreno_finaldat, pd.DataFrame):\n",
    "    amoreno_finaldat.to_csv(os.path.join(nest_folder_def, \"amoreno_finaldat.csv\"))"
   ]
  },
  {
   "cell_type": "code",
   "execution_count": 128,
   "metadata": {},
   "outputs": [],
   "source": [
    "omobamidele_finaldat = compile_dat('c393a6c4', 'Andrew-Omobamidele', 'Andrew_Omobamidele', checkgames = True)\n",
    "if isinstance(omobamidele_finaldat, pd.DataFrame):\n",
    "    omobamidele_finaldat.to_csv(os.path.join(nest_folder_def, \"omobamidele_finaldat.csv\"))"
   ]
  },
  {
   "cell_type": "markdown",
   "metadata": {},
   "source": [
    "## Southampton"
   ]
  },
  {
   "cell_type": "code",
   "execution_count": 263,
   "metadata": {},
   "outputs": [],
   "source": [
    "aarmstrong_finaldat = compile_dat('68c720b5', 'Adam-Armstrong', 'Adam_Armstrong', checkgames = True)\n",
    "if isinstance(aarmstrong_finaldat, pd.DataFrame):\n",
    "    aarmstrong_finaldat.to_csv(os.path.join(nest_folder, \"aarmstrong_finaldat.csv\"))"
   ]
  },
  {
   "cell_type": "code",
   "execution_count": 264,
   "metadata": {},
   "outputs": [],
   "source": [
    "archer_finaldat = compile_dat('05e8ca6d', 'Cameron-Archer', 'Cameron_Archer', checkgames = True)\n",
    "if isinstance(archer_finaldat, pd.DataFrame):\n",
    "    archer_finaldat.to_csv(os.path.join(nest_folder, \"archer_finaldat.csv\"))"
   ]
  },
  {
   "cell_type": "code",
   "execution_count": 267,
   "metadata": {},
   "outputs": [],
   "source": [
    "aribo_finaldat = compile_dat('328f7d51', 'Joe-Aribo', 'Aribo', checkgames = True)\n",
    "if isinstance(aribo_finaldat, pd.DataFrame):\n",
    "    aribo_finaldat.to_csv(os.path.join(nest_folder, \"aribo_finaldat.csv\"))"
   ]
  },
  {
   "cell_type": "code",
   "execution_count": 268,
   "metadata": {},
   "outputs": [],
   "source": [
    "smallbone_finaldat = compile_dat('5e105217', 'William-Smallbone', 'William_Smallbone', checkgames = True)\n",
    "if isinstance(smallbone_finaldat, pd.DataFrame):\n",
    "    smallbone_finaldat.to_csv(os.path.join(nest_folder, \"smallbone_finaldat.csv\"))"
   ]
  },
  {
   "cell_type": "code",
   "execution_count": 269,
   "metadata": {},
   "outputs": [
    {
     "name": "stderr",
     "output_type": "stream",
     "text": [
      "/var/folders/dv/bjx4hkg54x17symh1g3_3jf80000gq/T/ipykernel_60248/3417702198.py:26: FutureWarning: The behavior of DataFrame concatenation with empty or all-NA entries is deprecated. In a future version, this will no longer exclude empty or all-NA columns when determining the result dtypes. To retain the old behavior, exclude the relevant entries before the concat operation.\n",
      "  finaldf = pd.concat(dataframes.values(), join = \"inner\", ignore_index = True)\n"
     ]
    }
   ],
   "source": [
    "downes_finaldat = compile_dat('69fdb896', 'Flynn-Downes', 'Flynn_Downes', checkgames = True)\n",
    "if isinstance(downes_finaldat, pd.DataFrame):\n",
    "    downes_finaldat.to_csv(os.path.join(nest_folder, \"downes_finaldat.csv\"))"
   ]
  },
  {
   "cell_type": "code",
   "execution_count": 270,
   "metadata": {},
   "outputs": [],
   "source": [
    "brereton_finaldat = compile_dat('57827369', 'Ben-Brereton', 'Ben_Brereton', checkgames = True)\n",
    "if isinstance(brereton_finaldat, pd.DataFrame):\n",
    "    brereton_finaldat.to_csv(os.path.join(nest_folder, \"brereton_finaldat.csv\"))"
   ]
  },
  {
   "cell_type": "code",
   "execution_count": 271,
   "metadata": {},
   "outputs": [],
   "source": [
    "lallana_finaldat = compile_dat('99813635', 'Adam-Lallana', 'Adam_Lallana', checkgames = True)\n",
    "if isinstance(lallana_finaldat, pd.DataFrame):\n",
    "    lallana_finaldat.to_csv(os.path.join(nest_folder, \"lallana_finaldat.csv\"))"
   ]
  },
  {
   "cell_type": "code",
   "execution_count": 272,
   "metadata": {},
   "outputs": [
    {
     "name": "stderr",
     "output_type": "stream",
     "text": [
      "/var/folders/dv/bjx4hkg54x17symh1g3_3jf80000gq/T/ipykernel_60248/3417702198.py:26: FutureWarning: The behavior of DataFrame concatenation with empty or all-NA entries is deprecated. In a future version, this will no longer exclude empty or all-NA columns when determining the result dtypes. To retain the old behavior, exclude the relevant entries before the concat operation.\n",
      "  finaldf = pd.concat(dataframes.values(), join = \"inner\", ignore_index = True)\n"
     ]
    }
   ],
   "source": [
    "rfraser_finaldat = compile_dat('d56543a0', 'Ryan-Fraser', 'Ryan_Fraser', checkgames = True)\n",
    "if isinstance(rfraser_finaldat, pd.DataFrame):\n",
    "    rfraser_finaldat.to_csv(os.path.join(nest_folder, \"rfraser_finaldat.csv\"))"
   ]
  },
  {
   "cell_type": "code",
   "execution_count": 273,
   "metadata": {},
   "outputs": [],
   "source": [
    "sulemana_finaldat = compile_dat('a62f8bf1', 'Kamaldeen-Sulemana', 'Kamaldeen_Sulemana', checkgames = True)\n",
    "if isinstance(sulemana_finaldat, pd.DataFrame):\n",
    "    sulemana_finaldat.to_csv(os.path.join(nest_folder, \"sulemana_finaldat.csv\"))"
   ]
  },
  {
   "cell_type": "markdown",
   "metadata": {},
   "source": [
    "Southampton Defenders"
   ]
  },
  {
   "cell_type": "code",
   "execution_count": 129,
   "metadata": {},
   "outputs": [],
   "source": [
    "walkerpeters_finaldat = compile_dat('984a5a64', 'Kyle-Walker-Peters', 'Walker-Peters', checkgames = True)\n",
    "if isinstance(walkerpeters_finaldat, pd.DataFrame):\n",
    "    walkerpeters_finaldat.to_csv(os.path.join(nest_folder_def, \"walkerpeters_finaldat.csv\"))\n"
   ]
  },
  {
   "cell_type": "code",
   "execution_count": 130,
   "metadata": {},
   "outputs": [],
   "source": [
    "bednarek_finaldat = compile_dat('4115ce4e', 'Jan-Bednarek', 'Jan_Bednarek', checkgames = True)\n",
    "if isinstance(bednarek_finaldat, pd.DataFrame):\n",
    "    bednarek_finaldat.to_csv(os.path.join(nest_folder_def, \"bednarek_finaldat.csv\"))"
   ]
  },
  {
   "cell_type": "code",
   "execution_count": 131,
   "metadata": {},
   "outputs": [],
   "source": [
    "jstephens_finaldat = compile_dat('6adbc307', 'Jack-Stephens', 'Jack_Stephens', checkgames = True)\n",
    "if isinstance(jstephens_finaldat, pd.DataFrame):\n",
    "    jstephens_finaldat.to_csv(os.path.join(nest_folder_def, \"jstephens_finaldat.csv\"))"
   ]
  },
  {
   "cell_type": "code",
   "execution_count": 132,
   "metadata": {},
   "outputs": [],
   "source": [
    "ctaylor_finaldat = compile_dat('cc2d7ad5', 'Charlie-Taylor', 'Charlie_Taylor', checkgames = True)\n",
    "if isinstance(ctaylor_finaldat, pd.DataFrame):\n",
    "    ctaylor_finaldat.to_csv(os.path.join(nest_folder_def, \"ctaylor_finaldat.csv\"))"
   ]
  },
  {
   "cell_type": "code",
   "execution_count": 133,
   "metadata": {},
   "outputs": [],
   "source": [
    "bellakotchap_finaldat = compile_dat('a39d11bc', 'Armel-Bella-Kotchap', 'Armel', checkgames = True)\n",
    "if isinstance(bellakotchap_finaldat, pd.DataFrame):\n",
    "    bellakotchap_finaldat.to_csv(os.path.join(nest_folder_def, \"bellakotchap_finaldat.csv\"))"
   ]
  },
  {
   "cell_type": "markdown",
   "metadata": {},
   "source": [
    "## Spurs"
   ]
  },
  {
   "cell_type": "code",
   "execution_count": 274,
   "metadata": {},
   "outputs": [],
   "source": [
    "solanke_finaldat = compile_dat('e77dc3b2', 'Dominic-Solanke', 'Dominic_Solanke', checkgames = True)\n",
    "if isinstance(solanke_finaldat, pd.DataFrame):\n",
    "    solanke_finaldat.to_csv(os.path.join(nest_folder, \"solanke_finaldat.csv\"))"
   ]
  },
  {
   "cell_type": "code",
   "execution_count": 275,
   "metadata": {},
   "outputs": [],
   "source": [
    "richarlison_finaldat = compile_dat('fa031b34', 'Richarlison', 'Richarlison', checkgames = True)\n",
    "if isinstance(richarlison_finaldat, pd.DataFrame):\n",
    "    richarlison_finaldat.to_csv(os.path.join(nest_folder, \"richarlison_finaldat.csv\"))"
   ]
  },
  {
   "cell_type": "code",
   "execution_count": 276,
   "metadata": {},
   "outputs": [],
   "source": [
    "son_finaldat = compile_dat('92e7e919', 'Son-Heung-min', 'Heung', checkgames = True)\n",
    "if isinstance(son_finaldat, pd.DataFrame):\n",
    "    son_finaldat.to_csv(os.path.join(nest_folder, \"son_finaldat.csv\"))"
   ]
  },
  {
   "cell_type": "code",
   "execution_count": 277,
   "metadata": {},
   "outputs": [],
   "source": [
    "maddison_finaldat = compile_dat('ee38d9c5', 'James-Maddison', 'James_Maddison', checkgames = True)\n",
    "if isinstance(maddison_finaldat, pd.DataFrame):\n",
    "    maddison_finaldat.to_csv(os.path.join(nest_folder, \"maddison_finaldat.csv\"))"
   ]
  },
  {
   "cell_type": "code",
   "execution_count": 278,
   "metadata": {},
   "outputs": [],
   "source": [
    "bissouma_finaldat = compile_dat('6c203af0', 'Yves-Bissouma', 'Yves_Bissouma', checkgames = True)\n",
    "if isinstance(bissouma_finaldat, pd.DataFrame):\n",
    "    bissouma_finaldat.to_csv(os.path.join(nest_folder, \"bissouma_finaldat.csv\"))"
   ]
  },
  {
   "cell_type": "code",
   "execution_count": 279,
   "metadata": {},
   "outputs": [],
   "source": [
    "bjohnson_finaldat = compile_dat('0cd31129', 'Brennan-Johnson', 'Brennan_Johnson', checkgames = True)\n",
    "if isinstance(bjohnson_finaldat, pd.DataFrame):\n",
    "    bjohnson_finaldat.to_csv(os.path.join(nest_folder, \"bjohnson_finaldat.csv\"))"
   ]
  },
  {
   "cell_type": "code",
   "execution_count": 280,
   "metadata": {},
   "outputs": [],
   "source": [
    "kulusevski_finaldat = compile_dat('df3cda47', 'Dejan-Kulusevski', 'Dejan_Kulusevski', checkgames = True)\n",
    "if isinstance(kulusevski_finaldat, pd.DataFrame):\n",
    "    kulusevski_finaldat.to_csv(os.path.join(nest_folder, \"kulusevski_finaldat.csv\"))"
   ]
  },
  {
   "cell_type": "code",
   "execution_count": 281,
   "metadata": {},
   "outputs": [],
   "source": [
    "odobert_finaldat = compile_dat('35516eac', 'Wilson-Odobert', 'Wilson_Odobert', checkgames = True)\n",
    "if isinstance(odobert_finaldat, pd.DataFrame):\n",
    "    odobert_finaldat.to_csv(os.path.join(nest_folder, \"odobert_finaldat.csv\"))"
   ]
  },
  {
   "cell_type": "code",
   "execution_count": 282,
   "metadata": {},
   "outputs": [],
   "source": [
    "pmsarr_finaldat = compile_dat('feb5d972', 'Pape-Matar-Sarr', 'Pape Matar', checkgames = True)\n",
    "if isinstance(pmsarr_finaldat, pd.DataFrame):\n",
    "    pmsarr_finaldat.to_csv(os.path.join(nest_folder, \"pmsarr_finaldat.csv\"))"
   ]
  },
  {
   "cell_type": "code",
   "execution_count": 283,
   "metadata": {},
   "outputs": [
    {
     "name": "stderr",
     "output_type": "stream",
     "text": [
      "/var/folders/dv/bjx4hkg54x17symh1g3_3jf80000gq/T/ipykernel_60248/3417702198.py:26: FutureWarning: The behavior of DataFrame concatenation with empty or all-NA entries is deprecated. In a future version, this will no longer exclude empty or all-NA columns when determining the result dtypes. To retain the old behavior, exclude the relevant entries before the concat operation.\n",
      "  finaldf = pd.concat(dataframes.values(), join = \"inner\", ignore_index = True)\n"
     ]
    }
   ],
   "source": [
    "werner_finaldat = compile_dat('49fe9070', 'Timo-Werner', 'Timo_Werner', checkgames = True)\n",
    "if isinstance(werner_finaldat, pd.DataFrame):\n",
    "    werner_finaldat.to_csv(os.path.join(nest_folder, \"werner_finaldat.csv\"))"
   ]
  },
  {
   "cell_type": "code",
   "execution_count": 284,
   "metadata": {},
   "outputs": [],
   "source": [
    "bentancur_finaldat = compile_dat('3b8674e6', 'Rodrigo=Bentacur', 'Rodrigo_Bentancur', checkgames = True)\n",
    "if isinstance(bentancur_finaldat, pd.DataFrame):\n",
    "    bentancur_finaldat.to_csv(os.path.join(nest_folder, \"bentancur_finaldat.csv\"))"
   ]
  },
  {
   "cell_type": "markdown",
   "metadata": {},
   "source": [
    "Spurs Defenders"
   ]
  },
  {
   "cell_type": "code",
   "execution_count": 134,
   "metadata": {},
   "outputs": [],
   "source": [
    "romero_finaldat = compile_dat('a3d94a58', 'Cristian-Romero', 'Cristian_Romero', checkgames = True)\n",
    "if isinstance(romero_finaldat, pd.DataFrame):\n",
    "    romero_finaldat.to_csv(os.path.join(nest_folder_def, \"romero_finaldat.csv\"))"
   ]
  },
  {
   "cell_type": "code",
   "execution_count": 135,
   "metadata": {},
   "outputs": [],
   "source": [
    "porro_finaldat = compile_dat('27d0a506', 'Pedro-Porro', 'Porro', checkgames = True)\n",
    "if isinstance(porro_finaldat, pd.DataFrame):\n",
    "    porro_finaldat.to_csv(os.path.join(nest_folder_def, \"porro_finaldat.csv\"))"
   ]
  },
  {
   "cell_type": "code",
   "execution_count": 136,
   "metadata": {},
   "outputs": [],
   "source": [
    "vandeven_finaldat = compile_dat('8fe2a392', 'Micky-van-de-Ven', 'Micky', checkgames = True)\n",
    "if isinstance(vandeven_finaldat, pd.DataFrame):\n",
    "    vandeven_finaldat.to_csv(os.path.join(nest_folder_def, \"vandeven_finaldat.csv\"))"
   ]
  },
  {
   "cell_type": "code",
   "execution_count": 137,
   "metadata": {},
   "outputs": [],
   "source": [
    "udogie_finaldat = compile_dat('7cd520e8', 'Destiny-Udogie', 'Destiny_Udogie', checkgames = True)\n",
    "if isinstance(udogie_finaldat, pd.DataFrame):\n",
    "    udogie_finaldat.to_csv(os.path.join(nest_folder_def, \"udogie_finaldat.csv\"))"
   ]
  },
  {
   "cell_type": "code",
   "execution_count": 138,
   "metadata": {},
   "outputs": [
    {
     "name": "stdout",
     "output_type": "stream",
     "text": [
      "The number of Premier League games played by Ben-Davies(171) does not match the number of rows in the dataframe (135)\n"
     ]
    }
   ],
   "source": [
    "bdavies_finaldat = compile_dat('44781702', 'Ben-Davies', 'Ben_Davies', checkgames = True)\n",
    "if isinstance(bdavies_finaldat, pd.DataFrame):\n",
    "    bdavies_finaldat.to_csv(os.path.join(nest_folder_def, \"bdavies_finaldat.csv\"))"
   ]
  },
  {
   "cell_type": "code",
   "execution_count": 139,
   "metadata": {},
   "outputs": [
    {
     "name": "stderr",
     "output_type": "stream",
     "text": [
      "/var/folders/dv/bjx4hkg54x17symh1g3_3jf80000gq/T/ipykernel_58690/3417702198.py:26: FutureWarning: The behavior of DataFrame concatenation with empty or all-NA entries is deprecated. In a future version, this will no longer exclude empty or all-NA columns when determining the result dtypes. To retain the old behavior, exclude the relevant entries before the concat operation.\n",
      "  finaldf = pd.concat(dataframes.values(), join = \"inner\", ignore_index = True)\n"
     ]
    }
   ],
   "source": [
    "reguilon_finaldat = compile_dat('3353737a', 'Sergio-Reguilon', 'Sergio_Regui', checkgames = True)\n",
    "if isinstance(reguilon_finaldat, pd.DataFrame):\n",
    "    reguilon_finaldat.to_csv(os.path.join(nest_folder_def, \"reguilon_finaldat.csv\"))"
   ]
  },
  {
   "cell_type": "markdown",
   "metadata": {},
   "source": [
    "## West Ham"
   ]
  },
  {
   "cell_type": "code",
   "execution_count": 285,
   "metadata": {},
   "outputs": [],
   "source": [
    "antonio_finaldat = compile_dat('ac05f970', 'Michail-Antonio', 'Michail_Antonio', checkgames = True)\n",
    "if isinstance(antonio_finaldat, pd.DataFrame):\n",
    "    antonio_finaldat.to_csv(os.path.join(nest_folder, \"antonio_finaldat.csv\"))"
   ]
  },
  {
   "cell_type": "code",
   "execution_count": 286,
   "metadata": {},
   "outputs": [],
   "source": [
    "ings_finaldat = compile_dat('07802f7f', 'Danny-Ings', 'Danny_Ings', checkgames = True)\n",
    "if isinstance(ings_finaldat, pd.DataFrame):\n",
    "    ings_finaldat.to_csv(os.path.join(nest_folder, \"ings_finaldat.csv\"))"
   ]
  },
  {
   "cell_type": "code",
   "execution_count": 287,
   "metadata": {},
   "outputs": [],
   "source": [
    "bowen_finaldat = compile_dat('79c84d1c', 'Jarrod-Bowen', 'Jarrod_Bowen', checkgames = True)\n",
    "if isinstance(bowen_finaldat, pd.DataFrame):\n",
    "    bowen_finaldat.to_csv(os.path.join(nest_folder, \"bowen_finaldat.csv\"))"
   ]
  },
  {
   "cell_type": "code",
   "execution_count": 288,
   "metadata": {},
   "outputs": [],
   "source": [
    "soucek_finaldat = compile_dat('6613c819', 'Tomas-Soucek', 'Tomas_Soucek', checkgames = False)\n",
    "if isinstance(soucek_finaldat, pd.DataFrame):\n",
    "    soucek_finaldat.to_csv(os.path.join(nest_folder, \"soucek_finaldat.csv\"))"
   ]
  },
  {
   "cell_type": "code",
   "execution_count": 289,
   "metadata": {},
   "outputs": [],
   "source": [
    "paqueta_finaldat = compile_dat('9b6f7fd5', 'Lucas-Paqueta', 'Lucas_Tolentino', checkgames = True)\n",
    "if isinstance(paqueta_finaldat, pd.DataFrame):\n",
    "    paqueta_finaldat.to_csv(os.path.join(nest_folder, \"paqueta_finaldat.csv\"))"
   ]
  },
  {
   "cell_type": "code",
   "execution_count": 290,
   "metadata": {},
   "outputs": [],
   "source": [
    "kudus_finaldat = compile_dat('b62878a5', 'Mohammed-Kudus', 'Mohammed_Kudus', checkgames = True)\n",
    "if isinstance(kudus_finaldat, pd.DataFrame):\n",
    "    kudus_finaldat.to_csv(os.path.join(nest_folder, \"kudus_finaldat.csv\"))"
   ]
  },
  {
   "cell_type": "code",
   "execution_count": 291,
   "metadata": {},
   "outputs": [],
   "source": [
    "edsonalvarez_finaldat = compile_dat('8b3ab7ad', 'Edson-Alvarez', 'Edson', checkgames = True)\n",
    "if isinstance(edsonalvarez_finaldat, pd.DataFrame):\n",
    "    edsonalvarez_finaldat.to_csv(os.path.join(nest_folder, \"edsonalvarez_finaldat.csv\"))"
   ]
  },
  {
   "cell_type": "code",
   "execution_count": 292,
   "metadata": {},
   "outputs": [],
   "source": [
    "summerville_finaldat = compile_dat('df04eb4b', 'Crysencio-Summerville', 'Crysencio_Summerville', checkgames = True)\n",
    "if isinstance(summerville_finaldat, pd.DataFrame):\n",
    "    summerville_finaldat.to_csv(os.path.join(nest_folder, \"summerville_finaldat.csv\"))"
   ]
  },
  {
   "cell_type": "markdown",
   "metadata": {},
   "source": [
    "West Ham Defenders"
   ]
  },
  {
   "cell_type": "code",
   "execution_count": 146,
   "metadata": {},
   "outputs": [],
   "source": [
    "kilman_finaldat = compile_dat('d0f72bf1', 'Max-Kilman', 'Max_Kilman', checkgames = True)\n",
    "if isinstance(kilman_finaldat, pd.DataFrame):\n",
    "    kilman_finaldat.to_csv(os.path.join(nest_folder_def, \"kilman_finaldat.csv\"))"
   ]
  },
  {
   "cell_type": "code",
   "execution_count": 147,
   "metadata": {},
   "outputs": [
    {
     "name": "stderr",
     "output_type": "stream",
     "text": [
      "/var/folders/dv/bjx4hkg54x17symh1g3_3jf80000gq/T/ipykernel_58690/3417702198.py:26: FutureWarning: The behavior of DataFrame concatenation with empty or all-NA entries is deprecated. In a future version, this will no longer exclude empty or all-NA columns when determining the result dtypes. To retain the old behavior, exclude the relevant entries before the concat operation.\n",
      "  finaldf = pd.concat(dataframes.values(), join = \"inner\", ignore_index = True)\n"
     ]
    }
   ],
   "source": [
    "mavropanos_finaldat = compile_dat('00963611', 'Konstantinos-Mavropanos', 'Mavropanos', checkgames = True)\n",
    "if isinstance(mavropanos_finaldat, pd.DataFrame):\n",
    "    mavropanos_finaldat.to_csv(os.path.join(nest_folder_def, \"mavropanos_finaldat.csv\"))"
   ]
  },
  {
   "cell_type": "code",
   "execution_count": 148,
   "metadata": {},
   "outputs": [],
   "source": [
    "coufal_finaldat = compile_dat('fdf3cb77', 'Vladimir-Coufal', 'Coufal', checkgames = True)\n",
    "if isinstance(coufal_finaldat, pd.DataFrame):\n",
    "    coufal_finaldat.to_csv(os.path.join(nest_folder_def, \"coufal_finaldat.csv\"))"
   ]
  },
  {
   "cell_type": "code",
   "execution_count": 149,
   "metadata": {},
   "outputs": [],
   "source": [
    "emerson_finaldat = compile_dat('e0bc6fdc', 'Emerson-Palmieri', 'Palmieri', checkgames = True)\n",
    "if isinstance(emerson_finaldat, pd.DataFrame):\n",
    "    emerson_finaldat.to_csv(os.path.join(nest_folder_def, \"emerson_finaldat.csv\"))"
   ]
  },
  {
   "cell_type": "code",
   "execution_count": 150,
   "metadata": {},
   "outputs": [],
   "source": [
    "awb_finaldat = compile_dat('9e525177', 'Aaron-Wan-Bissaka', 'Bissaka', checkgames = True)\n",
    "if isinstance(awb_finaldat, pd.DataFrame):\n",
    "    awb_finaldat.to_csv(os.path.join(nest_folder_def, \"awb_finaldat.csv\"))"
   ]
  },
  {
   "cell_type": "code",
   "execution_count": 151,
   "metadata": {},
   "outputs": [],
   "source": [
    "cresswell_finaldat = compile_dat('4f974391', 'Aaron-Cresswell', 'Aaron_Cresswell', checkgames = True)\n",
    "if isinstance(cresswell_finaldat, pd.DataFrame):\n",
    "    cresswell_finaldat.to_csv(os.path.join(nest_folder_def, \"cresswell_finaldat.csv\"))"
   ]
  },
  {
   "cell_type": "markdown",
   "metadata": {},
   "source": [
    "## Wolves"
   ]
  },
  {
   "cell_type": "code",
   "execution_count": 293,
   "metadata": {},
   "outputs": [],
   "source": [
    "cunha_finaldat = compile_dat('dc62b55d', 'Matheus-Cunha', 'Matheus_Santos Carneiro', checkgames = True)\n",
    "if isinstance(cunha_finaldat, pd.DataFrame):\n",
    "    cunha_finaldat.to_csv(os.path.join(nest_folder, \"cunha_finaldat.csv\"))"
   ]
  },
  {
   "cell_type": "code",
   "execution_count": 294,
   "metadata": {},
   "outputs": [],
   "source": [
    "bellegarde_finaldat = compile_dat('10f0fdd3', 'Jean-Ricner-Bellegarde', 'Bellegarde', checkgames = True)\n",
    "if isinstance(bellegarde_finaldat, pd.DataFrame):\n",
    "    bellegarde_finaldat.to_csv(os.path.join(nest_folder, \"bellegarde_finaldat.csv\"))"
   ]
  },
  {
   "cell_type": "code",
   "execution_count": 295,
   "metadata": {},
   "outputs": [
    {
     "name": "stderr",
     "output_type": "stream",
     "text": [
      "/var/folders/dv/bjx4hkg54x17symh1g3_3jf80000gq/T/ipykernel_60248/3417702198.py:26: FutureWarning: The behavior of DataFrame concatenation with empty or all-NA entries is deprecated. In a future version, this will no longer exclude empty or all-NA columns when determining the result dtypes. To retain the old behavior, exclude the relevant entries before the concat operation.\n",
      "  finaldf = pd.concat(dataframes.values(), join = \"inner\", ignore_index = True)\n"
     ]
    }
   ],
   "source": [
    "lemina_finaldat = compile_dat('2b471f99', 'Mario-Lemina', 'Mario_Lemina', checkgames = True)\n",
    "if isinstance(lemina_finaldat, pd.DataFrame):\n",
    "    lemina_finaldat.to_csv(os.path.join(nest_folder, \"lemina_finaldat.csv\"))"
   ]
  },
  {
   "cell_type": "code",
   "execution_count": 296,
   "metadata": {},
   "outputs": [],
   "source": [
    "heechan_finaldat = compile_dat('169fd162', 'Hwang-Hee-chan', 'Hwang', checkgames = True)\n",
    "if isinstance(heechan_finaldat, pd.DataFrame):\n",
    "    heechan_finaldat.to_csv(os.path.join(nest_folder, \"heechan_finaldat.csv\"))"
   ]
  },
  {
   "cell_type": "code",
   "execution_count": 297,
   "metadata": {},
   "outputs": [],
   "source": [
    "jgomes_finaldat = compile_dat('8b57ad2c', 'Joao-Gomes', 'Victor_Gomes', checkgames = True)\n",
    "if isinstance(jgomes_finaldat, pd.DataFrame):\n",
    "    jgomes_finaldat.to_csv(os.path.join(nest_folder, \"jgomes_finaldat.csv\"))"
   ]
  },
  {
   "cell_type": "code",
   "execution_count": 298,
   "metadata": {},
   "outputs": [],
   "source": [
    "doyle_finaldat = compile_dat('5526deb1', 'Tommy-Doyle', 'Tommy_Doyle', checkgames = True)\n",
    "if isinstance(doyle_finaldat, pd.DataFrame):\n",
    "    doyle_finaldat.to_csv(os.path.join(nest_folder, \"doyle_finaldat.csv\"))"
   ]
  },
  {
   "cell_type": "code",
   "execution_count": 299,
   "metadata": {},
   "outputs": [],
   "source": [
    "sarabia_finaldat = compile_dat('9744ff80', 'Pablo-Sarabia', 'Pablo_Sarabia', checkgames = True)\n",
    "if isinstance(sarabia_finaldat, pd.DataFrame):\n",
    "    sarabia_finaldat.to_csv(os.path.join(nest_folder, \"sarabia_finaldat.csv\"))"
   ]
  },
  {
   "cell_type": "code",
   "execution_count": 300,
   "metadata": {},
   "outputs": [
    {
     "name": "stderr",
     "output_type": "stream",
     "text": [
      "/var/folders/dv/bjx4hkg54x17symh1g3_3jf80000gq/T/ipykernel_60248/3417702198.py:26: FutureWarning: The behavior of DataFrame concatenation with empty or all-NA entries is deprecated. In a future version, this will no longer exclude empty or all-NA columns when determining the result dtypes. To retain the old behavior, exclude the relevant entries before the concat operation.\n",
      "  finaldf = pd.concat(dataframes.values(), join = \"inner\", ignore_index = True)\n"
     ]
    }
   ],
   "source": [
    "guedes_finaldat = compile_dat('e6bc67d7', 'Goncalo-Guedes', 'Ganchinho', checkgames = True)\n",
    "if isinstance(guedes_finaldat, pd.DataFrame):\n",
    "    guedes_finaldat.to_csv(os.path.join(nest_folder, \"guedes_finaldat.csv\"))"
   ]
  },
  {
   "cell_type": "markdown",
   "metadata": {},
   "source": [
    "Wolves Defenders"
   ]
  },
  {
   "cell_type": "code",
   "execution_count": 152,
   "metadata": {},
   "outputs": [],
   "source": [
    "aitnouri_finaldat = compile_dat('9b398aea', 'Rayan-Ait-Nouri', 'Rayan', checkgames = True)\n",
    "if isinstance(aitnouri_finaldat, pd.DataFrame):\n",
    "    aitnouri_finaldat.to_csv(os.path.join(nest_folder_def, \"aitnouri_finaldat.csv\"))"
   ]
  },
  {
   "cell_type": "code",
   "execution_count": 153,
   "metadata": {},
   "outputs": [],
   "source": [
    "dawson_finaldat = compile_dat('3e9e06cb', 'Craig-Dawson', 'Craig_Dawson', checkgames = True)\n",
    "if isinstance(dawson_finaldat, pd.DataFrame):\n",
    "    dawson_finaldat.to_csv(os.path.join(nest_folder_def, \"dawson_finaldat.csv\"))"
   ]
  },
  {
   "cell_type": "code",
   "execution_count": 154,
   "metadata": {},
   "outputs": [],
   "source": [
    "toti_finaldat = compile_dat('f0caab96', 'Toti-Gomes', 'Toti', checkgames = True)\n",
    "if isinstance(toti_finaldat, pd.DataFrame):\n",
    "    toti_finaldat.to_csv(os.path.join(nest_folder_def, \"toti_finaldat.csv\"))"
   ]
  },
  {
   "cell_type": "code",
   "execution_count": 155,
   "metadata": {},
   "outputs": [],
   "source": [
    "semedo_finaldat = compile_dat('d04b94db', 'Nelson-Semedo', 'Semedo', checkgames = True)\n",
    "if isinstance(semedo_finaldat, pd.DataFrame):\n",
    "    semedo_finaldat.to_csv(os.path.join(nest_folder_def, \"semedo_finaldat.csv\"))"
   ]
  },
  {
   "cell_type": "code",
   "execution_count": 156,
   "metadata": {},
   "outputs": [],
   "source": [
    "mdoherty_finaldat = compile_dat('d557d734', 'Matt-Doherty', 'Matt_Doherty', checkgames = True)\n",
    "if isinstance(mdoherty_finaldat, pd.DataFrame):\n",
    "    mdoherty_finaldat.to_csv(os.path.join(nest_folder_def, \"mdoherty_finaldat.csv\"))"
   ]
  }
 ],
 "metadata": {
  "kernelspec": {
   "display_name": "myenv",
   "language": "python",
   "name": "python3"
  },
  "language_info": {
   "codemirror_mode": {
    "name": "ipython",
    "version": 3
   },
   "file_extension": ".py",
   "mimetype": "text/x-python",
   "name": "python",
   "nbconvert_exporter": "python",
   "pygments_lexer": "ipython3",
   "version": "3.10.13"
  }
 },
 "nbformat": 4,
 "nbformat_minor": 2
}
