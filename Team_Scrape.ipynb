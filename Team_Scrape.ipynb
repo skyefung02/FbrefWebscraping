{
 "cells": [
  {
   "cell_type": "markdown",
   "metadata": {},
   "source": [
    "# Team Data Scrape"
   ]
  },
  {
   "cell_type": "markdown",
   "metadata": {},
   "source": [
    "We now scrape for team data"
   ]
  },
  {
   "cell_type": "code",
   "execution_count": 39,
   "metadata": {},
   "outputs": [],
   "source": [
    "from bs4 import BeautifulSoup\n",
    "import requests\n",
    "import pandas as pd \n",
    "import os\n",
    "import time"
   ]
  },
  {
   "cell_type": "code",
   "execution_count": 28,
   "metadata": {},
   "outputs": [],
   "source": [
    "def get_url_final(code, year_range, team):\n",
    "    base_url = 'https://fbref.com/en/squads/{}/{}/matchlogs/c9/schedule/{}-Scores-and-Fixtures-Premier-League'\n",
    "    url = base_url.format(code, year_range, team)\n",
    "    html = requests.get(url).text\n",
    "    soup = BeautifulSoup(html, 'lxml')\n",
    "    html_filtered = soup.find('tbody')\n",
    "    return(html_filtered)"
   ]
  },
  {
   "cell_type": "code",
   "execution_count": 7,
   "metadata": {},
   "outputs": [],
   "source": [
    "#updated functions\n",
    "def get_dat(dat, col):\n",
    "    coldat = []\n",
    "    for row in dat.find_all('tr'):\n",
    "        if not row.attrs:\n",
    "            coldat.append(row.find('td', {'data-stat': col}).text)\n",
    "    return (coldat)   \n",
    "\n",
    "def get_date(dat, col):\n",
    "    coldat = []\n",
    "    for row in dat.find_all('tr'):\n",
    "        if not row.attrs:\n",
    "            coldat.append(row.find('th', {'data-stat': col}).text)\n",
    "    return (coldat)   \n",
    "\n",
    "def get_matchweek(dat, col):\n",
    "    coldat = []\n",
    "    for row in dat.find_all('tr'):\n",
    "        if not row.attrs:\n",
    "            coldat.append(row.find('td', {'data-stat': col}).text)\n",
    "    coldat = [coldat.replace('Matchweek ', '') for coldat in coldat]\n",
    "    return(coldat)"
   ]
  },
  {
   "cell_type": "code",
   "execution_count": 29,
   "metadata": {},
   "outputs": [],
   "source": [
    "def get_data(code, year_range, team):\n",
    "    \n",
    "    data_summary = get_url_final(code, year_range, team)\n",
    "    \n",
    "    date = get_date(data_summary, 'date')\n",
    "    time = get_dat(data_summary,'start_time')\n",
    "    matchweek = get_matchweek(data_summary, 'round')\n",
    "    day = get_dat(data_summary, 'dayofweek')\n",
    "    venue = get_dat(data_summary, 'venue')\n",
    "    result = get_dat(data_summary, 'result')\n",
    "    gf = get_dat(data_summary, 'goals_for')\n",
    "    ga = get_dat(data_summary, 'goals_against')\n",
    "    opponent = get_dat(data_summary, 'opponent')\n",
    "    xG = get_dat(data_summary, 'xg_for')\n",
    "    xGA = get_dat(data_summary, 'xg_against')\n",
    "    possession = get_dat(data_summary, 'possession')\n",
    "    attendance = get_dat(data_summary, 'attendance')\n",
    "    captain = get_dat(data_summary, 'captain')\n",
    "    formation = get_dat(data_summary, 'formation')\n",
    "    opp_formation = get_dat(data_summary, 'opp_formation')\n",
    "    referee = get_dat(data_summary, 'referee')\n",
    "    \n",
    "    #create dataframe\n",
    "    df = pd.DataFrame({\n",
    "        'Date': date, \n",
    "        'Time': time, \n",
    "        'Matchweek': matchweek, \n",
    "        'Day': day, \n",
    "        'Venue': venue, \n",
    "        'Result': result, \n",
    "        'Goals Scored': gf, \n",
    "        'Goals Conceded': ga, \n",
    "        'Opponent': opponent, \n",
    "        'xG': xG, \n",
    "        'xGA': xGA, \n",
    "        'Possession': possession, \n",
    "        'Attendance': attendance, \n",
    "        'Captain': captain, \n",
    "        'Formation': formation, \n",
    "        'Opposition Formation': opp_formation, \n",
    "        'Referee': referee\n",
    "    })\n",
    "    return (df)\n",
    "    "
   ]
  },
  {
   "cell_type": "code",
   "execution_count": 34,
   "metadata": {},
   "outputs": [],
   "source": [
    "test = get_data('822bd0ba', '2023-2024', 'Liverpool')"
   ]
  },
  {
   "cell_type": "markdown",
   "metadata": {},
   "source": [
    "Now we make compile dat function, so we can get the data for all teams in one swoop. "
   ]
  },
  {
   "cell_type": "code",
   "execution_count": 55,
   "metadata": {},
   "outputs": [],
   "source": [
    "def compile_dat (code, team):\n",
    "    #these are the seasons for which we have data \n",
    "    year_list = ('2023-2024', '2022-2023', '2021-2022', '2020-2021', '2019-2020', '2018-2019', '2017-2018')\n",
    "    \n",
    "    #create an empty dictionary to store all of the dataframes \n",
    "    dataframes = {}\n",
    "    \n",
    "    #for each season a player was active, the get_data function from above is used to add the data for that season to the dataframes dictionary\n",
    "    for year in year_list: \n",
    "        if get_url_final(code, year, team) is None:\n",
    "            continue\n",
    "        else:   \n",
    "            dataframes[year] = get_data(code, year, team)\n",
    "            #1 minute pause in between each iteration, to ensure that we don't get banned from FBref\n",
    "            time.sleep(60)\n",
    "    \n",
    "    #concatenate all of the dataframes, and return one final concatenated dataframe\n",
    "    finaldf = pd.concat(dataframes.values(), join = \"inner\", ignore_index = True)\n",
    "    return(finaldf)"
   ]
  },
  {
   "cell_type": "code",
   "execution_count": 40,
   "metadata": {},
   "outputs": [],
   "source": [
    "liverpool_teamdat = compile_dat('822bd0ba', 'Liverpool')"
   ]
  },
  {
   "cell_type": "markdown",
   "metadata": {},
   "source": [
    "So the code above works to get data for teams that have been in the league from 2017 until 2024. However, it won't work if we want to get data for teams that have only been in the league for some of the seasons that we have data for. Because of this, we need to build this into the code. "
   ]
  },
  {
   "cell_type": "code",
   "execution_count": 56,
   "metadata": {},
   "outputs": [],
   "source": [
    "#we have edited the complie_dat function to include a conditional that checks whether or not the url is None (it will be None if the team wasn't \n",
    "# in the premier league in for that particular season). we will check whether or not this worked by getting data for Nottingham Forest (who were\n",
    "# not in the league for all 7 seasons)\n",
    "\n",
    "nfo_teamdat = compile_dat('e4a775cb', 'Nottingham Forest')"
   ]
  },
  {
   "cell_type": "code",
   "execution_count": null,
   "metadata": {},
   "outputs": [],
   "source": [
    "#we see that the code above worked. we now need to make a folder to store these csv files \n",
    "\n",
    "nest_folder_team = (\"Team_Data\")\n",
    "os.makedirs(nest_folder_team, exist_ok = True)\n",
    "\n",
    "if isinstance(liverpool_teamdat, pd.DataFrame):\n",
    "    liverpool_teamdat.to_csv(os.path.join(nest_folder_team, \"liverpool_teamdat.csv\"))\n",
    "    \n",
    "if isinstance(nfo_teamdat, pd.DataFrame):\n",
    "    nfo_teamdat.to_csv(os.path.join(nest_folder_team, \"nfo_teamdat.csv\"))"
   ]
  },
  {
   "cell_type": "code",
   "execution_count": 61,
   "metadata": {},
   "outputs": [],
   "source": [
    "arsenal_teamdat = compile_dat('18bb7c10', 'Arsenal')\n",
    "if isinstance(arsenal_teamdat, pd.DataFrame):\n",
    "    arsenal_teamdat.to_csv(os.path.join(nest_folder_team, \"arsenal_teamdat.csv\"))"
   ]
  },
  {
   "cell_type": "code",
   "execution_count": 62,
   "metadata": {},
   "outputs": [],
   "source": [
    "astonvilla_teamdat = compile_dat('8602292d', 'Aston Villa')\n",
    "if isinstance(astonvilla_teamdat, pd.DataFrame):\n",
    "    astonvilla_teamdat.to_csv(os.path.join(nest_folder_team, \"astonvilla_teamdat.csv\"))"
   ]
  },
  {
   "cell_type": "code",
   "execution_count": 63,
   "metadata": {},
   "outputs": [],
   "source": [
    "bournemouth_teamdat = compile_dat('4ba7cbea', 'Bournemouth')\n",
    "if isinstance(bournemouth_teamdat, pd.DataFrame):\n",
    "    bournemouth_teamdat.to_csv(os.path.join(nest_folder_team, \"bournemouth_teamdat.csv\"))"
   ]
  },
  {
   "cell_type": "code",
   "execution_count": 64,
   "metadata": {},
   "outputs": [],
   "source": [
    "bha_teamdat = compile_dat('d07537b9', 'Brighton and Hove Albion')\n",
    "if isinstance(bha_teamdat, pd.DataFrame):\n",
    "    bha_teamdat.to_csv(os.path.join(nest_folder_team, \"bha_teamdat.csv\"))"
   ]
  },
  {
   "cell_type": "code",
   "execution_count": 65,
   "metadata": {},
   "outputs": [],
   "source": [
    "burnley_teamdat = compile_dat('943e8050', 'Burnley')\n",
    "if isinstance(burnley_teamdat, pd.DataFrame):\n",
    "    burnley_teamdat.to_csv(os.path.join(nest_folder_team, \"burnley_teamdat.csv\"))"
   ]
  },
  {
   "cell_type": "code",
   "execution_count": 66,
   "metadata": {},
   "outputs": [],
   "source": [
    "chelsea_teamdat = compile_dat('cff3d9bb', 'Chelsea')\n",
    "if isinstance(chelsea_teamdat, pd.DataFrame):\n",
    "    chelsea_teamdat.to_csv(os.path.join(nest_folder_team, \"chelsea_teamdat.csv\"))"
   ]
  },
  {
   "cell_type": "code",
   "execution_count": 67,
   "metadata": {},
   "outputs": [],
   "source": [
    "cpa_teamdat = compile_dat('47c64c55', 'Crystal Palace')\n",
    "if isinstance(cpa_teamdat, pd.DataFrame):\n",
    "    cpa_teamdat.to_csv(os.path.join(nest_folder_team, \"cpa_teamdat.csv\"))"
   ]
  },
  {
   "cell_type": "code",
   "execution_count": 68,
   "metadata": {},
   "outputs": [],
   "source": [
    "everton_teamdat = compile_dat('d3fd31cc', 'Everton')\n",
    "if isinstance(everton_teamdat, pd.DataFrame):\n",
    "    everton_teamdat.to_csv(os.path.join(nest_folder_team, \"everton_teamdat.csv\"))"
   ]
  },
  {
   "cell_type": "code",
   "execution_count": 69,
   "metadata": {},
   "outputs": [],
   "source": [
    "huddersfield_teamdat = compile_dat('f5922ca5', 'Huddersfield Town')\n",
    "if isinstance(huddersfield_teamdat, pd.DataFrame):\n",
    "    huddersfield_teamdat.to_csv(os.path.join(nest_folder_team, \"huddersfield_teamdat.csv\"))"
   ]
  },
  {
   "cell_type": "code",
   "execution_count": 70,
   "metadata": {},
   "outputs": [],
   "source": [
    "leicester_teamdat = compile_dat('a2d435b3', 'Leicester City')\n",
    "if isinstance(leicester_teamdat, pd.DataFrame):\n",
    "    leicester_teamdat.to_csv(os.path.join(nest_folder_team, \"leicester_teamdat.csv\"))"
   ]
  },
  {
   "cell_type": "code",
   "execution_count": 71,
   "metadata": {},
   "outputs": [],
   "source": [
    "mancity_teamdat = compile_dat('b8fd03ef', 'Manchester City')\n",
    "if isinstance(mancity_teamdat, pd.DataFrame):\n",
    "    mancity_teamdat.to_csv(os.path.join(nest_folder_team, \"mancity_teamdat.csv\"))"
   ]
  },
  {
   "cell_type": "code",
   "execution_count": 72,
   "metadata": {},
   "outputs": [],
   "source": [
    "manunited_teamdat = compile_dat('19538871', 'Manchester United')\n",
    "if isinstance(manunited_teamdat, pd.DataFrame):\n",
    "    manunited_teamdat.to_csv(os.path.join(nest_folder_team, \"manunited_teamdat.csv\"))"
   ]
  },
  {
   "cell_type": "code",
   "execution_count": 73,
   "metadata": {},
   "outputs": [],
   "source": [
    "newcastle_teamdat = compile_dat('b2b47a98', 'Newcastle United')\n",
    "if isinstance(newcastle_teamdat, pd.DataFrame):\n",
    "    newcastle_teamdat.to_csv(os.path.join(nest_folder_team, \"newcastle_teamdat.csv\"))"
   ]
  },
  {
   "cell_type": "code",
   "execution_count": 74,
   "metadata": {},
   "outputs": [],
   "source": [
    "southampton_teamdat = compile_dat('33c895d4', 'Southampton')\n",
    "if isinstance(southampton_teamdat, pd.DataFrame):\n",
    "    southampton_teamdat.to_csv(os.path.join(nest_folder_team, \"southampton_teamdat.csv\"))"
   ]
  },
  {
   "cell_type": "code",
   "execution_count": 75,
   "metadata": {},
   "outputs": [],
   "source": [
    "stoke_teamdat = compile_dat('17892952', 'Stoke City')\n",
    "if isinstance(stoke_teamdat, pd.DataFrame):\n",
    "    stoke_teamdat.to_csv(os.path.join(nest_folder_team, \"stoke_teamdat.csv\"))"
   ]
  },
  {
   "cell_type": "code",
   "execution_count": 76,
   "metadata": {},
   "outputs": [],
   "source": [
    "swansea_teamdat = compile_dat('fb10988f', 'Swansea City')\n",
    "if isinstance(swansea_teamdat, pd.DataFrame):\n",
    "    swansea_teamdat.to_csv(os.path.join(nest_folder_team, \"swansea_teamdat.csv\"))"
   ]
  },
  {
   "cell_type": "code",
   "execution_count": 77,
   "metadata": {},
   "outputs": [],
   "source": [
    "spurs_teamdat = compile_dat('361ca564', 'Tottenham Hotspur')\n",
    "if isinstance(spurs_teamdat, pd.DataFrame):\n",
    "    spurs_teamdat.to_csv(os.path.join(nest_folder_team, \"spurs_teamdat.csv\"))"
   ]
  },
  {
   "cell_type": "code",
   "execution_count": 78,
   "metadata": {},
   "outputs": [],
   "source": [
    "watford_teamdat = compile_dat('2abfe087', 'Watford')\n",
    "if isinstance(watford_teamdat, pd.DataFrame):\n",
    "    watford_teamdat.to_csv(os.path.join(nest_folder_team, \"watford_teamdat.csv\"))"
   ]
  },
  {
   "cell_type": "code",
   "execution_count": 79,
   "metadata": {},
   "outputs": [],
   "source": [
    "westbrom_teamdat = compile_dat('60c6b05f', 'West Bromwich Albion')\n",
    "if isinstance(westbrom_teamdat, pd.DataFrame):\n",
    "    westbrom_teamdat.to_csv(os.path.join(nest_folder_team, \"westbrom_teamdat.csv\"))"
   ]
  },
  {
   "cell_type": "code",
   "execution_count": 80,
   "metadata": {},
   "outputs": [],
   "source": [
    "westham_teamdat = compile_dat('7c21e445', 'West Ham United')\n",
    "if isinstance(westham_teamdat, pd.DataFrame):\n",
    "    westham_teamdat.to_csv(os.path.join(nest_folder_team, \"westham_teamdat.csv\"))"
   ]
  },
  {
   "cell_type": "code",
   "execution_count": 81,
   "metadata": {},
   "outputs": [],
   "source": [
    "wolves_teamdat = compile_dat('8cec06e1', 'Wolverhampton Wanderers')\n",
    "if isinstance(wolves_teamdat, pd.DataFrame):\n",
    "    wolves_teamdat.to_csv(os.path.join(nest_folder_team, \"wolves_teamdat.csv\"))"
   ]
  },
  {
   "cell_type": "code",
   "execution_count": 82,
   "metadata": {},
   "outputs": [],
   "source": [
    "fulham_teamdat = compile_dat('fd962109', 'Fulham')\n",
    "if isinstance(fulham_teamdat, pd.DataFrame):\n",
    "    fulham_teamdat.to_csv(os.path.join(nest_folder_team, \"fulham_teamdat.csv\"))"
   ]
  },
  {
   "cell_type": "code",
   "execution_count": 83,
   "metadata": {},
   "outputs": [],
   "source": [
    "cardiff_teamdat = compile_dat('75fae011', 'Cardiff-City')\n",
    "if isinstance(cardiff_teamdat, pd.DataFrame):\n",
    "    cardiff_teamdat.to_csv(os.path.join(nest_folder_team, \"cardiff_teamdat.csv\"))"
   ]
  },
  {
   "cell_type": "code",
   "execution_count": 84,
   "metadata": {},
   "outputs": [],
   "source": [
    "norwich_teamdat = compile_dat('1c781004', 'Norwich City')\n",
    "if isinstance(norwich_teamdat, pd.DataFrame):\n",
    "    norwich_teamdat.to_csv(os.path.join(nest_folder_team, \"norwich_teamdat.csv\"))"
   ]
  },
  {
   "cell_type": "code",
   "execution_count": 85,
   "metadata": {},
   "outputs": [],
   "source": [
    "sheffield_teamdat = compile_dat('1df6b87e', 'Sheffield United')\n",
    "if isinstance(sheffield_teamdat, pd.DataFrame):\n",
    "    sheffield_teamdat.to_csv(os.path.join(nest_folder_team, \"sheffield_teamdat.csv\"))"
   ]
  },
  {
   "cell_type": "code",
   "execution_count": 86,
   "metadata": {},
   "outputs": [],
   "source": [
    "leeds_teamdat = compile_dat('5bfb9659', 'Leeds United')\n",
    "if isinstance(leeds_teamdat, pd.DataFrame):\n",
    "    leeds_teamdat.to_csv(os.path.join(nest_folder_team, \"leeds_teamdat.csv\"))"
   ]
  },
  {
   "cell_type": "code",
   "execution_count": 88,
   "metadata": {},
   "outputs": [],
   "source": [
    "brentford_teamdat = compile_dat('cd051869', 'Brentford')\n",
    "if isinstance(brentford_teamdat, pd.DataFrame):\n",
    "    brentford_teamdat.to_csv(os.path.join(nest_folder_team, \"brentford_teamdat.csv\"))"
   ]
  },
  {
   "cell_type": "code",
   "execution_count": 89,
   "metadata": {},
   "outputs": [],
   "source": [
    "luton_teamdat = compile_dat('e297cd13', 'Luton Town')\n",
    "if isinstance(luton_teamdat, pd.DataFrame):\n",
    "    luton_teamdat.to_csv(os.path.join(nest_folder_team, \"luton_teamdat.csv\"))"
   ]
  },
  {
   "cell_type": "markdown",
   "metadata": {},
   "source": [
    "Now, we need to compile all of the csv files into one"
   ]
  },
  {
   "cell_type": "code",
   "execution_count": 90,
   "metadata": {},
   "outputs": [],
   "source": [
    "team_path = 'Team_Data'\n",
    "\n",
    "team_dataframe = []\n",
    "\n",
    "if os.path.exists(team_path):\n",
    "    for file in os.listdir(team_path):\n",
    "        if file.endswith('.csv'):\n",
    "            file_path = os.path.join(team_path, file)\n",
    "            df = pd.read_csv(file_path)\n",
    "            team_dataframe.append(df) #append dataframe to final df\n",
    "            \n",
    "    final_df = pd.concat(team_dataframe, ignore_index=\n",
    "                         True)\n",
    "\n",
    "final_df.to_csv(os.path.join(\"\", \"team_finaldat.csv\"))"
   ]
  },
  {
   "cell_type": "code",
   "execution_count": 101,
   "metadata": {},
   "outputs": [],
   "source": [
    "#now we load in team_finaldat \n",
    "team_finaldat = df = pd.read_csv('team_finaldat.csv', index_col = 0)"
   ]
  },
  {
   "cell_type": "code",
   "execution_count": 102,
   "metadata": {},
   "outputs": [
    {
     "data": {
      "text/html": [
       "<div>\n",
       "<style scoped>\n",
       "    .dataframe tbody tr th:only-of-type {\n",
       "        vertical-align: middle;\n",
       "    }\n",
       "\n",
       "    .dataframe tbody tr th {\n",
       "        vertical-align: top;\n",
       "    }\n",
       "\n",
       "    .dataframe thead th {\n",
       "        text-align: right;\n",
       "    }\n",
       "</style>\n",
       "<table border=\"1\" class=\"dataframe\">\n",
       "  <thead>\n",
       "    <tr style=\"text-align: right;\">\n",
       "      <th></th>\n",
       "      <th>Unnamed: 0</th>\n",
       "      <th>Date</th>\n",
       "      <th>Time</th>\n",
       "      <th>Matchweek</th>\n",
       "      <th>Day</th>\n",
       "      <th>Venue</th>\n",
       "      <th>Result</th>\n",
       "      <th>Goals Scored</th>\n",
       "      <th>Goals Conceded</th>\n",
       "      <th>Opponent</th>\n",
       "      <th>xG</th>\n",
       "      <th>xGA</th>\n",
       "      <th>Possession</th>\n",
       "      <th>Attendance</th>\n",
       "      <th>Captain</th>\n",
       "      <th>Formation</th>\n",
       "      <th>Opposition Formation</th>\n",
       "      <th>Referee</th>\n",
       "    </tr>\n",
       "  </thead>\n",
       "  <tbody>\n",
       "    <tr>\n",
       "      <th>0</th>\n",
       "      <td>0</td>\n",
       "      <td>2023-08-12</td>\n",
       "      <td>15:00</td>\n",
       "      <td>1</td>\n",
       "      <td>Sat</td>\n",
       "      <td>Away</td>\n",
       "      <td>D</td>\n",
       "      <td>1</td>\n",
       "      <td>1</td>\n",
       "      <td>Bournemouth</td>\n",
       "      <td>1.1</td>\n",
       "      <td>1.3</td>\n",
       "      <td>38</td>\n",
       "      <td>11,245</td>\n",
       "      <td>Kurt Zouma</td>\n",
       "      <td>4-2-3-1</td>\n",
       "      <td>4-2-3-1</td>\n",
       "      <td>Peter Bankes</td>\n",
       "    </tr>\n",
       "    <tr>\n",
       "      <th>1</th>\n",
       "      <td>1</td>\n",
       "      <td>2023-08-20</td>\n",
       "      <td>16:30</td>\n",
       "      <td>2</td>\n",
       "      <td>Sun</td>\n",
       "      <td>Home</td>\n",
       "      <td>W</td>\n",
       "      <td>3</td>\n",
       "      <td>1</td>\n",
       "      <td>Chelsea</td>\n",
       "      <td>1.8</td>\n",
       "      <td>2.5</td>\n",
       "      <td>25</td>\n",
       "      <td>62,451</td>\n",
       "      <td>Kurt Zouma</td>\n",
       "      <td>4-2-3-1</td>\n",
       "      <td>3-4-3</td>\n",
       "      <td>John Brooks</td>\n",
       "    </tr>\n",
       "    <tr>\n",
       "      <th>2</th>\n",
       "      <td>2</td>\n",
       "      <td>2023-08-26</td>\n",
       "      <td>17:30</td>\n",
       "      <td>3</td>\n",
       "      <td>Sat</td>\n",
       "      <td>Away</td>\n",
       "      <td>W</td>\n",
       "      <td>3</td>\n",
       "      <td>1</td>\n",
       "      <td>Brighton</td>\n",
       "      <td>3.0</td>\n",
       "      <td>1.5</td>\n",
       "      <td>22</td>\n",
       "      <td>31,508</td>\n",
       "      <td>Kurt Zouma</td>\n",
       "      <td>4-1-4-1</td>\n",
       "      <td>4-2-3-1</td>\n",
       "      <td>Anthony Taylor</td>\n",
       "    </tr>\n",
       "    <tr>\n",
       "      <th>3</th>\n",
       "      <td>3</td>\n",
       "      <td>2023-09-01</td>\n",
       "      <td>20:00</td>\n",
       "      <td>4</td>\n",
       "      <td>Fri</td>\n",
       "      <td>Away</td>\n",
       "      <td>W</td>\n",
       "      <td>2</td>\n",
       "      <td>1</td>\n",
       "      <td>Luton Town</td>\n",
       "      <td>1.0</td>\n",
       "      <td>1.4</td>\n",
       "      <td>61</td>\n",
       "      <td>10,802</td>\n",
       "      <td>Kurt Zouma</td>\n",
       "      <td>4-2-3-1</td>\n",
       "      <td>5-3-2</td>\n",
       "      <td>Paul Tierney</td>\n",
       "    </tr>\n",
       "    <tr>\n",
       "      <th>4</th>\n",
       "      <td>4</td>\n",
       "      <td>2023-09-16</td>\n",
       "      <td>15:00</td>\n",
       "      <td>5</td>\n",
       "      <td>Sat</td>\n",
       "      <td>Home</td>\n",
       "      <td>L</td>\n",
       "      <td>1</td>\n",
       "      <td>3</td>\n",
       "      <td>Manchester City</td>\n",
       "      <td>0.9</td>\n",
       "      <td>3.6</td>\n",
       "      <td>32</td>\n",
       "      <td>62,475</td>\n",
       "      <td>Kurt Zouma</td>\n",
       "      <td>4-2-3-1</td>\n",
       "      <td>4-2-3-1</td>\n",
       "      <td>Andy Madley</td>\n",
       "    </tr>\n",
       "  </tbody>\n",
       "</table>\n",
       "</div>"
      ],
      "text/plain": [
       "   Unnamed: 0        Date    Time  Matchweek  Day Venue Result  Goals Scored  \\\n",
       "0           0  2023-08-12  15:00           1  Sat  Away      D             1   \n",
       "1           1  2023-08-20  16:30           2  Sun  Home      W             3   \n",
       "2           2  2023-08-26  17:30           3  Sat  Away      W             3   \n",
       "3           3  2023-09-01  20:00           4  Fri  Away      W             2   \n",
       "4           4  2023-09-16  15:00           5  Sat  Home      L             1   \n",
       "\n",
       "   Goals Conceded         Opponent   xG  xGA  Possession Attendance  \\\n",
       "0               1      Bournemouth  1.1  1.3          38     11,245   \n",
       "1               1          Chelsea  1.8  2.5          25     62,451   \n",
       "2               1         Brighton  3.0  1.5          22     31,508   \n",
       "3               1       Luton Town  1.0  1.4          61     10,802   \n",
       "4               3  Manchester City  0.9  3.6          32     62,475   \n",
       "\n",
       "      Captain Formation Opposition Formation         Referee  \n",
       "0  Kurt Zouma   4-2-3-1              4-2-3-1    Peter Bankes  \n",
       "1  Kurt Zouma   4-2-3-1                3-4-3     John Brooks  \n",
       "2  Kurt Zouma   4-1-4-1              4-2-3-1  Anthony Taylor  \n",
       "3  Kurt Zouma   4-2-3-1                5-3-2    Paul Tierney  \n",
       "4  Kurt Zouma   4-2-3-1              4-2-3-1     Andy Madley  "
      ]
     },
     "execution_count": 102,
     "metadata": {},
     "output_type": "execute_result"
    }
   ],
   "source": [
    "team_finaldat.head()"
   ]
  },
  {
   "cell_type": "code",
   "execution_count": null,
   "metadata": {},
   "outputs": [],
   "source": [
    "#get rid of the first column \n",
    "team_finaldat = team_finaldat.drop(columns=['Unnamed: 0'])"
   ]
  },
  {
   "cell_type": "code",
   "execution_count": 106,
   "metadata": {},
   "outputs": [
    {
     "data": {
      "text/plain": [
       "5320"
      ]
     },
     "execution_count": 106,
     "metadata": {},
     "output_type": "execute_result"
    }
   ],
   "source": [
    "#now we want to double check that the dataframe has the correct number of rows. \n",
    "team_finaldat.shape[0]\n",
    "\n",
    "#so the dataframe has 5320 rows, we know each season has 380 games. we have 7 seasons worth of data. this means that there are 2660 \n",
    "# games worth of data. However, each game is double counted, because there are observations that correspond to one team being the 'Team' and the other\n",
    "#team being the 'Opponent'. Therefore, the number of observations in the dataframe makes sense"
   ]
  },
  {
   "cell_type": "markdown",
   "metadata": {},
   "source": [
    "We also notice that there is no column in the dataframe corresponding to the team. We should add this in to make it easier to integrate this data back into the player data we have. "
   ]
  },
  {
   "cell_type": "code",
   "execution_count": null,
   "metadata": {},
   "outputs": [
    {
     "data": {
      "text/plain": [
       "['westham_teamdat.csv',\n",
       " 'norwich_teamdat.csv',\n",
       " 'everton_teamdat.csv',\n",
       " 'fulham_teamdat.csv',\n",
       " 'nfo_teamdat.csv',\n",
       " 'cpa_teamdat.csv',\n",
       " 'burnley_teamdat.csv',\n",
       " 'southampton_teamdat.csv',\n",
       " 'stoke_teamdat.csv',\n",
       " 'cardiff_teamdat.csv',\n",
       " 'newcastle_teamdat.csv',\n",
       " 'brentford_teamdat.csv',\n",
       " 'astonvilla_teamdat.csv',\n",
       " 'westbrom_teamdat.csv',\n",
       " 'liverpool_teamdat.csv',\n",
       " 'wolves_teamdat.csv',\n",
       " 'huddersfield_teamdat.csv',\n",
       " 'chelsea_teamdat.csv',\n",
       " 'watford_teamdat.csv',\n",
       " 'spurs_teamdat.csv',\n",
       " 'bournemouth_teamdat.csv',\n",
       " 'leicester_teamdat.csv',\n",
       " 'leeds_teamdat.csv',\n",
       " 'mancity_teamdat.csv',\n",
       " 'bha_teamdat.csv',\n",
       " 'manunited_teamdat.csv',\n",
       " 'luton_teamdat.csv',\n",
       " 'sheffield_teamdat.csv',\n",
       " 'swansea_teamdat.csv',\n",
       " 'arsenal_teamdat.csv']"
      ]
     },
     "execution_count": 110,
     "metadata": {},
     "output_type": "execute_result"
    }
   ],
   "source": [
    "#get the order in which the files were appended to the final dataframe \n",
    "os.listdir(team_path)"
   ]
  },
  {
   "cell_type": "code",
   "execution_count": 133,
   "metadata": {},
   "outputs": [],
   "source": [
    "#get the number of rows in each of the csv files above \n",
    "team_rows = []\n",
    "for row in os.listdir(team_path):\n",
    "    df = pd.read_csv(os.path.join(team_path, row))\n",
    "    team_rows.append(df.shape[0])\n",
    "\n",
    "#get the teams list from above, and modify it so that it contains the actual team names we want to input as values in the 'Team' feature\n",
    "team_list = ['West Ham', 'Norwich City', 'Everton', 'Fulham', \"Nott'ham Forest\", 'Crystal Palace', 'Burnley', 'Southampton', 'Stoke City',\n",
    "             'Cardiff City', 'Newcastle Utd', 'Brentford', 'Aston Villa', 'West Brom', 'Liverpool', 'Wolves', 'Huddersfield', 'Chelsea', 'Watford', \n",
    "             'Tottenham', 'Bournemouth', 'Leicester City', 'Leeds United', 'Manchester City', 'Brighton', 'Manchester Utd', 'Luton Town', \n",
    "             'Sheffield Utd', 'Swansea City', 'Arsenal']\n",
    "\n",
    "#now we construct the 'Team' feature \n",
    "team_finaldat['Team'] = None\n",
    "\n",
    "#index for filling\n",
    "start_index = 0\n",
    "\n",
    "#loop through team_list and team_rows\n",
    "for team, n in zip(team_list, team_rows):\n",
    "    #we fill in team for the first n rows, where n is the first number in the team_rows list \n",
    "    team_finaldat.loc[start_index:start_index + n - 1, 'Team'] = team\n",
    "    #update start index\n",
    "    start_index += n"
   ]
  },
  {
   "cell_type": "code",
   "execution_count": 136,
   "metadata": {},
   "outputs": [],
   "source": [
    "#we now export the final version with 'Team' feature included\n",
    "team_finaldat.to_csv(os.path.join(\"\", \"team_finaldat.csv\"))"
   ]
  }
 ],
 "metadata": {
  "kernelspec": {
   "display_name": "myenv",
   "language": "python",
   "name": "python3"
  },
  "language_info": {
   "codemirror_mode": {
    "name": "ipython",
    "version": 3
   },
   "file_extension": ".py",
   "mimetype": "text/x-python",
   "name": "python",
   "nbconvert_exporter": "python",
   "pygments_lexer": "ipython3",
   "version": "3.10.13"
  }
 },
 "nbformat": 4,
 "nbformat_minor": 2
}
